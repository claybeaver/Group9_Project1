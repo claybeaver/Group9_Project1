{
 "cells": [
  {
   "cell_type": "code",
   "execution_count": 4,
   "metadata": {},
   "outputs": [],
   "source": [
    "import pandas as pd"
   ]
  },
  {
   "cell_type": "code",
   "execution_count": 12,
   "metadata": {},
   "outputs": [],
   "source": [
    "aal_clean_df = pd.read_csv('AAL_clean.csv')\n",
    "bac_clean_df = pd.read_csv('BAC_clean.csv')\n",
    "dal_clean_df = pd.read_csv('DAL_clean.csv')\n",
    "sp500_clean_df = pd.read_csv('S&P500_clean.csv')\n",
    "wfc_clean_df = pd.read_csv('WFC_clean.csv')\n",
    "aal_clean_df = aal_clean_df[['Date','AAL']]\n",
    "bac_clean_df = bac_clean_df[['Date','BAC']]\n",
    "dal_clean_df = dal_clean_df[['Date','DAL']]\n",
    "sp500_clean_df = sp500_clean_df[['Date','S&P500']]\n",
    "wfc_clean_df = wfc_clean_df[['Date','WFC']]"
   ]
  },
  {
   "cell_type": "code",
   "execution_count": 13,
   "metadata": {},
   "outputs": [
    {
     "data": {
      "text/html": [
       "<div>\n",
       "<style scoped>\n",
       "    .dataframe tbody tr th:only-of-type {\n",
       "        vertical-align: middle;\n",
       "    }\n",
       "\n",
       "    .dataframe tbody tr th {\n",
       "        vertical-align: top;\n",
       "    }\n",
       "\n",
       "    .dataframe thead th {\n",
       "        text-align: right;\n",
       "    }\n",
       "</style>\n",
       "<table border=\"1\" class=\"dataframe\">\n",
       "  <thead>\n",
       "    <tr style=\"text-align: right;\">\n",
       "      <th></th>\n",
       "      <th>Date</th>\n",
       "      <th>AAL</th>\n",
       "      <th>BAC</th>\n",
       "    </tr>\n",
       "  </thead>\n",
       "  <tbody>\n",
       "    <tr>\n",
       "      <th>0</th>\n",
       "      <td>2010-01-01</td>\n",
       "      <td>5.005957</td>\n",
       "      <td>13.460909</td>\n",
       "    </tr>\n",
       "    <tr>\n",
       "      <th>1</th>\n",
       "      <td>2010-02-01</td>\n",
       "      <td>6.910295</td>\n",
       "      <td>14.773309</td>\n",
       "    </tr>\n",
       "    <tr>\n",
       "      <th>2</th>\n",
       "      <td>2010-03-01</td>\n",
       "      <td>6.929150</td>\n",
       "      <td>15.828542</td>\n",
       "    </tr>\n",
       "    <tr>\n",
       "      <th>3</th>\n",
       "      <td>2010-04-01</td>\n",
       "      <td>6.665183</td>\n",
       "      <td>15.820416</td>\n",
       "    </tr>\n",
       "    <tr>\n",
       "      <th>4</th>\n",
       "      <td>2010-05-01</td>\n",
       "      <td>8.324407</td>\n",
       "      <td>13.965980</td>\n",
       "    </tr>\n",
       "  </tbody>\n",
       "</table>\n",
       "</div>"
      ],
      "text/plain": [
       "         Date       AAL        BAC\n",
       "0  2010-01-01  5.005957  13.460909\n",
       "1  2010-02-01  6.910295  14.773309\n",
       "2  2010-03-01  6.929150  15.828542\n",
       "3  2010-04-01  6.665183  15.820416\n",
       "4  2010-05-01  8.324407  13.965980"
      ]
     },
     "execution_count": 13,
     "metadata": {},
     "output_type": "execute_result"
    }
   ],
   "source": [
    "clay_merged_df1 = pd.merge(aal_clean_df,bac_clean_df, on=\"Date\")\n",
    "clay_merged_df1.head()"
   ]
  },
  {
   "cell_type": "code",
   "execution_count": 15,
   "metadata": {},
   "outputs": [
    {
     "data": {
      "text/html": [
       "<div>\n",
       "<style scoped>\n",
       "    .dataframe tbody tr th:only-of-type {\n",
       "        vertical-align: middle;\n",
       "    }\n",
       "\n",
       "    .dataframe tbody tr th {\n",
       "        vertical-align: top;\n",
       "    }\n",
       "\n",
       "    .dataframe thead th {\n",
       "        text-align: right;\n",
       "    }\n",
       "</style>\n",
       "<table border=\"1\" class=\"dataframe\">\n",
       "  <thead>\n",
       "    <tr style=\"text-align: right;\">\n",
       "      <th></th>\n",
       "      <th>Date</th>\n",
       "      <th>DAL</th>\n",
       "      <th>S&amp;P500</th>\n",
       "    </tr>\n",
       "  </thead>\n",
       "  <tbody>\n",
       "    <tr>\n",
       "      <th>0</th>\n",
       "      <td>2010-01-01</td>\n",
       "      <td>10.863926</td>\n",
       "      <td>1073.869995</td>\n",
       "    </tr>\n",
       "    <tr>\n",
       "      <th>1</th>\n",
       "      <td>2010-02-01</td>\n",
       "      <td>11.476853</td>\n",
       "      <td>1104.489990</td>\n",
       "    </tr>\n",
       "    <tr>\n",
       "      <th>2</th>\n",
       "      <td>2010-03-01</td>\n",
       "      <td>12.960317</td>\n",
       "      <td>1169.430054</td>\n",
       "    </tr>\n",
       "    <tr>\n",
       "      <th>3</th>\n",
       "      <td>2010-04-01</td>\n",
       "      <td>10.730680</td>\n",
       "      <td>1186.689941</td>\n",
       "    </tr>\n",
       "    <tr>\n",
       "      <th>4</th>\n",
       "      <td>2010-05-01</td>\n",
       "      <td>12.063131</td>\n",
       "      <td>1089.410034</td>\n",
       "    </tr>\n",
       "  </tbody>\n",
       "</table>\n",
       "</div>"
      ],
      "text/plain": [
       "         Date        DAL       S&P500\n",
       "0  2010-01-01  10.863926  1073.869995\n",
       "1  2010-02-01  11.476853  1104.489990\n",
       "2  2010-03-01  12.960317  1169.430054\n",
       "3  2010-04-01  10.730680  1186.689941\n",
       "4  2010-05-01  12.063131  1089.410034"
      ]
     },
     "execution_count": 15,
     "metadata": {},
     "output_type": "execute_result"
    }
   ],
   "source": [
    "clay_merged_df2 = pd.merge(dal_clean_df,sp500_clean_df, on=\"Date\")\n",
    "clay_merged_df2.head()"
   ]
  },
  {
   "cell_type": "code",
   "execution_count": 18,
   "metadata": {},
   "outputs": [
    {
     "data": {
      "text/html": [
       "<div>\n",
       "<style scoped>\n",
       "    .dataframe tbody tr th:only-of-type {\n",
       "        vertical-align: middle;\n",
       "    }\n",
       "\n",
       "    .dataframe tbody tr th {\n",
       "        vertical-align: top;\n",
       "    }\n",
       "\n",
       "    .dataframe thead th {\n",
       "        text-align: right;\n",
       "    }\n",
       "</style>\n",
       "<table border=\"1\" class=\"dataframe\">\n",
       "  <thead>\n",
       "    <tr style=\"text-align: right;\">\n",
       "      <th></th>\n",
       "      <th>Date</th>\n",
       "      <th>AAL</th>\n",
       "      <th>BAC</th>\n",
       "      <th>DAL</th>\n",
       "      <th>S&amp;P500</th>\n",
       "    </tr>\n",
       "  </thead>\n",
       "  <tbody>\n",
       "    <tr>\n",
       "      <th>0</th>\n",
       "      <td>2010-01-01</td>\n",
       "      <td>5.005957</td>\n",
       "      <td>13.460909</td>\n",
       "      <td>10.863926</td>\n",
       "      <td>1073.869995</td>\n",
       "    </tr>\n",
       "    <tr>\n",
       "      <th>1</th>\n",
       "      <td>2010-02-01</td>\n",
       "      <td>6.910295</td>\n",
       "      <td>14.773309</td>\n",
       "      <td>11.476853</td>\n",
       "      <td>1104.489990</td>\n",
       "    </tr>\n",
       "    <tr>\n",
       "      <th>2</th>\n",
       "      <td>2010-03-01</td>\n",
       "      <td>6.929150</td>\n",
       "      <td>15.828542</td>\n",
       "      <td>12.960317</td>\n",
       "      <td>1169.430054</td>\n",
       "    </tr>\n",
       "    <tr>\n",
       "      <th>3</th>\n",
       "      <td>2010-04-01</td>\n",
       "      <td>6.665183</td>\n",
       "      <td>15.820416</td>\n",
       "      <td>10.730680</td>\n",
       "      <td>1186.689941</td>\n",
       "    </tr>\n",
       "    <tr>\n",
       "      <th>4</th>\n",
       "      <td>2010-05-01</td>\n",
       "      <td>8.324407</td>\n",
       "      <td>13.965980</td>\n",
       "      <td>12.063131</td>\n",
       "      <td>1089.410034</td>\n",
       "    </tr>\n",
       "  </tbody>\n",
       "</table>\n",
       "</div>"
      ],
      "text/plain": [
       "         Date       AAL        BAC        DAL       S&P500\n",
       "0  2010-01-01  5.005957  13.460909  10.863926  1073.869995\n",
       "1  2010-02-01  6.910295  14.773309  11.476853  1104.489990\n",
       "2  2010-03-01  6.929150  15.828542  12.960317  1169.430054\n",
       "3  2010-04-01  6.665183  15.820416  10.730680  1186.689941\n",
       "4  2010-05-01  8.324407  13.965980  12.063131  1089.410034"
      ]
     },
     "execution_count": 18,
     "metadata": {},
     "output_type": "execute_result"
    }
   ],
   "source": [
    "clay_merged_df3 = pd.merge(clay_merged_df1,clay_merged_df2, on=\"Date\")\n",
    "clay_merged_df3.head()"
   ]
  },
  {
   "cell_type": "code",
   "execution_count": 21,
   "metadata": {},
   "outputs": [
    {
     "data": {
      "text/html": [
       "<div>\n",
       "<style scoped>\n",
       "    .dataframe tbody tr th:only-of-type {\n",
       "        vertical-align: middle;\n",
       "    }\n",
       "\n",
       "    .dataframe tbody tr th {\n",
       "        vertical-align: top;\n",
       "    }\n",
       "\n",
       "    .dataframe thead th {\n",
       "        text-align: right;\n",
       "    }\n",
       "</style>\n",
       "<table border=\"1\" class=\"dataframe\">\n",
       "  <thead>\n",
       "    <tr style=\"text-align: right;\">\n",
       "      <th></th>\n",
       "      <th>Date</th>\n",
       "      <th>AAL</th>\n",
       "      <th>BAC</th>\n",
       "      <th>DAL</th>\n",
       "      <th>S&amp;P500</th>\n",
       "      <th>WFC</th>\n",
       "    </tr>\n",
       "  </thead>\n",
       "  <tbody>\n",
       "    <tr>\n",
       "      <th>0</th>\n",
       "      <td>2010-01-01</td>\n",
       "      <td>5.005957</td>\n",
       "      <td>13.460909</td>\n",
       "      <td>10.863926</td>\n",
       "      <td>1073.869995</td>\n",
       "      <td>21.231312</td>\n",
       "    </tr>\n",
       "    <tr>\n",
       "      <th>1</th>\n",
       "      <td>2010-02-01</td>\n",
       "      <td>6.910295</td>\n",
       "      <td>14.773309</td>\n",
       "      <td>11.476853</td>\n",
       "      <td>1104.489990</td>\n",
       "      <td>20.417307</td>\n",
       "    </tr>\n",
       "    <tr>\n",
       "      <th>2</th>\n",
       "      <td>2010-03-01</td>\n",
       "      <td>6.929150</td>\n",
       "      <td>15.828542</td>\n",
       "      <td>12.960317</td>\n",
       "      <td>1169.430054</td>\n",
       "      <td>23.280611</td>\n",
       "    </tr>\n",
       "    <tr>\n",
       "      <th>3</th>\n",
       "      <td>2010-04-01</td>\n",
       "      <td>6.665183</td>\n",
       "      <td>15.820416</td>\n",
       "      <td>10.730680</td>\n",
       "      <td>1186.689941</td>\n",
       "      <td>24.769310</td>\n",
       "    </tr>\n",
       "    <tr>\n",
       "      <th>4</th>\n",
       "      <td>2010-05-01</td>\n",
       "      <td>8.324407</td>\n",
       "      <td>13.965980</td>\n",
       "      <td>12.063131</td>\n",
       "      <td>1089.410034</td>\n",
       "      <td>21.462746</td>\n",
       "    </tr>\n",
       "  </tbody>\n",
       "</table>\n",
       "</div>"
      ],
      "text/plain": [
       "         Date       AAL        BAC        DAL       S&P500        WFC\n",
       "0  2010-01-01  5.005957  13.460909  10.863926  1073.869995  21.231312\n",
       "1  2010-02-01  6.910295  14.773309  11.476853  1104.489990  20.417307\n",
       "2  2010-03-01  6.929150  15.828542  12.960317  1169.430054  23.280611\n",
       "3  2010-04-01  6.665183  15.820416  10.730680  1186.689941  24.769310\n",
       "4  2010-05-01  8.324407  13.965980  12.063131  1089.410034  21.462746"
      ]
     },
     "execution_count": 21,
     "metadata": {},
     "output_type": "execute_result"
    }
   ],
   "source": [
    "clay_finalmerged_df = pd.merge(clay_merged_df3,wfc_clean_df, on=\"Date\")\n",
    "clay_finalmerged_df.head()"
   ]
  },
  {
   "cell_type": "code",
   "execution_count": 23,
   "metadata": {},
   "outputs": [
    {
     "data": {
      "text/plain": [
       "120"
      ]
     },
     "execution_count": 23,
     "metadata": {},
     "output_type": "execute_result"
    }
   ],
   "source": [
    "len(clay_finalmerged_df)"
   ]
  },
  {
   "cell_type": "code",
   "execution_count": 24,
   "metadata": {},
   "outputs": [],
   "source": [
    "clay_finalmerged_df.to_csv('Clay_dataclean.csv', encoding=\"utf-8\", index=False)"
   ]
  },
  {
   "cell_type": "code",
   "execution_count": null,
   "metadata": {},
   "outputs": [],
   "source": []
  }
 ],
 "metadata": {
  "kernelspec": {
   "display_name": "Python [conda env:PythonData] *",
   "language": "python",
   "name": "conda-env-PythonData-py"
  },
  "language_info": {
   "codemirror_mode": {
    "name": "ipython",
    "version": 3
   },
   "file_extension": ".py",
   "mimetype": "text/x-python",
   "name": "python",
   "nbconvert_exporter": "python",
   "pygments_lexer": "ipython3",
   "version": "3.8.2"
  }
 },
 "nbformat": 4,
 "nbformat_minor": 4
}

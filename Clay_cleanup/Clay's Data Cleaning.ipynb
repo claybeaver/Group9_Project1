{
 "cells": [
  {
   "cell_type": "code",
   "execution_count": 1,
   "metadata": {},
   "outputs": [],
   "source": [
    "import pandas as pd"
   ]
  },
  {
   "cell_type": "code",
   "execution_count": 60,
   "metadata": {},
   "outputs": [],
   "source": [
    "# IMPORT RAW DATA FOR S&P500, AAL, DAL, BAC, WFC\n",
    "# RENAME ADJ CLOSE COLUMN TO TICKER SYMBOL\n",
    "# CONSOLIDATE DATAFRAME INTO TWO COLUMNS, 'DATE' & 'TICKER SYMBOL'\n",
    "# CHECK TO MAKE SURE DATAFRAME LENGTH IS 120 AND NO NULL VALUES\n",
    "# SAVE DATAFRAME TO A NEW CSV FILE NAMED <TICKER>_clean.csv"
   ]
  },
  {
   "cell_type": "code",
   "execution_count": 2,
   "metadata": {},
   "outputs": [],
   "source": [
    "# S&P500\n",
    "sp500_df = pd.read_csv(\"^GSPC.csv\")"
   ]
  },
  {
   "cell_type": "code",
   "execution_count": 3,
   "metadata": {},
   "outputs": [
    {
     "data": {
      "text/html": [
       "<div>\n",
       "<style scoped>\n",
       "    .dataframe tbody tr th:only-of-type {\n",
       "        vertical-align: middle;\n",
       "    }\n",
       "\n",
       "    .dataframe tbody tr th {\n",
       "        vertical-align: top;\n",
       "    }\n",
       "\n",
       "    .dataframe thead th {\n",
       "        text-align: right;\n",
       "    }\n",
       "</style>\n",
       "<table border=\"1\" class=\"dataframe\">\n",
       "  <thead>\n",
       "    <tr style=\"text-align: right;\">\n",
       "      <th></th>\n",
       "      <th>Date</th>\n",
       "      <th>Open</th>\n",
       "      <th>High</th>\n",
       "      <th>Low</th>\n",
       "      <th>Close</th>\n",
       "      <th>Adj Close</th>\n",
       "      <th>Volume</th>\n",
       "    </tr>\n",
       "  </thead>\n",
       "  <tbody>\n",
       "    <tr>\n",
       "      <th>0</th>\n",
       "      <td>2010-01-01</td>\n",
       "      <td>1116.560059</td>\n",
       "      <td>1150.449951</td>\n",
       "      <td>1071.589966</td>\n",
       "      <td>1073.869995</td>\n",
       "      <td>1073.869995</td>\n",
       "      <td>90947580000</td>\n",
       "    </tr>\n",
       "    <tr>\n",
       "      <th>1</th>\n",
       "      <td>2010-02-01</td>\n",
       "      <td>1073.890015</td>\n",
       "      <td>1112.420044</td>\n",
       "      <td>1044.500000</td>\n",
       "      <td>1104.489990</td>\n",
       "      <td>1104.489990</td>\n",
       "      <td>84561340000</td>\n",
       "    </tr>\n",
       "    <tr>\n",
       "      <th>2</th>\n",
       "      <td>2010-03-01</td>\n",
       "      <td>1105.359985</td>\n",
       "      <td>1180.689941</td>\n",
       "      <td>1105.359985</td>\n",
       "      <td>1169.430054</td>\n",
       "      <td>1169.430054</td>\n",
       "      <td>103683550000</td>\n",
       "    </tr>\n",
       "    <tr>\n",
       "      <th>3</th>\n",
       "      <td>2010-04-01</td>\n",
       "      <td>1171.229980</td>\n",
       "      <td>1219.800049</td>\n",
       "      <td>1170.689941</td>\n",
       "      <td>1186.689941</td>\n",
       "      <td>1186.689941</td>\n",
       "      <td>116741910000</td>\n",
       "    </tr>\n",
       "    <tr>\n",
       "      <th>4</th>\n",
       "      <td>2010-05-01</td>\n",
       "      <td>1188.579956</td>\n",
       "      <td>1205.130005</td>\n",
       "      <td>1040.780029</td>\n",
       "      <td>1089.410034</td>\n",
       "      <td>1089.410034</td>\n",
       "      <td>127662780000</td>\n",
       "    </tr>\n",
       "  </tbody>\n",
       "</table>\n",
       "</div>"
      ],
      "text/plain": [
       "         Date         Open         High          Low        Close  \\\n",
       "0  2010-01-01  1116.560059  1150.449951  1071.589966  1073.869995   \n",
       "1  2010-02-01  1073.890015  1112.420044  1044.500000  1104.489990   \n",
       "2  2010-03-01  1105.359985  1180.689941  1105.359985  1169.430054   \n",
       "3  2010-04-01  1171.229980  1219.800049  1170.689941  1186.689941   \n",
       "4  2010-05-01  1188.579956  1205.130005  1040.780029  1089.410034   \n",
       "\n",
       "     Adj Close        Volume  \n",
       "0  1073.869995   90947580000  \n",
       "1  1104.489990   84561340000  \n",
       "2  1169.430054  103683550000  \n",
       "3  1186.689941  116741910000  \n",
       "4  1089.410034  127662780000  "
      ]
     },
     "execution_count": 3,
     "metadata": {},
     "output_type": "execute_result"
    }
   ],
   "source": [
    "sp500_df.head()"
   ]
  },
  {
   "cell_type": "code",
   "execution_count": 4,
   "metadata": {},
   "outputs": [
    {
     "data": {
      "text/html": [
       "<div>\n",
       "<style scoped>\n",
       "    .dataframe tbody tr th:only-of-type {\n",
       "        vertical-align: middle;\n",
       "    }\n",
       "\n",
       "    .dataframe tbody tr th {\n",
       "        vertical-align: top;\n",
       "    }\n",
       "\n",
       "    .dataframe thead th {\n",
       "        text-align: right;\n",
       "    }\n",
       "</style>\n",
       "<table border=\"1\" class=\"dataframe\">\n",
       "  <thead>\n",
       "    <tr style=\"text-align: right;\">\n",
       "      <th></th>\n",
       "      <th>Date</th>\n",
       "      <th>Open</th>\n",
       "      <th>High</th>\n",
       "      <th>Low</th>\n",
       "      <th>Close</th>\n",
       "      <th>S&amp;P500</th>\n",
       "      <th>Volume</th>\n",
       "    </tr>\n",
       "  </thead>\n",
       "  <tbody>\n",
       "    <tr>\n",
       "      <th>0</th>\n",
       "      <td>2010-01-01</td>\n",
       "      <td>1116.560059</td>\n",
       "      <td>1150.449951</td>\n",
       "      <td>1071.589966</td>\n",
       "      <td>1073.869995</td>\n",
       "      <td>1073.869995</td>\n",
       "      <td>90947580000</td>\n",
       "    </tr>\n",
       "    <tr>\n",
       "      <th>1</th>\n",
       "      <td>2010-02-01</td>\n",
       "      <td>1073.890015</td>\n",
       "      <td>1112.420044</td>\n",
       "      <td>1044.500000</td>\n",
       "      <td>1104.489990</td>\n",
       "      <td>1104.489990</td>\n",
       "      <td>84561340000</td>\n",
       "    </tr>\n",
       "    <tr>\n",
       "      <th>2</th>\n",
       "      <td>2010-03-01</td>\n",
       "      <td>1105.359985</td>\n",
       "      <td>1180.689941</td>\n",
       "      <td>1105.359985</td>\n",
       "      <td>1169.430054</td>\n",
       "      <td>1169.430054</td>\n",
       "      <td>103683550000</td>\n",
       "    </tr>\n",
       "    <tr>\n",
       "      <th>3</th>\n",
       "      <td>2010-04-01</td>\n",
       "      <td>1171.229980</td>\n",
       "      <td>1219.800049</td>\n",
       "      <td>1170.689941</td>\n",
       "      <td>1186.689941</td>\n",
       "      <td>1186.689941</td>\n",
       "      <td>116741910000</td>\n",
       "    </tr>\n",
       "    <tr>\n",
       "      <th>4</th>\n",
       "      <td>2010-05-01</td>\n",
       "      <td>1188.579956</td>\n",
       "      <td>1205.130005</td>\n",
       "      <td>1040.780029</td>\n",
       "      <td>1089.410034</td>\n",
       "      <td>1089.410034</td>\n",
       "      <td>127662780000</td>\n",
       "    </tr>\n",
       "  </tbody>\n",
       "</table>\n",
       "</div>"
      ],
      "text/plain": [
       "         Date         Open         High          Low        Close  \\\n",
       "0  2010-01-01  1116.560059  1150.449951  1071.589966  1073.869995   \n",
       "1  2010-02-01  1073.890015  1112.420044  1044.500000  1104.489990   \n",
       "2  2010-03-01  1105.359985  1180.689941  1105.359985  1169.430054   \n",
       "3  2010-04-01  1171.229980  1219.800049  1170.689941  1186.689941   \n",
       "4  2010-05-01  1188.579956  1205.130005  1040.780029  1089.410034   \n",
       "\n",
       "        S&P500        Volume  \n",
       "0  1073.869995   90947580000  \n",
       "1  1104.489990   84561340000  \n",
       "2  1169.430054  103683550000  \n",
       "3  1186.689941  116741910000  \n",
       "4  1089.410034  127662780000  "
      ]
     },
     "execution_count": 4,
     "metadata": {},
     "output_type": "execute_result"
    }
   ],
   "source": [
    "sp500_df = sp500_df.rename(columns = {'Adj Close': 'S&P500'})\n",
    "sp500_df.head()"
   ]
  },
  {
   "cell_type": "code",
   "execution_count": 5,
   "metadata": {},
   "outputs": [
    {
     "data": {
      "text/html": [
       "<div>\n",
       "<style scoped>\n",
       "    .dataframe tbody tr th:only-of-type {\n",
       "        vertical-align: middle;\n",
       "    }\n",
       "\n",
       "    .dataframe tbody tr th {\n",
       "        vertical-align: top;\n",
       "    }\n",
       "\n",
       "    .dataframe thead th {\n",
       "        text-align: right;\n",
       "    }\n",
       "</style>\n",
       "<table border=\"1\" class=\"dataframe\">\n",
       "  <thead>\n",
       "    <tr style=\"text-align: right;\">\n",
       "      <th></th>\n",
       "      <th>Date</th>\n",
       "      <th>S&amp;P500</th>\n",
       "    </tr>\n",
       "  </thead>\n",
       "  <tbody>\n",
       "    <tr>\n",
       "      <th>0</th>\n",
       "      <td>2010-01-01</td>\n",
       "      <td>1073.869995</td>\n",
       "    </tr>\n",
       "    <tr>\n",
       "      <th>1</th>\n",
       "      <td>2010-02-01</td>\n",
       "      <td>1104.489990</td>\n",
       "    </tr>\n",
       "    <tr>\n",
       "      <th>2</th>\n",
       "      <td>2010-03-01</td>\n",
       "      <td>1169.430054</td>\n",
       "    </tr>\n",
       "    <tr>\n",
       "      <th>3</th>\n",
       "      <td>2010-04-01</td>\n",
       "      <td>1186.689941</td>\n",
       "    </tr>\n",
       "    <tr>\n",
       "      <th>4</th>\n",
       "      <td>2010-05-01</td>\n",
       "      <td>1089.410034</td>\n",
       "    </tr>\n",
       "  </tbody>\n",
       "</table>\n",
       "</div>"
      ],
      "text/plain": [
       "         Date       S&P500\n",
       "0  2010-01-01  1073.869995\n",
       "1  2010-02-01  1104.489990\n",
       "2  2010-03-01  1169.430054\n",
       "3  2010-04-01  1186.689941\n",
       "4  2010-05-01  1089.410034"
      ]
     },
     "execution_count": 5,
     "metadata": {},
     "output_type": "execute_result"
    }
   ],
   "source": [
    "sp500_clean = sp500_df[['Date','S&P500']]\n",
    "sp500_clean.head()"
   ]
  },
  {
   "cell_type": "code",
   "execution_count": 6,
   "metadata": {},
   "outputs": [
    {
     "data": {
      "text/plain": [
       "120"
      ]
     },
     "execution_count": 6,
     "metadata": {},
     "output_type": "execute_result"
    }
   ],
   "source": [
    "len(sp500_clean)"
   ]
  },
  {
   "cell_type": "code",
   "execution_count": 7,
   "metadata": {},
   "outputs": [
    {
     "data": {
      "text/plain": [
       "120"
      ]
     },
     "execution_count": 7,
     "metadata": {},
     "output_type": "execute_result"
    }
   ],
   "source": [
    "len(sp500_clean.dropna())"
   ]
  },
  {
   "cell_type": "code",
   "execution_count": 19,
   "metadata": {},
   "outputs": [],
   "source": [
    "sp500_clean.to_csv(r'C:\\Users\\Clay\\Desktop\\Group9_Project1\\Data_Analysis\\S&P500_clean.csv')"
   ]
  },
  {
   "cell_type": "code",
   "execution_count": null,
   "metadata": {},
   "outputs": [],
   "source": [
    "#######################################################################################"
   ]
  },
  {
   "cell_type": "code",
   "execution_count": 11,
   "metadata": {},
   "outputs": [],
   "source": [
    "# AAL\n",
    "aal_df = pd.read_csv(\"AAL.csv\")"
   ]
  },
  {
   "cell_type": "code",
   "execution_count": 12,
   "metadata": {},
   "outputs": [
    {
     "data": {
      "text/html": [
       "<div>\n",
       "<style scoped>\n",
       "    .dataframe tbody tr th:only-of-type {\n",
       "        vertical-align: middle;\n",
       "    }\n",
       "\n",
       "    .dataframe tbody tr th {\n",
       "        vertical-align: top;\n",
       "    }\n",
       "\n",
       "    .dataframe thead th {\n",
       "        text-align: right;\n",
       "    }\n",
       "</style>\n",
       "<table border=\"1\" class=\"dataframe\">\n",
       "  <thead>\n",
       "    <tr style=\"text-align: right;\">\n",
       "      <th></th>\n",
       "      <th>Date</th>\n",
       "      <th>Open</th>\n",
       "      <th>High</th>\n",
       "      <th>Low</th>\n",
       "      <th>Close</th>\n",
       "      <th>Adj Close</th>\n",
       "      <th>Volume</th>\n",
       "    </tr>\n",
       "  </thead>\n",
       "  <tbody>\n",
       "    <tr>\n",
       "      <th>0</th>\n",
       "      <td>2010-01-01</td>\n",
       "      <td>4.84</td>\n",
       "      <td>5.96</td>\n",
       "      <td>4.47</td>\n",
       "      <td>5.31</td>\n",
       "      <td>5.005957</td>\n",
       "      <td>262480900</td>\n",
       "    </tr>\n",
       "    <tr>\n",
       "      <th>1</th>\n",
       "      <td>2010-02-01</td>\n",
       "      <td>5.43</td>\n",
       "      <td>7.40</td>\n",
       "      <td>5.35</td>\n",
       "      <td>7.33</td>\n",
       "      <td>6.910295</td>\n",
       "      <td>230715100</td>\n",
       "    </tr>\n",
       "    <tr>\n",
       "      <th>2</th>\n",
       "      <td>2010-03-01</td>\n",
       "      <td>7.41</td>\n",
       "      <td>8.17</td>\n",
       "      <td>6.81</td>\n",
       "      <td>7.35</td>\n",
       "      <td>6.929150</td>\n",
       "      <td>173820100</td>\n",
       "    </tr>\n",
       "    <tr>\n",
       "      <th>3</th>\n",
       "      <td>2010-04-01</td>\n",
       "      <td>7.37</td>\n",
       "      <td>7.87</td>\n",
       "      <td>6.27</td>\n",
       "      <td>7.07</td>\n",
       "      <td>6.665183</td>\n",
       "      <td>326723600</td>\n",
       "    </tr>\n",
       "    <tr>\n",
       "      <th>4</th>\n",
       "      <td>2010-05-01</td>\n",
       "      <td>7.21</td>\n",
       "      <td>8.97</td>\n",
       "      <td>5.70</td>\n",
       "      <td>8.83</td>\n",
       "      <td>8.324407</td>\n",
       "      <td>262008300</td>\n",
       "    </tr>\n",
       "  </tbody>\n",
       "</table>\n",
       "</div>"
      ],
      "text/plain": [
       "         Date  Open  High   Low  Close  Adj Close     Volume\n",
       "0  2010-01-01  4.84  5.96  4.47   5.31   5.005957  262480900\n",
       "1  2010-02-01  5.43  7.40  5.35   7.33   6.910295  230715100\n",
       "2  2010-03-01  7.41  8.17  6.81   7.35   6.929150  173820100\n",
       "3  2010-04-01  7.37  7.87  6.27   7.07   6.665183  326723600\n",
       "4  2010-05-01  7.21  8.97  5.70   8.83   8.324407  262008300"
      ]
     },
     "execution_count": 12,
     "metadata": {},
     "output_type": "execute_result"
    }
   ],
   "source": [
    "aal_df.head()"
   ]
  },
  {
   "cell_type": "code",
   "execution_count": 13,
   "metadata": {},
   "outputs": [
    {
     "data": {
      "text/html": [
       "<div>\n",
       "<style scoped>\n",
       "    .dataframe tbody tr th:only-of-type {\n",
       "        vertical-align: middle;\n",
       "    }\n",
       "\n",
       "    .dataframe tbody tr th {\n",
       "        vertical-align: top;\n",
       "    }\n",
       "\n",
       "    .dataframe thead th {\n",
       "        text-align: right;\n",
       "    }\n",
       "</style>\n",
       "<table border=\"1\" class=\"dataframe\">\n",
       "  <thead>\n",
       "    <tr style=\"text-align: right;\">\n",
       "      <th></th>\n",
       "      <th>Date</th>\n",
       "      <th>Open</th>\n",
       "      <th>High</th>\n",
       "      <th>Low</th>\n",
       "      <th>Close</th>\n",
       "      <th>AAL</th>\n",
       "      <th>Volume</th>\n",
       "    </tr>\n",
       "  </thead>\n",
       "  <tbody>\n",
       "    <tr>\n",
       "      <th>0</th>\n",
       "      <td>2010-01-01</td>\n",
       "      <td>4.84</td>\n",
       "      <td>5.96</td>\n",
       "      <td>4.47</td>\n",
       "      <td>5.31</td>\n",
       "      <td>5.005957</td>\n",
       "      <td>262480900</td>\n",
       "    </tr>\n",
       "    <tr>\n",
       "      <th>1</th>\n",
       "      <td>2010-02-01</td>\n",
       "      <td>5.43</td>\n",
       "      <td>7.40</td>\n",
       "      <td>5.35</td>\n",
       "      <td>7.33</td>\n",
       "      <td>6.910295</td>\n",
       "      <td>230715100</td>\n",
       "    </tr>\n",
       "    <tr>\n",
       "      <th>2</th>\n",
       "      <td>2010-03-01</td>\n",
       "      <td>7.41</td>\n",
       "      <td>8.17</td>\n",
       "      <td>6.81</td>\n",
       "      <td>7.35</td>\n",
       "      <td>6.929150</td>\n",
       "      <td>173820100</td>\n",
       "    </tr>\n",
       "    <tr>\n",
       "      <th>3</th>\n",
       "      <td>2010-04-01</td>\n",
       "      <td>7.37</td>\n",
       "      <td>7.87</td>\n",
       "      <td>6.27</td>\n",
       "      <td>7.07</td>\n",
       "      <td>6.665183</td>\n",
       "      <td>326723600</td>\n",
       "    </tr>\n",
       "    <tr>\n",
       "      <th>4</th>\n",
       "      <td>2010-05-01</td>\n",
       "      <td>7.21</td>\n",
       "      <td>8.97</td>\n",
       "      <td>5.70</td>\n",
       "      <td>8.83</td>\n",
       "      <td>8.324407</td>\n",
       "      <td>262008300</td>\n",
       "    </tr>\n",
       "  </tbody>\n",
       "</table>\n",
       "</div>"
      ],
      "text/plain": [
       "         Date  Open  High   Low  Close       AAL     Volume\n",
       "0  2010-01-01  4.84  5.96  4.47   5.31  5.005957  262480900\n",
       "1  2010-02-01  5.43  7.40  5.35   7.33  6.910295  230715100\n",
       "2  2010-03-01  7.41  8.17  6.81   7.35  6.929150  173820100\n",
       "3  2010-04-01  7.37  7.87  6.27   7.07  6.665183  326723600\n",
       "4  2010-05-01  7.21  8.97  5.70   8.83  8.324407  262008300"
      ]
     },
     "execution_count": 13,
     "metadata": {},
     "output_type": "execute_result"
    }
   ],
   "source": [
    "aal_df = aal_df.rename(columns = {'Adj Close': 'AAL'})\n",
    "aal_df.head()"
   ]
  },
  {
   "cell_type": "code",
   "execution_count": 15,
   "metadata": {},
   "outputs": [
    {
     "data": {
      "text/html": [
       "<div>\n",
       "<style scoped>\n",
       "    .dataframe tbody tr th:only-of-type {\n",
       "        vertical-align: middle;\n",
       "    }\n",
       "\n",
       "    .dataframe tbody tr th {\n",
       "        vertical-align: top;\n",
       "    }\n",
       "\n",
       "    .dataframe thead th {\n",
       "        text-align: right;\n",
       "    }\n",
       "</style>\n",
       "<table border=\"1\" class=\"dataframe\">\n",
       "  <thead>\n",
       "    <tr style=\"text-align: right;\">\n",
       "      <th></th>\n",
       "      <th>Date</th>\n",
       "      <th>AAL</th>\n",
       "    </tr>\n",
       "  </thead>\n",
       "  <tbody>\n",
       "    <tr>\n",
       "      <th>0</th>\n",
       "      <td>2010-01-01</td>\n",
       "      <td>5.005957</td>\n",
       "    </tr>\n",
       "    <tr>\n",
       "      <th>1</th>\n",
       "      <td>2010-02-01</td>\n",
       "      <td>6.910295</td>\n",
       "    </tr>\n",
       "    <tr>\n",
       "      <th>2</th>\n",
       "      <td>2010-03-01</td>\n",
       "      <td>6.929150</td>\n",
       "    </tr>\n",
       "    <tr>\n",
       "      <th>3</th>\n",
       "      <td>2010-04-01</td>\n",
       "      <td>6.665183</td>\n",
       "    </tr>\n",
       "    <tr>\n",
       "      <th>4</th>\n",
       "      <td>2010-05-01</td>\n",
       "      <td>8.324407</td>\n",
       "    </tr>\n",
       "  </tbody>\n",
       "</table>\n",
       "</div>"
      ],
      "text/plain": [
       "         Date       AAL\n",
       "0  2010-01-01  5.005957\n",
       "1  2010-02-01  6.910295\n",
       "2  2010-03-01  6.929150\n",
       "3  2010-04-01  6.665183\n",
       "4  2010-05-01  8.324407"
      ]
     },
     "execution_count": 15,
     "metadata": {},
     "output_type": "execute_result"
    }
   ],
   "source": [
    "aal_clean = aal_df[['Date','AAL']]\n",
    "aal_clean.head()"
   ]
  },
  {
   "cell_type": "code",
   "execution_count": 16,
   "metadata": {},
   "outputs": [
    {
     "data": {
      "text/plain": [
       "120"
      ]
     },
     "execution_count": 16,
     "metadata": {},
     "output_type": "execute_result"
    }
   ],
   "source": [
    "len(aal_clean)"
   ]
  },
  {
   "cell_type": "code",
   "execution_count": 17,
   "metadata": {},
   "outputs": [
    {
     "data": {
      "text/plain": [
       "120"
      ]
     },
     "execution_count": 17,
     "metadata": {},
     "output_type": "execute_result"
    }
   ],
   "source": [
    "len(aal_clean.dropna())"
   ]
  },
  {
   "cell_type": "code",
   "execution_count": 22,
   "metadata": {},
   "outputs": [],
   "source": [
    "aal_clean.to_csv(r'C:\\Users\\Clay\\Desktop\\Group9_Project1\\Data_Analysis\\AAL_clean.csv')"
   ]
  },
  {
   "cell_type": "code",
   "execution_count": null,
   "metadata": {},
   "outputs": [],
   "source": [
    "#######################################################################################"
   ]
  },
  {
   "cell_type": "code",
   "execution_count": 23,
   "metadata": {},
   "outputs": [],
   "source": [
    "# DAL\n",
    "dal_df = pd.read_csv('DAL.csv')"
   ]
  },
  {
   "cell_type": "code",
   "execution_count": 24,
   "metadata": {},
   "outputs": [
    {
     "data": {
      "text/html": [
       "<div>\n",
       "<style scoped>\n",
       "    .dataframe tbody tr th:only-of-type {\n",
       "        vertical-align: middle;\n",
       "    }\n",
       "\n",
       "    .dataframe tbody tr th {\n",
       "        vertical-align: top;\n",
       "    }\n",
       "\n",
       "    .dataframe thead th {\n",
       "        text-align: right;\n",
       "    }\n",
       "</style>\n",
       "<table border=\"1\" class=\"dataframe\">\n",
       "  <thead>\n",
       "    <tr style=\"text-align: right;\">\n",
       "      <th></th>\n",
       "      <th>Date</th>\n",
       "      <th>Open</th>\n",
       "      <th>High</th>\n",
       "      <th>Low</th>\n",
       "      <th>Close</th>\n",
       "      <th>Adj Close</th>\n",
       "      <th>Volume</th>\n",
       "    </tr>\n",
       "  </thead>\n",
       "  <tbody>\n",
       "    <tr>\n",
       "      <th>0</th>\n",
       "      <td>2010-01-01</td>\n",
       "      <td>11.22</td>\n",
       "      <td>13.73</td>\n",
       "      <td>10.95</td>\n",
       "      <td>12.23</td>\n",
       "      <td>10.863926</td>\n",
       "      <td>334450000</td>\n",
       "    </tr>\n",
       "    <tr>\n",
       "      <th>1</th>\n",
       "      <td>2010-02-01</td>\n",
       "      <td>12.37</td>\n",
       "      <td>13.21</td>\n",
       "      <td>10.93</td>\n",
       "      <td>12.92</td>\n",
       "      <td>11.476853</td>\n",
       "      <td>215161100</td>\n",
       "    </tr>\n",
       "    <tr>\n",
       "      <th>2</th>\n",
       "      <td>2010-03-01</td>\n",
       "      <td>12.93</td>\n",
       "      <td>14.90</td>\n",
       "      <td>12.33</td>\n",
       "      <td>14.59</td>\n",
       "      <td>12.960317</td>\n",
       "      <td>236270900</td>\n",
       "    </tr>\n",
       "    <tr>\n",
       "      <th>3</th>\n",
       "      <td>2010-04-01</td>\n",
       "      <td>14.63</td>\n",
       "      <td>14.94</td>\n",
       "      <td>11.95</td>\n",
       "      <td>12.08</td>\n",
       "      <td>10.730680</td>\n",
       "      <td>320889200</td>\n",
       "    </tr>\n",
       "    <tr>\n",
       "      <th>4</th>\n",
       "      <td>2010-05-01</td>\n",
       "      <td>12.30</td>\n",
       "      <td>14.48</td>\n",
       "      <td>10.90</td>\n",
       "      <td>13.58</td>\n",
       "      <td>12.063131</td>\n",
       "      <td>291751900</td>\n",
       "    </tr>\n",
       "  </tbody>\n",
       "</table>\n",
       "</div>"
      ],
      "text/plain": [
       "         Date   Open   High    Low  Close  Adj Close     Volume\n",
       "0  2010-01-01  11.22  13.73  10.95  12.23  10.863926  334450000\n",
       "1  2010-02-01  12.37  13.21  10.93  12.92  11.476853  215161100\n",
       "2  2010-03-01  12.93  14.90  12.33  14.59  12.960317  236270900\n",
       "3  2010-04-01  14.63  14.94  11.95  12.08  10.730680  320889200\n",
       "4  2010-05-01  12.30  14.48  10.90  13.58  12.063131  291751900"
      ]
     },
     "execution_count": 24,
     "metadata": {},
     "output_type": "execute_result"
    }
   ],
   "source": [
    "dal_df.head()"
   ]
  },
  {
   "cell_type": "code",
   "execution_count": 25,
   "metadata": {},
   "outputs": [
    {
     "data": {
      "text/html": [
       "<div>\n",
       "<style scoped>\n",
       "    .dataframe tbody tr th:only-of-type {\n",
       "        vertical-align: middle;\n",
       "    }\n",
       "\n",
       "    .dataframe tbody tr th {\n",
       "        vertical-align: top;\n",
       "    }\n",
       "\n",
       "    .dataframe thead th {\n",
       "        text-align: right;\n",
       "    }\n",
       "</style>\n",
       "<table border=\"1\" class=\"dataframe\">\n",
       "  <thead>\n",
       "    <tr style=\"text-align: right;\">\n",
       "      <th></th>\n",
       "      <th>Date</th>\n",
       "      <th>Open</th>\n",
       "      <th>High</th>\n",
       "      <th>Low</th>\n",
       "      <th>Close</th>\n",
       "      <th>DAL</th>\n",
       "      <th>Volume</th>\n",
       "    </tr>\n",
       "  </thead>\n",
       "  <tbody>\n",
       "    <tr>\n",
       "      <th>0</th>\n",
       "      <td>2010-01-01</td>\n",
       "      <td>11.22</td>\n",
       "      <td>13.73</td>\n",
       "      <td>10.95</td>\n",
       "      <td>12.23</td>\n",
       "      <td>10.863926</td>\n",
       "      <td>334450000</td>\n",
       "    </tr>\n",
       "    <tr>\n",
       "      <th>1</th>\n",
       "      <td>2010-02-01</td>\n",
       "      <td>12.37</td>\n",
       "      <td>13.21</td>\n",
       "      <td>10.93</td>\n",
       "      <td>12.92</td>\n",
       "      <td>11.476853</td>\n",
       "      <td>215161100</td>\n",
       "    </tr>\n",
       "    <tr>\n",
       "      <th>2</th>\n",
       "      <td>2010-03-01</td>\n",
       "      <td>12.93</td>\n",
       "      <td>14.90</td>\n",
       "      <td>12.33</td>\n",
       "      <td>14.59</td>\n",
       "      <td>12.960317</td>\n",
       "      <td>236270900</td>\n",
       "    </tr>\n",
       "    <tr>\n",
       "      <th>3</th>\n",
       "      <td>2010-04-01</td>\n",
       "      <td>14.63</td>\n",
       "      <td>14.94</td>\n",
       "      <td>11.95</td>\n",
       "      <td>12.08</td>\n",
       "      <td>10.730680</td>\n",
       "      <td>320889200</td>\n",
       "    </tr>\n",
       "    <tr>\n",
       "      <th>4</th>\n",
       "      <td>2010-05-01</td>\n",
       "      <td>12.30</td>\n",
       "      <td>14.48</td>\n",
       "      <td>10.90</td>\n",
       "      <td>13.58</td>\n",
       "      <td>12.063131</td>\n",
       "      <td>291751900</td>\n",
       "    </tr>\n",
       "  </tbody>\n",
       "</table>\n",
       "</div>"
      ],
      "text/plain": [
       "         Date   Open   High    Low  Close        DAL     Volume\n",
       "0  2010-01-01  11.22  13.73  10.95  12.23  10.863926  334450000\n",
       "1  2010-02-01  12.37  13.21  10.93  12.92  11.476853  215161100\n",
       "2  2010-03-01  12.93  14.90  12.33  14.59  12.960317  236270900\n",
       "3  2010-04-01  14.63  14.94  11.95  12.08  10.730680  320889200\n",
       "4  2010-05-01  12.30  14.48  10.90  13.58  12.063131  291751900"
      ]
     },
     "execution_count": 25,
     "metadata": {},
     "output_type": "execute_result"
    }
   ],
   "source": [
    "dal_df = dal_df.rename(columns = {'Adj Close': 'DAL'})\n",
    "dal_df.head()"
   ]
  },
  {
   "cell_type": "code",
   "execution_count": 26,
   "metadata": {},
   "outputs": [
    {
     "data": {
      "text/html": [
       "<div>\n",
       "<style scoped>\n",
       "    .dataframe tbody tr th:only-of-type {\n",
       "        vertical-align: middle;\n",
       "    }\n",
       "\n",
       "    .dataframe tbody tr th {\n",
       "        vertical-align: top;\n",
       "    }\n",
       "\n",
       "    .dataframe thead th {\n",
       "        text-align: right;\n",
       "    }\n",
       "</style>\n",
       "<table border=\"1\" class=\"dataframe\">\n",
       "  <thead>\n",
       "    <tr style=\"text-align: right;\">\n",
       "      <th></th>\n",
       "      <th>Date</th>\n",
       "      <th>DAL</th>\n",
       "    </tr>\n",
       "  </thead>\n",
       "  <tbody>\n",
       "    <tr>\n",
       "      <th>0</th>\n",
       "      <td>2010-01-01</td>\n",
       "      <td>10.863926</td>\n",
       "    </tr>\n",
       "    <tr>\n",
       "      <th>1</th>\n",
       "      <td>2010-02-01</td>\n",
       "      <td>11.476853</td>\n",
       "    </tr>\n",
       "    <tr>\n",
       "      <th>2</th>\n",
       "      <td>2010-03-01</td>\n",
       "      <td>12.960317</td>\n",
       "    </tr>\n",
       "    <tr>\n",
       "      <th>3</th>\n",
       "      <td>2010-04-01</td>\n",
       "      <td>10.730680</td>\n",
       "    </tr>\n",
       "    <tr>\n",
       "      <th>4</th>\n",
       "      <td>2010-05-01</td>\n",
       "      <td>12.063131</td>\n",
       "    </tr>\n",
       "  </tbody>\n",
       "</table>\n",
       "</div>"
      ],
      "text/plain": [
       "         Date        DAL\n",
       "0  2010-01-01  10.863926\n",
       "1  2010-02-01  11.476853\n",
       "2  2010-03-01  12.960317\n",
       "3  2010-04-01  10.730680\n",
       "4  2010-05-01  12.063131"
      ]
     },
     "execution_count": 26,
     "metadata": {},
     "output_type": "execute_result"
    }
   ],
   "source": [
    "dal_clean = dal_df[['Date','DAL']]\n",
    "dal_clean.head()"
   ]
  },
  {
   "cell_type": "code",
   "execution_count": 27,
   "metadata": {},
   "outputs": [
    {
     "data": {
      "text/plain": [
       "120"
      ]
     },
     "execution_count": 27,
     "metadata": {},
     "output_type": "execute_result"
    }
   ],
   "source": [
    "len(dal_clean)"
   ]
  },
  {
   "cell_type": "code",
   "execution_count": 28,
   "metadata": {},
   "outputs": [
    {
     "data": {
      "text/plain": [
       "120"
      ]
     },
     "execution_count": 28,
     "metadata": {},
     "output_type": "execute_result"
    }
   ],
   "source": [
    "len(dal_clean.dropna())"
   ]
  },
  {
   "cell_type": "code",
   "execution_count": 29,
   "metadata": {},
   "outputs": [],
   "source": [
    "dal_clean.to_csv(r'C:\\Users\\Clay\\Desktop\\Group9_Project1\\Data_Analysis\\DAL_clean.csv')"
   ]
  },
  {
   "cell_type": "code",
   "execution_count": null,
   "metadata": {},
   "outputs": [],
   "source": [
    "#######################################################################################"
   ]
  },
  {
   "cell_type": "code",
   "execution_count": 47,
   "metadata": {},
   "outputs": [],
   "source": [
    "# BAC\n",
    "bac_df = pd.read_csv('BAC.csv')"
   ]
  },
  {
   "cell_type": "code",
   "execution_count": 48,
   "metadata": {},
   "outputs": [
    {
     "data": {
      "text/html": [
       "<div>\n",
       "<style scoped>\n",
       "    .dataframe tbody tr th:only-of-type {\n",
       "        vertical-align: middle;\n",
       "    }\n",
       "\n",
       "    .dataframe tbody tr th {\n",
       "        vertical-align: top;\n",
       "    }\n",
       "\n",
       "    .dataframe thead th {\n",
       "        text-align: right;\n",
       "    }\n",
       "</style>\n",
       "<table border=\"1\" class=\"dataframe\">\n",
       "  <thead>\n",
       "    <tr style=\"text-align: right;\">\n",
       "      <th></th>\n",
       "      <th>Date</th>\n",
       "      <th>Open</th>\n",
       "      <th>High</th>\n",
       "      <th>Low</th>\n",
       "      <th>Close</th>\n",
       "      <th>Adj Close</th>\n",
       "      <th>Volume</th>\n",
       "    </tr>\n",
       "  </thead>\n",
       "  <tbody>\n",
       "    <tr>\n",
       "      <th>0</th>\n",
       "      <td>2010-01-01</td>\n",
       "      <td>15.240000</td>\n",
       "      <td>17.190001</td>\n",
       "      <td>14.680000</td>\n",
       "      <td>15.18</td>\n",
       "      <td>13.460909</td>\n",
       "      <td>4592014200</td>\n",
       "    </tr>\n",
       "    <tr>\n",
       "      <th>1</th>\n",
       "      <td>2010-02-01</td>\n",
       "      <td>15.260000</td>\n",
       "      <td>16.840000</td>\n",
       "      <td>14.250000</td>\n",
       "      <td>16.66</td>\n",
       "      <td>14.773309</td>\n",
       "      <td>4083459900</td>\n",
       "    </tr>\n",
       "    <tr>\n",
       "      <th>2</th>\n",
       "      <td>2010-03-01</td>\n",
       "      <td>16.740000</td>\n",
       "      <td>18.350000</td>\n",
       "      <td>16.030001</td>\n",
       "      <td>17.85</td>\n",
       "      <td>15.828542</td>\n",
       "      <td>3801296800</td>\n",
       "    </tr>\n",
       "    <tr>\n",
       "      <th>3</th>\n",
       "      <td>2010-04-01</td>\n",
       "      <td>18.020000</td>\n",
       "      <td>19.860001</td>\n",
       "      <td>17.410000</td>\n",
       "      <td>17.83</td>\n",
       "      <td>15.820416</td>\n",
       "      <td>4365611500</td>\n",
       "    </tr>\n",
       "    <tr>\n",
       "      <th>4</th>\n",
       "      <td>2010-05-01</td>\n",
       "      <td>17.879999</td>\n",
       "      <td>18.150000</td>\n",
       "      <td>14.800000</td>\n",
       "      <td>15.74</td>\n",
       "      <td>13.965980</td>\n",
       "      <td>4577665100</td>\n",
       "    </tr>\n",
       "  </tbody>\n",
       "</table>\n",
       "</div>"
      ],
      "text/plain": [
       "         Date       Open       High        Low  Close  Adj Close      Volume\n",
       "0  2010-01-01  15.240000  17.190001  14.680000  15.18  13.460909  4592014200\n",
       "1  2010-02-01  15.260000  16.840000  14.250000  16.66  14.773309  4083459900\n",
       "2  2010-03-01  16.740000  18.350000  16.030001  17.85  15.828542  3801296800\n",
       "3  2010-04-01  18.020000  19.860001  17.410000  17.83  15.820416  4365611500\n",
       "4  2010-05-01  17.879999  18.150000  14.800000  15.74  13.965980  4577665100"
      ]
     },
     "execution_count": 48,
     "metadata": {},
     "output_type": "execute_result"
    }
   ],
   "source": [
    "bac_df.head()"
   ]
  },
  {
   "cell_type": "code",
   "execution_count": 49,
   "metadata": {},
   "outputs": [
    {
     "data": {
      "text/html": [
       "<div>\n",
       "<style scoped>\n",
       "    .dataframe tbody tr th:only-of-type {\n",
       "        vertical-align: middle;\n",
       "    }\n",
       "\n",
       "    .dataframe tbody tr th {\n",
       "        vertical-align: top;\n",
       "    }\n",
       "\n",
       "    .dataframe thead th {\n",
       "        text-align: right;\n",
       "    }\n",
       "</style>\n",
       "<table border=\"1\" class=\"dataframe\">\n",
       "  <thead>\n",
       "    <tr style=\"text-align: right;\">\n",
       "      <th></th>\n",
       "      <th>Date</th>\n",
       "      <th>Open</th>\n",
       "      <th>High</th>\n",
       "      <th>Low</th>\n",
       "      <th>Close</th>\n",
       "      <th>BAC</th>\n",
       "      <th>Volume</th>\n",
       "    </tr>\n",
       "  </thead>\n",
       "  <tbody>\n",
       "    <tr>\n",
       "      <th>0</th>\n",
       "      <td>2010-01-01</td>\n",
       "      <td>15.240000</td>\n",
       "      <td>17.190001</td>\n",
       "      <td>14.680000</td>\n",
       "      <td>15.18</td>\n",
       "      <td>13.460909</td>\n",
       "      <td>4592014200</td>\n",
       "    </tr>\n",
       "    <tr>\n",
       "      <th>1</th>\n",
       "      <td>2010-02-01</td>\n",
       "      <td>15.260000</td>\n",
       "      <td>16.840000</td>\n",
       "      <td>14.250000</td>\n",
       "      <td>16.66</td>\n",
       "      <td>14.773309</td>\n",
       "      <td>4083459900</td>\n",
       "    </tr>\n",
       "    <tr>\n",
       "      <th>2</th>\n",
       "      <td>2010-03-01</td>\n",
       "      <td>16.740000</td>\n",
       "      <td>18.350000</td>\n",
       "      <td>16.030001</td>\n",
       "      <td>17.85</td>\n",
       "      <td>15.828542</td>\n",
       "      <td>3801296800</td>\n",
       "    </tr>\n",
       "    <tr>\n",
       "      <th>3</th>\n",
       "      <td>2010-04-01</td>\n",
       "      <td>18.020000</td>\n",
       "      <td>19.860001</td>\n",
       "      <td>17.410000</td>\n",
       "      <td>17.83</td>\n",
       "      <td>15.820416</td>\n",
       "      <td>4365611500</td>\n",
       "    </tr>\n",
       "    <tr>\n",
       "      <th>4</th>\n",
       "      <td>2010-05-01</td>\n",
       "      <td>17.879999</td>\n",
       "      <td>18.150000</td>\n",
       "      <td>14.800000</td>\n",
       "      <td>15.74</td>\n",
       "      <td>13.965980</td>\n",
       "      <td>4577665100</td>\n",
       "    </tr>\n",
       "  </tbody>\n",
       "</table>\n",
       "</div>"
      ],
      "text/plain": [
       "         Date       Open       High        Low  Close        BAC      Volume\n",
       "0  2010-01-01  15.240000  17.190001  14.680000  15.18  13.460909  4592014200\n",
       "1  2010-02-01  15.260000  16.840000  14.250000  16.66  14.773309  4083459900\n",
       "2  2010-03-01  16.740000  18.350000  16.030001  17.85  15.828542  3801296800\n",
       "3  2010-04-01  18.020000  19.860001  17.410000  17.83  15.820416  4365611500\n",
       "4  2010-05-01  17.879999  18.150000  14.800000  15.74  13.965980  4577665100"
      ]
     },
     "execution_count": 49,
     "metadata": {},
     "output_type": "execute_result"
    }
   ],
   "source": [
    "bac_df = bac_df.rename(columns = {'Adj Close': 'BAC'})\n",
    "bac_df.head()"
   ]
  },
  {
   "cell_type": "code",
   "execution_count": 50,
   "metadata": {},
   "outputs": [
    {
     "data": {
      "text/html": [
       "<div>\n",
       "<style scoped>\n",
       "    .dataframe tbody tr th:only-of-type {\n",
       "        vertical-align: middle;\n",
       "    }\n",
       "\n",
       "    .dataframe tbody tr th {\n",
       "        vertical-align: top;\n",
       "    }\n",
       "\n",
       "    .dataframe thead th {\n",
       "        text-align: right;\n",
       "    }\n",
       "</style>\n",
       "<table border=\"1\" class=\"dataframe\">\n",
       "  <thead>\n",
       "    <tr style=\"text-align: right;\">\n",
       "      <th></th>\n",
       "      <th>Date</th>\n",
       "      <th>BAC</th>\n",
       "    </tr>\n",
       "  </thead>\n",
       "  <tbody>\n",
       "    <tr>\n",
       "      <th>0</th>\n",
       "      <td>2010-01-01</td>\n",
       "      <td>13.460909</td>\n",
       "    </tr>\n",
       "    <tr>\n",
       "      <th>1</th>\n",
       "      <td>2010-02-01</td>\n",
       "      <td>14.773309</td>\n",
       "    </tr>\n",
       "    <tr>\n",
       "      <th>2</th>\n",
       "      <td>2010-03-01</td>\n",
       "      <td>15.828542</td>\n",
       "    </tr>\n",
       "    <tr>\n",
       "      <th>3</th>\n",
       "      <td>2010-04-01</td>\n",
       "      <td>15.820416</td>\n",
       "    </tr>\n",
       "    <tr>\n",
       "      <th>4</th>\n",
       "      <td>2010-05-01</td>\n",
       "      <td>13.965980</td>\n",
       "    </tr>\n",
       "  </tbody>\n",
       "</table>\n",
       "</div>"
      ],
      "text/plain": [
       "         Date        BAC\n",
       "0  2010-01-01  13.460909\n",
       "1  2010-02-01  14.773309\n",
       "2  2010-03-01  15.828542\n",
       "3  2010-04-01  15.820416\n",
       "4  2010-05-01  13.965980"
      ]
     },
     "execution_count": 50,
     "metadata": {},
     "output_type": "execute_result"
    }
   ],
   "source": [
    "bac_clean = bac_df[['Date','BAC']]\n",
    "bac_clean.head()"
   ]
  },
  {
   "cell_type": "code",
   "execution_count": 51,
   "metadata": {},
   "outputs": [
    {
     "data": {
      "text/plain": [
       "120"
      ]
     },
     "execution_count": 51,
     "metadata": {},
     "output_type": "execute_result"
    }
   ],
   "source": [
    "len(bac_clean)"
   ]
  },
  {
   "cell_type": "code",
   "execution_count": 52,
   "metadata": {},
   "outputs": [
    {
     "data": {
      "text/plain": [
       "120"
      ]
     },
     "execution_count": 52,
     "metadata": {},
     "output_type": "execute_result"
    }
   ],
   "source": [
    "len(bac_clean.dropna())"
   ]
  },
  {
   "cell_type": "code",
   "execution_count": 37,
   "metadata": {},
   "outputs": [],
   "source": [
    "bac_clean.to_csv(r'C:\\Users\\Clay\\Desktop\\Group9_Project1\\Data_Analysis\\BAC_clean.csv')"
   ]
  },
  {
   "cell_type": "code",
   "execution_count": null,
   "metadata": {},
   "outputs": [],
   "source": [
    "#######################################################################################"
   ]
  },
  {
   "cell_type": "code",
   "execution_count": 53,
   "metadata": {},
   "outputs": [],
   "source": [
    "# WFC\n",
    "wfc_df = pd.read_csv('WFC.csv')"
   ]
  },
  {
   "cell_type": "code",
   "execution_count": 54,
   "metadata": {},
   "outputs": [
    {
     "data": {
      "text/html": [
       "<div>\n",
       "<style scoped>\n",
       "    .dataframe tbody tr th:only-of-type {\n",
       "        vertical-align: middle;\n",
       "    }\n",
       "\n",
       "    .dataframe tbody tr th {\n",
       "        vertical-align: top;\n",
       "    }\n",
       "\n",
       "    .dataframe thead th {\n",
       "        text-align: right;\n",
       "    }\n",
       "</style>\n",
       "<table border=\"1\" class=\"dataframe\">\n",
       "  <thead>\n",
       "    <tr style=\"text-align: right;\">\n",
       "      <th></th>\n",
       "      <th>Date</th>\n",
       "      <th>Open</th>\n",
       "      <th>High</th>\n",
       "      <th>Low</th>\n",
       "      <th>Close</th>\n",
       "      <th>Adj Close</th>\n",
       "      <th>Volume</th>\n",
       "    </tr>\n",
       "  </thead>\n",
       "  <tbody>\n",
       "    <tr>\n",
       "      <th>0</th>\n",
       "      <td>2010-01-01</td>\n",
       "      <td>27.020000</td>\n",
       "      <td>29.430000</td>\n",
       "      <td>26.820000</td>\n",
       "      <td>28.430000</td>\n",
       "      <td>21.231312</td>\n",
       "      <td>1009905300</td>\n",
       "    </tr>\n",
       "    <tr>\n",
       "      <th>1</th>\n",
       "      <td>2010-02-01</td>\n",
       "      <td>28.600000</td>\n",
       "      <td>29.129999</td>\n",
       "      <td>26.370001</td>\n",
       "      <td>27.340000</td>\n",
       "      <td>20.417307</td>\n",
       "      <td>840453900</td>\n",
       "    </tr>\n",
       "    <tr>\n",
       "      <th>2</th>\n",
       "      <td>2010-03-01</td>\n",
       "      <td>27.450001</td>\n",
       "      <td>31.990000</td>\n",
       "      <td>27.150000</td>\n",
       "      <td>31.120001</td>\n",
       "      <td>23.280611</td>\n",
       "      <td>817434600</td>\n",
       "    </tr>\n",
       "    <tr>\n",
       "      <th>3</th>\n",
       "      <td>2010-04-01</td>\n",
       "      <td>31.400000</td>\n",
       "      <td>34.250000</td>\n",
       "      <td>31.129999</td>\n",
       "      <td>33.110001</td>\n",
       "      <td>24.769310</td>\n",
       "      <td>943549600</td>\n",
       "    </tr>\n",
       "    <tr>\n",
       "      <th>4</th>\n",
       "      <td>2010-05-01</td>\n",
       "      <td>33.220001</td>\n",
       "      <td>34.090000</td>\n",
       "      <td>27.440001</td>\n",
       "      <td>28.690001</td>\n",
       "      <td>21.462746</td>\n",
       "      <td>1142687200</td>\n",
       "    </tr>\n",
       "  </tbody>\n",
       "</table>\n",
       "</div>"
      ],
      "text/plain": [
       "         Date       Open       High        Low      Close  Adj Close  \\\n",
       "0  2010-01-01  27.020000  29.430000  26.820000  28.430000  21.231312   \n",
       "1  2010-02-01  28.600000  29.129999  26.370001  27.340000  20.417307   \n",
       "2  2010-03-01  27.450001  31.990000  27.150000  31.120001  23.280611   \n",
       "3  2010-04-01  31.400000  34.250000  31.129999  33.110001  24.769310   \n",
       "4  2010-05-01  33.220001  34.090000  27.440001  28.690001  21.462746   \n",
       "\n",
       "       Volume  \n",
       "0  1009905300  \n",
       "1   840453900  \n",
       "2   817434600  \n",
       "3   943549600  \n",
       "4  1142687200  "
      ]
     },
     "execution_count": 54,
     "metadata": {},
     "output_type": "execute_result"
    }
   ],
   "source": [
    "wfc_df.head()"
   ]
  },
  {
   "cell_type": "code",
   "execution_count": 55,
   "metadata": {},
   "outputs": [
    {
     "data": {
      "text/html": [
       "<div>\n",
       "<style scoped>\n",
       "    .dataframe tbody tr th:only-of-type {\n",
       "        vertical-align: middle;\n",
       "    }\n",
       "\n",
       "    .dataframe tbody tr th {\n",
       "        vertical-align: top;\n",
       "    }\n",
       "\n",
       "    .dataframe thead th {\n",
       "        text-align: right;\n",
       "    }\n",
       "</style>\n",
       "<table border=\"1\" class=\"dataframe\">\n",
       "  <thead>\n",
       "    <tr style=\"text-align: right;\">\n",
       "      <th></th>\n",
       "      <th>Date</th>\n",
       "      <th>Open</th>\n",
       "      <th>High</th>\n",
       "      <th>Low</th>\n",
       "      <th>Close</th>\n",
       "      <th>WFC</th>\n",
       "      <th>Volume</th>\n",
       "    </tr>\n",
       "  </thead>\n",
       "  <tbody>\n",
       "    <tr>\n",
       "      <th>0</th>\n",
       "      <td>2010-01-01</td>\n",
       "      <td>27.020000</td>\n",
       "      <td>29.430000</td>\n",
       "      <td>26.820000</td>\n",
       "      <td>28.430000</td>\n",
       "      <td>21.231312</td>\n",
       "      <td>1009905300</td>\n",
       "    </tr>\n",
       "    <tr>\n",
       "      <th>1</th>\n",
       "      <td>2010-02-01</td>\n",
       "      <td>28.600000</td>\n",
       "      <td>29.129999</td>\n",
       "      <td>26.370001</td>\n",
       "      <td>27.340000</td>\n",
       "      <td>20.417307</td>\n",
       "      <td>840453900</td>\n",
       "    </tr>\n",
       "    <tr>\n",
       "      <th>2</th>\n",
       "      <td>2010-03-01</td>\n",
       "      <td>27.450001</td>\n",
       "      <td>31.990000</td>\n",
       "      <td>27.150000</td>\n",
       "      <td>31.120001</td>\n",
       "      <td>23.280611</td>\n",
       "      <td>817434600</td>\n",
       "    </tr>\n",
       "    <tr>\n",
       "      <th>3</th>\n",
       "      <td>2010-04-01</td>\n",
       "      <td>31.400000</td>\n",
       "      <td>34.250000</td>\n",
       "      <td>31.129999</td>\n",
       "      <td>33.110001</td>\n",
       "      <td>24.769310</td>\n",
       "      <td>943549600</td>\n",
       "    </tr>\n",
       "    <tr>\n",
       "      <th>4</th>\n",
       "      <td>2010-05-01</td>\n",
       "      <td>33.220001</td>\n",
       "      <td>34.090000</td>\n",
       "      <td>27.440001</td>\n",
       "      <td>28.690001</td>\n",
       "      <td>21.462746</td>\n",
       "      <td>1142687200</td>\n",
       "    </tr>\n",
       "  </tbody>\n",
       "</table>\n",
       "</div>"
      ],
      "text/plain": [
       "         Date       Open       High        Low      Close        WFC  \\\n",
       "0  2010-01-01  27.020000  29.430000  26.820000  28.430000  21.231312   \n",
       "1  2010-02-01  28.600000  29.129999  26.370001  27.340000  20.417307   \n",
       "2  2010-03-01  27.450001  31.990000  27.150000  31.120001  23.280611   \n",
       "3  2010-04-01  31.400000  34.250000  31.129999  33.110001  24.769310   \n",
       "4  2010-05-01  33.220001  34.090000  27.440001  28.690001  21.462746   \n",
       "\n",
       "       Volume  \n",
       "0  1009905300  \n",
       "1   840453900  \n",
       "2   817434600  \n",
       "3   943549600  \n",
       "4  1142687200  "
      ]
     },
     "execution_count": 55,
     "metadata": {},
     "output_type": "execute_result"
    }
   ],
   "source": [
    "wfc_df = wfc_df.rename(columns = {'Adj Close': 'WFC'})\n",
    "wfc_df.head()"
   ]
  },
  {
   "cell_type": "code",
   "execution_count": 56,
   "metadata": {},
   "outputs": [
    {
     "data": {
      "text/html": [
       "<div>\n",
       "<style scoped>\n",
       "    .dataframe tbody tr th:only-of-type {\n",
       "        vertical-align: middle;\n",
       "    }\n",
       "\n",
       "    .dataframe tbody tr th {\n",
       "        vertical-align: top;\n",
       "    }\n",
       "\n",
       "    .dataframe thead th {\n",
       "        text-align: right;\n",
       "    }\n",
       "</style>\n",
       "<table border=\"1\" class=\"dataframe\">\n",
       "  <thead>\n",
       "    <tr style=\"text-align: right;\">\n",
       "      <th></th>\n",
       "      <th>Date</th>\n",
       "      <th>WFC</th>\n",
       "    </tr>\n",
       "  </thead>\n",
       "  <tbody>\n",
       "    <tr>\n",
       "      <th>0</th>\n",
       "      <td>2010-01-01</td>\n",
       "      <td>21.231312</td>\n",
       "    </tr>\n",
       "    <tr>\n",
       "      <th>1</th>\n",
       "      <td>2010-02-01</td>\n",
       "      <td>20.417307</td>\n",
       "    </tr>\n",
       "    <tr>\n",
       "      <th>2</th>\n",
       "      <td>2010-03-01</td>\n",
       "      <td>23.280611</td>\n",
       "    </tr>\n",
       "    <tr>\n",
       "      <th>3</th>\n",
       "      <td>2010-04-01</td>\n",
       "      <td>24.769310</td>\n",
       "    </tr>\n",
       "    <tr>\n",
       "      <th>4</th>\n",
       "      <td>2010-05-01</td>\n",
       "      <td>21.462746</td>\n",
       "    </tr>\n",
       "  </tbody>\n",
       "</table>\n",
       "</div>"
      ],
      "text/plain": [
       "         Date        WFC\n",
       "0  2010-01-01  21.231312\n",
       "1  2010-02-01  20.417307\n",
       "2  2010-03-01  23.280611\n",
       "3  2010-04-01  24.769310\n",
       "4  2010-05-01  21.462746"
      ]
     },
     "execution_count": 56,
     "metadata": {},
     "output_type": "execute_result"
    }
   ],
   "source": [
    "wfc_clean = wfc_df[['Date','WFC']]\n",
    "wfc_clean.head()"
   ]
  },
  {
   "cell_type": "code",
   "execution_count": 57,
   "metadata": {},
   "outputs": [
    {
     "data": {
      "text/plain": [
       "120"
      ]
     },
     "execution_count": 57,
     "metadata": {},
     "output_type": "execute_result"
    }
   ],
   "source": [
    "len(wfc_clean)"
   ]
  },
  {
   "cell_type": "code",
   "execution_count": 58,
   "metadata": {},
   "outputs": [
    {
     "data": {
      "text/plain": [
       "120"
      ]
     },
     "execution_count": 58,
     "metadata": {},
     "output_type": "execute_result"
    }
   ],
   "source": [
    "len(wfc_clean.dropna())"
   ]
  },
  {
   "cell_type": "code",
   "execution_count": 59,
   "metadata": {},
   "outputs": [],
   "source": [
    "wfc_clean.to_csv(r'C:\\Users\\Clay\\Desktop\\Group9_Project1\\Data_Analysis\\WFC_clean.csv')"
   ]
  },
  {
   "cell_type": "code",
   "execution_count": null,
   "metadata": {},
   "outputs": [],
   "source": []
  }
 ],
 "metadata": {
  "kernelspec": {
   "display_name": "Python [conda env:PythonData] *",
   "language": "python",
   "name": "conda-env-PythonData-py"
  },
  "language_info": {
   "codemirror_mode": {
    "name": "ipython",
    "version": 3
   },
   "file_extension": ".py",
   "mimetype": "text/x-python",
   "name": "python",
   "nbconvert_exporter": "python",
   "pygments_lexer": "ipython3",
   "version": "3.8.2"
  }
 },
 "nbformat": 4,
 "nbformat_minor": 4
}

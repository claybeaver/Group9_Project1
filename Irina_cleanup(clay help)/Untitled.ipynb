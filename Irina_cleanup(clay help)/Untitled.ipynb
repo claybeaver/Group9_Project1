{
 "cells": [
  {
   "cell_type": "code",
   "execution_count": 9,
   "metadata": {},
   "outputs": [],
   "source": [
    "import pandas as pd"
   ]
  },
  {
   "cell_type": "code",
   "execution_count": 10,
   "metadata": {},
   "outputs": [],
   "source": [
    "jnj_df = pd.read_csv(\"JNJ.csv\")\n",
    "ko_df = pd.read_csv(\"KO.csv\")\n",
    "mcd_df = pd.read_csv(\"MCD.csv\")\n",
    "pfe_df = pd.read_csv(\"PFE.csv\")\n",
    "sbux_df = pd.read_csv(\"SBUX.csv\")"
   ]
  },
  {
   "cell_type": "code",
   "execution_count": 11,
   "metadata": {},
   "outputs": [],
   "source": [
    "jnj_df = jnj_df.rename(columns = {'Adj Close': 'JNJ'})\n",
    "ko_df = ko_df.rename(columns = {'Adj Close': 'KO'})\n",
    "mcd_df = mcd_df.rename(columns = {'Adj Close': 'MCD'})\n",
    "pfe_df = pfe_df.rename(columns = {'Adj Close': 'PFE'})\n",
    "sbux_df = sbux_df.rename(columns = {'Adj Close': 'SBUX'})"
   ]
  },
  {
   "cell_type": "code",
   "execution_count": 12,
   "metadata": {},
   "outputs": [],
   "source": [
    "jnj_clean_df = jnj_df[['Date','JNJ']]\n",
    "ko_clean_df = ko_df[['Date','KO']]\n",
    "mcd_clean_df = mcd_df[['Date','MCD']]\n",
    "pfe_clean_df = pfe_df[['Date','PFE']]\n",
    "sbux_clean_df = sbux_df[['Date','SBUX']]"
   ]
  },
  {
   "cell_type": "code",
   "execution_count": 13,
   "metadata": {},
   "outputs": [
    {
     "data": {
      "text/html": [
       "<div>\n",
       "<style scoped>\n",
       "    .dataframe tbody tr th:only-of-type {\n",
       "        vertical-align: middle;\n",
       "    }\n",
       "\n",
       "    .dataframe tbody tr th {\n",
       "        vertical-align: top;\n",
       "    }\n",
       "\n",
       "    .dataframe thead th {\n",
       "        text-align: right;\n",
       "    }\n",
       "</style>\n",
       "<table border=\"1\" class=\"dataframe\">\n",
       "  <thead>\n",
       "    <tr style=\"text-align: right;\">\n",
       "      <th></th>\n",
       "      <th>Date</th>\n",
       "      <th>JNJ</th>\n",
       "      <th>KO</th>\n",
       "    </tr>\n",
       "  </thead>\n",
       "  <tbody>\n",
       "    <tr>\n",
       "      <th>0</th>\n",
       "      <td>2010-01-01</td>\n",
       "      <td>45.894260</td>\n",
       "      <td>18.183428</td>\n",
       "    </tr>\n",
       "    <tr>\n",
       "      <th>1</th>\n",
       "      <td>2010-02-01</td>\n",
       "      <td>45.996483</td>\n",
       "      <td>17.670601</td>\n",
       "    </tr>\n",
       "    <tr>\n",
       "      <th>2</th>\n",
       "      <td>2010-03-01</td>\n",
       "      <td>47.966923</td>\n",
       "      <td>18.434809</td>\n",
       "    </tr>\n",
       "    <tr>\n",
       "      <th>3</th>\n",
       "      <td>2010-04-01</td>\n",
       "      <td>47.304802</td>\n",
       "      <td>18.210958</td>\n",
       "    </tr>\n",
       "    <tr>\n",
       "      <th>4</th>\n",
       "      <td>2010-05-01</td>\n",
       "      <td>42.890663</td>\n",
       "      <td>17.512501</td>\n",
       "    </tr>\n",
       "  </tbody>\n",
       "</table>\n",
       "</div>"
      ],
      "text/plain": [
       "         Date        JNJ         KO\n",
       "0  2010-01-01  45.894260  18.183428\n",
       "1  2010-02-01  45.996483  17.670601\n",
       "2  2010-03-01  47.966923  18.434809\n",
       "3  2010-04-01  47.304802  18.210958\n",
       "4  2010-05-01  42.890663  17.512501"
      ]
     },
     "execution_count": 13,
     "metadata": {},
     "output_type": "execute_result"
    }
   ],
   "source": [
    "irina_merged_df1 = pd.merge(jnj_clean_df,ko_clean_df, on=\"Date\")\n",
    "irina_merged_df1.head()"
   ]
  },
  {
   "cell_type": "code",
   "execution_count": 14,
   "metadata": {},
   "outputs": [
    {
     "data": {
      "text/html": [
       "<div>\n",
       "<style scoped>\n",
       "    .dataframe tbody tr th:only-of-type {\n",
       "        vertical-align: middle;\n",
       "    }\n",
       "\n",
       "    .dataframe tbody tr th {\n",
       "        vertical-align: top;\n",
       "    }\n",
       "\n",
       "    .dataframe thead th {\n",
       "        text-align: right;\n",
       "    }\n",
       "</style>\n",
       "<table border=\"1\" class=\"dataframe\">\n",
       "  <thead>\n",
       "    <tr style=\"text-align: right;\">\n",
       "      <th></th>\n",
       "      <th>Date</th>\n",
       "      <th>MCD</th>\n",
       "      <th>PFE</th>\n",
       "    </tr>\n",
       "  </thead>\n",
       "  <tbody>\n",
       "    <tr>\n",
       "      <th>0</th>\n",
       "      <td>2010-01-01</td>\n",
       "      <td>45.350845</td>\n",
       "      <td>12.654274</td>\n",
       "    </tr>\n",
       "    <tr>\n",
       "      <th>1</th>\n",
       "      <td>2010-02-01</td>\n",
       "      <td>46.382374</td>\n",
       "      <td>11.901525</td>\n",
       "    </tr>\n",
       "    <tr>\n",
       "      <th>2</th>\n",
       "      <td>2010-03-01</td>\n",
       "      <td>48.879177</td>\n",
       "      <td>11.740099</td>\n",
       "    </tr>\n",
       "    <tr>\n",
       "      <th>3</th>\n",
       "      <td>2010-04-01</td>\n",
       "      <td>51.714325</td>\n",
       "      <td>11.445740</td>\n",
       "    </tr>\n",
       "    <tr>\n",
       "      <th>4</th>\n",
       "      <td>2010-05-01</td>\n",
       "      <td>48.989056</td>\n",
       "      <td>10.425756</td>\n",
       "    </tr>\n",
       "  </tbody>\n",
       "</table>\n",
       "</div>"
      ],
      "text/plain": [
       "         Date        MCD        PFE\n",
       "0  2010-01-01  45.350845  12.654274\n",
       "1  2010-02-01  46.382374  11.901525\n",
       "2  2010-03-01  48.879177  11.740099\n",
       "3  2010-04-01  51.714325  11.445740\n",
       "4  2010-05-01  48.989056  10.425756"
      ]
     },
     "execution_count": 14,
     "metadata": {},
     "output_type": "execute_result"
    }
   ],
   "source": [
    "irina_merged_df2 = pd.merge(mcd_clean_df,pfe_clean_df, on=\"Date\")\n",
    "irina_merged_df2.head()"
   ]
  },
  {
   "cell_type": "code",
   "execution_count": 15,
   "metadata": {},
   "outputs": [
    {
     "data": {
      "text/html": [
       "<div>\n",
       "<style scoped>\n",
       "    .dataframe tbody tr th:only-of-type {\n",
       "        vertical-align: middle;\n",
       "    }\n",
       "\n",
       "    .dataframe tbody tr th {\n",
       "        vertical-align: top;\n",
       "    }\n",
       "\n",
       "    .dataframe thead th {\n",
       "        text-align: right;\n",
       "    }\n",
       "</style>\n",
       "<table border=\"1\" class=\"dataframe\">\n",
       "  <thead>\n",
       "    <tr style=\"text-align: right;\">\n",
       "      <th></th>\n",
       "      <th>Date</th>\n",
       "      <th>JNJ</th>\n",
       "      <th>KO</th>\n",
       "      <th>MCD</th>\n",
       "      <th>PFE</th>\n",
       "    </tr>\n",
       "  </thead>\n",
       "  <tbody>\n",
       "    <tr>\n",
       "      <th>0</th>\n",
       "      <td>2010-01-01</td>\n",
       "      <td>45.894260</td>\n",
       "      <td>18.183428</td>\n",
       "      <td>45.350845</td>\n",
       "      <td>12.654274</td>\n",
       "    </tr>\n",
       "    <tr>\n",
       "      <th>1</th>\n",
       "      <td>2010-02-01</td>\n",
       "      <td>45.996483</td>\n",
       "      <td>17.670601</td>\n",
       "      <td>46.382374</td>\n",
       "      <td>11.901525</td>\n",
       "    </tr>\n",
       "    <tr>\n",
       "      <th>2</th>\n",
       "      <td>2010-03-01</td>\n",
       "      <td>47.966923</td>\n",
       "      <td>18.434809</td>\n",
       "      <td>48.879177</td>\n",
       "      <td>11.740099</td>\n",
       "    </tr>\n",
       "    <tr>\n",
       "      <th>3</th>\n",
       "      <td>2010-04-01</td>\n",
       "      <td>47.304802</td>\n",
       "      <td>18.210958</td>\n",
       "      <td>51.714325</td>\n",
       "      <td>11.445740</td>\n",
       "    </tr>\n",
       "    <tr>\n",
       "      <th>4</th>\n",
       "      <td>2010-05-01</td>\n",
       "      <td>42.890663</td>\n",
       "      <td>17.512501</td>\n",
       "      <td>48.989056</td>\n",
       "      <td>10.425756</td>\n",
       "    </tr>\n",
       "  </tbody>\n",
       "</table>\n",
       "</div>"
      ],
      "text/plain": [
       "         Date        JNJ         KO        MCD        PFE\n",
       "0  2010-01-01  45.894260  18.183428  45.350845  12.654274\n",
       "1  2010-02-01  45.996483  17.670601  46.382374  11.901525\n",
       "2  2010-03-01  47.966923  18.434809  48.879177  11.740099\n",
       "3  2010-04-01  47.304802  18.210958  51.714325  11.445740\n",
       "4  2010-05-01  42.890663  17.512501  48.989056  10.425756"
      ]
     },
     "execution_count": 15,
     "metadata": {},
     "output_type": "execute_result"
    }
   ],
   "source": [
    "irina_merged_df3 = pd.merge(irina_merged_df1,irina_merged_df2, on=\"Date\")\n",
    "irina_merged_df3.head()"
   ]
  },
  {
   "cell_type": "code",
   "execution_count": 16,
   "metadata": {},
   "outputs": [
    {
     "data": {
      "text/html": [
       "<div>\n",
       "<style scoped>\n",
       "    .dataframe tbody tr th:only-of-type {\n",
       "        vertical-align: middle;\n",
       "    }\n",
       "\n",
       "    .dataframe tbody tr th {\n",
       "        vertical-align: top;\n",
       "    }\n",
       "\n",
       "    .dataframe thead th {\n",
       "        text-align: right;\n",
       "    }\n",
       "</style>\n",
       "<table border=\"1\" class=\"dataframe\">\n",
       "  <thead>\n",
       "    <tr style=\"text-align: right;\">\n",
       "      <th></th>\n",
       "      <th>Date</th>\n",
       "      <th>JNJ</th>\n",
       "      <th>KO</th>\n",
       "      <th>MCD</th>\n",
       "      <th>PFE</th>\n",
       "      <th>SBUX</th>\n",
       "    </tr>\n",
       "  </thead>\n",
       "  <tbody>\n",
       "    <tr>\n",
       "      <th>0</th>\n",
       "      <td>2010-01-01</td>\n",
       "      <td>45.894260</td>\n",
       "      <td>18.183428</td>\n",
       "      <td>45.350845</td>\n",
       "      <td>12.654274</td>\n",
       "      <td>9.198994</td>\n",
       "    </tr>\n",
       "    <tr>\n",
       "      <th>1</th>\n",
       "      <td>2010-02-01</td>\n",
       "      <td>45.996483</td>\n",
       "      <td>17.670601</td>\n",
       "      <td>46.382374</td>\n",
       "      <td>11.901525</td>\n",
       "      <td>9.671817</td>\n",
       "    </tr>\n",
       "    <tr>\n",
       "      <th>2</th>\n",
       "      <td>2010-03-01</td>\n",
       "      <td>47.966923</td>\n",
       "      <td>18.434809</td>\n",
       "      <td>48.879177</td>\n",
       "      <td>11.740099</td>\n",
       "      <td>10.245962</td>\n",
       "    </tr>\n",
       "    <tr>\n",
       "      <th>3</th>\n",
       "      <td>2010-04-01</td>\n",
       "      <td>47.304802</td>\n",
       "      <td>18.210958</td>\n",
       "      <td>51.714325</td>\n",
       "      <td>11.445740</td>\n",
       "      <td>10.967866</td>\n",
       "    </tr>\n",
       "    <tr>\n",
       "      <th>4</th>\n",
       "      <td>2010-05-01</td>\n",
       "      <td>42.890663</td>\n",
       "      <td>17.512501</td>\n",
       "      <td>48.989056</td>\n",
       "      <td>10.425756</td>\n",
       "      <td>10.975145</td>\n",
       "    </tr>\n",
       "  </tbody>\n",
       "</table>\n",
       "</div>"
      ],
      "text/plain": [
       "         Date        JNJ         KO        MCD        PFE       SBUX\n",
       "0  2010-01-01  45.894260  18.183428  45.350845  12.654274   9.198994\n",
       "1  2010-02-01  45.996483  17.670601  46.382374  11.901525   9.671817\n",
       "2  2010-03-01  47.966923  18.434809  48.879177  11.740099  10.245962\n",
       "3  2010-04-01  47.304802  18.210958  51.714325  11.445740  10.967866\n",
       "4  2010-05-01  42.890663  17.512501  48.989056  10.425756  10.975145"
      ]
     },
     "execution_count": 16,
     "metadata": {},
     "output_type": "execute_result"
    }
   ],
   "source": [
    "irina_finalmerged_df = pd.merge(irina_merged_df3,sbux_clean_df, on=\"Date\")\n",
    "irina_finalmerged_df.head()"
   ]
  },
  {
   "cell_type": "code",
   "execution_count": 17,
   "metadata": {},
   "outputs": [],
   "source": [
    "irina_finalmerged_df.to_csv('Irina_dataclean.csv', encoding=\"utf-8\", index=False)"
   ]
  },
  {
   "cell_type": "code",
   "execution_count": null,
   "metadata": {},
   "outputs": [],
   "source": []
  }
 ],
 "metadata": {
  "kernelspec": {
   "display_name": "Python [conda env:PythonData] *",
   "language": "python",
   "name": "conda-env-PythonData-py"
  },
  "language_info": {
   "codemirror_mode": {
    "name": "ipython",
    "version": 3
   },
   "file_extension": ".py",
   "mimetype": "text/x-python",
   "name": "python",
   "nbconvert_exporter": "python",
   "pygments_lexer": "ipython3",
   "version": "3.8.2"
  }
 },
 "nbformat": 4,
 "nbformat_minor": 4
}

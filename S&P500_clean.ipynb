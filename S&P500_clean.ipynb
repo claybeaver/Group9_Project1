{
 "cells": [
  {
   "cell_type": "code",
   "execution_count": 1,
   "metadata": {},
   "outputs": [],
   "source": [
    "import pandas as pd"
   ]
  },
  {
   "cell_type": "code",
   "execution_count": 2,
   "metadata": {},
   "outputs": [],
   "source": [
    "csv_path = \"^GSPC.csv\"\n",
    "sp500_df = pd.read_csv(csv_path)"
   ]
  },
  {
   "cell_type": "code",
   "execution_count": 6,
   "metadata": {},
   "outputs": [
    {
     "data": {
      "text/html": [
       "<div>\n",
       "<style scoped>\n",
       "    .dataframe tbody tr th:only-of-type {\n",
       "        vertical-align: middle;\n",
       "    }\n",
       "\n",
       "    .dataframe tbody tr th {\n",
       "        vertical-align: top;\n",
       "    }\n",
       "\n",
       "    .dataframe thead th {\n",
       "        text-align: right;\n",
       "    }\n",
       "</style>\n",
       "<table border=\"1\" class=\"dataframe\">\n",
       "  <thead>\n",
       "    <tr style=\"text-align: right;\">\n",
       "      <th></th>\n",
       "      <th>Date</th>\n",
       "      <th>Open</th>\n",
       "      <th>High</th>\n",
       "      <th>Low</th>\n",
       "      <th>Close</th>\n",
       "      <th>Adj Close</th>\n",
       "      <th>Volume</th>\n",
       "    </tr>\n",
       "  </thead>\n",
       "  <tbody>\n",
       "    <tr>\n",
       "      <th>0</th>\n",
       "      <td>2015-01-01</td>\n",
       "      <td>2058.899902</td>\n",
       "      <td>2072.360107</td>\n",
       "      <td>1988.119995</td>\n",
       "      <td>1994.989990</td>\n",
       "      <td>1994.989990</td>\n",
       "      <td>77330040000</td>\n",
       "    </tr>\n",
       "    <tr>\n",
       "      <th>1</th>\n",
       "      <td>2015-02-01</td>\n",
       "      <td>1996.670044</td>\n",
       "      <td>2119.590088</td>\n",
       "      <td>1980.900024</td>\n",
       "      <td>2104.500000</td>\n",
       "      <td>2104.500000</td>\n",
       "      <td>68775560000</td>\n",
       "    </tr>\n",
       "    <tr>\n",
       "      <th>2</th>\n",
       "      <td>2015-03-01</td>\n",
       "      <td>2105.229980</td>\n",
       "      <td>2117.520020</td>\n",
       "      <td>2039.689941</td>\n",
       "      <td>2067.889893</td>\n",
       "      <td>2067.889893</td>\n",
       "      <td>76675850000</td>\n",
       "    </tr>\n",
       "    <tr>\n",
       "      <th>3</th>\n",
       "      <td>2015-04-01</td>\n",
       "      <td>2067.629883</td>\n",
       "      <td>2125.919922</td>\n",
       "      <td>2048.379883</td>\n",
       "      <td>2085.510010</td>\n",
       "      <td>2085.510010</td>\n",
       "      <td>72060940000</td>\n",
       "    </tr>\n",
       "    <tr>\n",
       "      <th>4</th>\n",
       "      <td>2015-05-01</td>\n",
       "      <td>2087.379883</td>\n",
       "      <td>2134.719971</td>\n",
       "      <td>2067.929932</td>\n",
       "      <td>2107.389893</td>\n",
       "      <td>2107.389893</td>\n",
       "      <td>65187730000</td>\n",
       "    </tr>\n",
       "  </tbody>\n",
       "</table>\n",
       "</div>"
      ],
      "text/plain": [
       "         Date         Open         High          Low        Close  \\\n",
       "0  2015-01-01  2058.899902  2072.360107  1988.119995  1994.989990   \n",
       "1  2015-02-01  1996.670044  2119.590088  1980.900024  2104.500000   \n",
       "2  2015-03-01  2105.229980  2117.520020  2039.689941  2067.889893   \n",
       "3  2015-04-01  2067.629883  2125.919922  2048.379883  2085.510010   \n",
       "4  2015-05-01  2087.379883  2134.719971  2067.929932  2107.389893   \n",
       "\n",
       "     Adj Close       Volume  \n",
       "0  1994.989990  77330040000  \n",
       "1  2104.500000  68775560000  \n",
       "2  2067.889893  76675850000  \n",
       "3  2085.510010  72060940000  \n",
       "4  2107.389893  65187730000  "
      ]
     },
     "execution_count": 6,
     "metadata": {},
     "output_type": "execute_result"
    }
   ],
   "source": [
    "sp500_df.head()"
   ]
  },
  {
   "cell_type": "code",
   "execution_count": 7,
   "metadata": {},
   "outputs": [
    {
     "data": {
      "text/html": [
       "<div>\n",
       "<style scoped>\n",
       "    .dataframe tbody tr th:only-of-type {\n",
       "        vertical-align: middle;\n",
       "    }\n",
       "\n",
       "    .dataframe tbody tr th {\n",
       "        vertical-align: top;\n",
       "    }\n",
       "\n",
       "    .dataframe thead th {\n",
       "        text-align: right;\n",
       "    }\n",
       "</style>\n",
       "<table border=\"1\" class=\"dataframe\">\n",
       "  <thead>\n",
       "    <tr style=\"text-align: right;\">\n",
       "      <th></th>\n",
       "      <th>Date</th>\n",
       "      <th>Open</th>\n",
       "      <th>High</th>\n",
       "      <th>Low</th>\n",
       "      <th>Close</th>\n",
       "      <th>S&amp;P500</th>\n",
       "      <th>Volume</th>\n",
       "    </tr>\n",
       "  </thead>\n",
       "  <tbody>\n",
       "    <tr>\n",
       "      <th>0</th>\n",
       "      <td>2015-01-01</td>\n",
       "      <td>2058.899902</td>\n",
       "      <td>2072.360107</td>\n",
       "      <td>1988.119995</td>\n",
       "      <td>1994.989990</td>\n",
       "      <td>1994.989990</td>\n",
       "      <td>77330040000</td>\n",
       "    </tr>\n",
       "    <tr>\n",
       "      <th>1</th>\n",
       "      <td>2015-02-01</td>\n",
       "      <td>1996.670044</td>\n",
       "      <td>2119.590088</td>\n",
       "      <td>1980.900024</td>\n",
       "      <td>2104.500000</td>\n",
       "      <td>2104.500000</td>\n",
       "      <td>68775560000</td>\n",
       "    </tr>\n",
       "    <tr>\n",
       "      <th>2</th>\n",
       "      <td>2015-03-01</td>\n",
       "      <td>2105.229980</td>\n",
       "      <td>2117.520020</td>\n",
       "      <td>2039.689941</td>\n",
       "      <td>2067.889893</td>\n",
       "      <td>2067.889893</td>\n",
       "      <td>76675850000</td>\n",
       "    </tr>\n",
       "    <tr>\n",
       "      <th>3</th>\n",
       "      <td>2015-04-01</td>\n",
       "      <td>2067.629883</td>\n",
       "      <td>2125.919922</td>\n",
       "      <td>2048.379883</td>\n",
       "      <td>2085.510010</td>\n",
       "      <td>2085.510010</td>\n",
       "      <td>72060940000</td>\n",
       "    </tr>\n",
       "    <tr>\n",
       "      <th>4</th>\n",
       "      <td>2015-05-01</td>\n",
       "      <td>2087.379883</td>\n",
       "      <td>2134.719971</td>\n",
       "      <td>2067.929932</td>\n",
       "      <td>2107.389893</td>\n",
       "      <td>2107.389893</td>\n",
       "      <td>65187730000</td>\n",
       "    </tr>\n",
       "  </tbody>\n",
       "</table>\n",
       "</div>"
      ],
      "text/plain": [
       "         Date         Open         High          Low        Close  \\\n",
       "0  2015-01-01  2058.899902  2072.360107  1988.119995  1994.989990   \n",
       "1  2015-02-01  1996.670044  2119.590088  1980.900024  2104.500000   \n",
       "2  2015-03-01  2105.229980  2117.520020  2039.689941  2067.889893   \n",
       "3  2015-04-01  2067.629883  2125.919922  2048.379883  2085.510010   \n",
       "4  2015-05-01  2087.379883  2134.719971  2067.929932  2107.389893   \n",
       "\n",
       "        S&P500       Volume  \n",
       "0  1994.989990  77330040000  \n",
       "1  2104.500000  68775560000  \n",
       "2  2067.889893  76675850000  \n",
       "3  2085.510010  72060940000  \n",
       "4  2107.389893  65187730000  "
      ]
     },
     "execution_count": 7,
     "metadata": {},
     "output_type": "execute_result"
    }
   ],
   "source": [
    "# Rename Adj Close column to Ticker Symbol for the Stock.\n",
    "sp500_df = sp500_df.rename(columns = {'Adj Close': 'S&P500'})\n",
    "sp500_df.head()"
   ]
  },
  {
   "cell_type": "code",
   "execution_count": 10,
   "metadata": {},
   "outputs": [
    {
     "data": {
      "text/html": [
       "<div>\n",
       "<style scoped>\n",
       "    .dataframe tbody tr th:only-of-type {\n",
       "        vertical-align: middle;\n",
       "    }\n",
       "\n",
       "    .dataframe tbody tr th {\n",
       "        vertical-align: top;\n",
       "    }\n",
       "\n",
       "    .dataframe thead th {\n",
       "        text-align: right;\n",
       "    }\n",
       "</style>\n",
       "<table border=\"1\" class=\"dataframe\">\n",
       "  <thead>\n",
       "    <tr style=\"text-align: right;\">\n",
       "      <th></th>\n",
       "      <th>Date</th>\n",
       "      <th>S&amp;P500</th>\n",
       "    </tr>\n",
       "  </thead>\n",
       "  <tbody>\n",
       "    <tr>\n",
       "      <th>0</th>\n",
       "      <td>2015-01-01</td>\n",
       "      <td>1994.989990</td>\n",
       "    </tr>\n",
       "    <tr>\n",
       "      <th>1</th>\n",
       "      <td>2015-02-01</td>\n",
       "      <td>2104.500000</td>\n",
       "    </tr>\n",
       "    <tr>\n",
       "      <th>2</th>\n",
       "      <td>2015-03-01</td>\n",
       "      <td>2067.889893</td>\n",
       "    </tr>\n",
       "    <tr>\n",
       "      <th>3</th>\n",
       "      <td>2015-04-01</td>\n",
       "      <td>2085.510010</td>\n",
       "    </tr>\n",
       "    <tr>\n",
       "      <th>4</th>\n",
       "      <td>2015-05-01</td>\n",
       "      <td>2107.389893</td>\n",
       "    </tr>\n",
       "  </tbody>\n",
       "</table>\n",
       "</div>"
      ],
      "text/plain": [
       "         Date       S&P500\n",
       "0  2015-01-01  1994.989990\n",
       "1  2015-02-01  2104.500000\n",
       "2  2015-03-01  2067.889893\n",
       "3  2015-04-01  2085.510010\n",
       "4  2015-05-01  2107.389893"
      ]
     },
     "execution_count": 10,
     "metadata": {},
     "output_type": "execute_result"
    }
   ],
   "source": [
    "# Drop all columns except Date & Renamed Ticker Symbol column\n",
    "sp500_clean = sp500_df[['Date','S&P500']]\n",
    "sp500_clean.head()"
   ]
  },
  {
   "cell_type": "code",
   "execution_count": 16,
   "metadata": {},
   "outputs": [
    {
     "data": {
      "text/plain": [
       "60"
      ]
     },
     "execution_count": 16,
     "metadata": {},
     "output_type": "execute_result"
    }
   ],
   "source": [
    "# Make sure length is 60\n",
    "len(sp500_clean)"
   ]
  },
  {
   "cell_type": "code",
   "execution_count": 15,
   "metadata": {},
   "outputs": [
    {
     "data": {
      "text/plain": [
       "60"
      ]
     },
     "execution_count": 15,
     "metadata": {},
     "output_type": "execute_result"
    }
   ],
   "source": [
    "# Check for Null Values\n",
    "len(sp500_clean.dropna())"
   ]
  },
  {
   "cell_type": "code",
   "execution_count": null,
   "metadata": {},
   "outputs": [],
   "source": []
  }
 ],
 "metadata": {
  "kernelspec": {
   "display_name": "Python [conda env:PythonData] *",
   "language": "python",
   "name": "conda-env-PythonData-py"
  },
  "language_info": {
   "codemirror_mode": {
    "name": "ipython",
    "version": 3
   },
   "file_extension": ".py",
   "mimetype": "text/x-python",
   "name": "python",
   "nbconvert_exporter": "python",
   "pygments_lexer": "ipython3",
   "version": "3.8.2"
  }
 },
 "nbformat": 4,
 "nbformat_minor": 4
}

{
 "cells": [
  {
   "cell_type": "code",
   "execution_count": 1,
   "metadata": {},
   "outputs": [],
   "source": [
    "from matplotlib import pyplot as plt\n",
    "from scipy.stats import linregress\n",
    "import pandas as pd\n",
    "import scipy.stats as st\n",
    "import numpy as np\n",
    "import seaborn as sn\n",
    "from sklearn.linear_model import LinearRegression\n",
    "# from sklearn import linear_model\n",
    "# import statsmodels.api as sm\n",
    "# import statsmodels.api as sm"
   ]
  },
  {
   "cell_type": "code",
   "execution_count": 2,
   "metadata": {},
   "outputs": [],
   "source": [
    "cl_path = \"CL.csv\"\n",
    "cvx_path = \"CVX.csv\"\n",
    "pep_path = \"PEP.csv\"\n",
    "pg_path = \"PG.csv\"\n",
    "xom_path = \"XOM.csv\"\n",
    "sp500_path = \"^GSPC.csv\"\n",
    "\n",
    "TXUnemp_path = \"TX_Bls.csv\"\n",
    "USUnemp_path = \"US_Bls.csv\"\n",
    "\n",
    "#Daily prices trial\n",
    "# xom2_path = \"XOM2.csv\"\n",
    "# cvx2_path = \"CVX1.csv\"\n",
    "# pep2_path = \"PEP2.csv\""
   ]
  },
  {
   "cell_type": "code",
   "execution_count": 3,
   "metadata": {},
   "outputs": [],
   "source": [
    "#read and convert files into pd dataframe\n",
    "#cl_df= pd.read_csv(cl_path, parse_dates =[\"Date\"], index_col=\"Date\")\n",
    "cl_df= pd.read_csv(cl_path)\n",
    "cvx_df= pd.read_csv(cvx_path)\n",
    "pep_df= pd.read_csv(pep_path)\n",
    "pg_df= pd.read_csv(pg_path)\n",
    "xom_df= pd.read_csv(xom_path)\n",
    "sp500_df = pd.read_csv(sp500_path)\n",
    "TXUnemp_df = pd.read_csv(TXUnemp_path)\n",
    "USUnemp_df = pd.read_csv(USUnemp_path)"
   ]
  },
  {
   "cell_type": "code",
   "execution_count": 4,
   "metadata": {},
   "outputs": [],
   "source": [
    "# pep2_df= pd.read_csv(pep2_path)\n",
    "# cvx2_df= pd.read_csv(cvx2_path)\n",
    "# xom2_df= pd.read_csv(xom2_path)"
   ]
  },
  {
   "cell_type": "code",
   "execution_count": 5,
   "metadata": {},
   "outputs": [
    {
     "data": {
      "text/html": [
       "<div>\n",
       "<style scoped>\n",
       "    .dataframe tbody tr th:only-of-type {\n",
       "        vertical-align: middle;\n",
       "    }\n",
       "\n",
       "    .dataframe tbody tr th {\n",
       "        vertical-align: top;\n",
       "    }\n",
       "\n",
       "    .dataframe thead th {\n",
       "        text-align: right;\n",
       "    }\n",
       "</style>\n",
       "<table border=\"1\" class=\"dataframe\">\n",
       "  <thead>\n",
       "    <tr style=\"text-align: right;\">\n",
       "      <th></th>\n",
       "      <th>Year</th>\n",
       "      <th>Jan</th>\n",
       "      <th>Feb</th>\n",
       "      <th>Mar</th>\n",
       "      <th>Apr</th>\n",
       "      <th>May</th>\n",
       "      <th>Jun</th>\n",
       "      <th>Jul</th>\n",
       "      <th>Aug</th>\n",
       "      <th>Sep</th>\n",
       "      <th>Oct</th>\n",
       "      <th>Nov</th>\n",
       "      <th>Dec</th>\n",
       "    </tr>\n",
       "  </thead>\n",
       "  <tbody>\n",
       "    <tr>\n",
       "      <th>0</th>\n",
       "      <td>2010</td>\n",
       "      <td>8.3</td>\n",
       "      <td>8.3</td>\n",
       "      <td>8.3</td>\n",
       "      <td>8.2</td>\n",
       "      <td>8.1</td>\n",
       "      <td>8.0</td>\n",
       "      <td>8.0</td>\n",
       "      <td>8.0</td>\n",
       "      <td>8.1</td>\n",
       "      <td>8.1</td>\n",
       "      <td>8.1</td>\n",
       "      <td>8.1</td>\n",
       "    </tr>\n",
       "    <tr>\n",
       "      <th>1</th>\n",
       "      <td>2011</td>\n",
       "      <td>8.0</td>\n",
       "      <td>7.9</td>\n",
       "      <td>7.9</td>\n",
       "      <td>7.9</td>\n",
       "      <td>7.9</td>\n",
       "      <td>7.9</td>\n",
       "      <td>7.9</td>\n",
       "      <td>7.8</td>\n",
       "      <td>7.7</td>\n",
       "      <td>7.6</td>\n",
       "      <td>7.4</td>\n",
       "      <td>7.2</td>\n",
       "    </tr>\n",
       "    <tr>\n",
       "      <th>2</th>\n",
       "      <td>2012</td>\n",
       "      <td>7.1</td>\n",
       "      <td>7.0</td>\n",
       "      <td>6.9</td>\n",
       "      <td>6.9</td>\n",
       "      <td>6.9</td>\n",
       "      <td>6.8</td>\n",
       "      <td>6.7</td>\n",
       "      <td>6.6</td>\n",
       "      <td>6.5</td>\n",
       "      <td>6.5</td>\n",
       "      <td>6.5</td>\n",
       "      <td>6.5</td>\n",
       "    </tr>\n",
       "    <tr>\n",
       "      <th>3</th>\n",
       "      <td>2013</td>\n",
       "      <td>6.5</td>\n",
       "      <td>6.5</td>\n",
       "      <td>6.5</td>\n",
       "      <td>6.5</td>\n",
       "      <td>6.4</td>\n",
       "      <td>6.3</td>\n",
       "      <td>6.3</td>\n",
       "      <td>6.2</td>\n",
       "      <td>6.1</td>\n",
       "      <td>6.0</td>\n",
       "      <td>5.9</td>\n",
       "      <td>5.8</td>\n",
       "    </tr>\n",
       "    <tr>\n",
       "      <th>4</th>\n",
       "      <td>2014</td>\n",
       "      <td>5.7</td>\n",
       "      <td>5.5</td>\n",
       "      <td>5.4</td>\n",
       "      <td>5.3</td>\n",
       "      <td>5.2</td>\n",
       "      <td>5.2</td>\n",
       "      <td>5.1</td>\n",
       "      <td>5.0</td>\n",
       "      <td>4.9</td>\n",
       "      <td>4.8</td>\n",
       "      <td>4.7</td>\n",
       "      <td>4.6</td>\n",
       "    </tr>\n",
       "    <tr>\n",
       "      <th>5</th>\n",
       "      <td>2015</td>\n",
       "      <td>4.5</td>\n",
       "      <td>4.4</td>\n",
       "      <td>4.4</td>\n",
       "      <td>4.4</td>\n",
       "      <td>4.4</td>\n",
       "      <td>4.4</td>\n",
       "      <td>4.4</td>\n",
       "      <td>4.4</td>\n",
       "      <td>4.4</td>\n",
       "      <td>4.5</td>\n",
       "      <td>4.5</td>\n",
       "      <td>4.4</td>\n",
       "    </tr>\n",
       "    <tr>\n",
       "      <th>6</th>\n",
       "      <td>2016</td>\n",
       "      <td>4.4</td>\n",
       "      <td>4.4</td>\n",
       "      <td>4.4</td>\n",
       "      <td>4.5</td>\n",
       "      <td>4.6</td>\n",
       "      <td>4.7</td>\n",
       "      <td>4.7</td>\n",
       "      <td>4.7</td>\n",
       "      <td>4.8</td>\n",
       "      <td>4.8</td>\n",
       "      <td>4.8</td>\n",
       "      <td>4.8</td>\n",
       "    </tr>\n",
       "    <tr>\n",
       "      <th>7</th>\n",
       "      <td>2017</td>\n",
       "      <td>4.7</td>\n",
       "      <td>4.7</td>\n",
       "      <td>4.6</td>\n",
       "      <td>4.5</td>\n",
       "      <td>4.4</td>\n",
       "      <td>4.3</td>\n",
       "      <td>4.2</td>\n",
       "      <td>4.1</td>\n",
       "      <td>4.1</td>\n",
       "      <td>4.1</td>\n",
       "      <td>4.0</td>\n",
       "      <td>4.0</td>\n",
       "    </tr>\n",
       "    <tr>\n",
       "      <th>8</th>\n",
       "      <td>2018</td>\n",
       "      <td>4.0</td>\n",
       "      <td>4.0</td>\n",
       "      <td>4.0</td>\n",
       "      <td>4.0</td>\n",
       "      <td>3.9</td>\n",
       "      <td>3.9</td>\n",
       "      <td>3.8</td>\n",
       "      <td>3.7</td>\n",
       "      <td>3.7</td>\n",
       "      <td>3.7</td>\n",
       "      <td>3.7</td>\n",
       "      <td>3.7</td>\n",
       "    </tr>\n",
       "    <tr>\n",
       "      <th>9</th>\n",
       "      <td>2019</td>\n",
       "      <td>3.7</td>\n",
       "      <td>3.6</td>\n",
       "      <td>3.5</td>\n",
       "      <td>3.5</td>\n",
       "      <td>3.4</td>\n",
       "      <td>3.4</td>\n",
       "      <td>3.5</td>\n",
       "      <td>3.5</td>\n",
       "      <td>3.5</td>\n",
       "      <td>3.5</td>\n",
       "      <td>3.5</td>\n",
       "      <td>3.5</td>\n",
       "    </tr>\n",
       "  </tbody>\n",
       "</table>\n",
       "</div>"
      ],
      "text/plain": [
       "   Year  Jan  Feb  Mar  Apr  May  Jun  Jul  Aug  Sep  Oct  Nov  Dec\n",
       "0  2010  8.3  8.3  8.3  8.2  8.1  8.0  8.0  8.0  8.1  8.1  8.1  8.1\n",
       "1  2011  8.0  7.9  7.9  7.9  7.9  7.9  7.9  7.8  7.7  7.6  7.4  7.2\n",
       "2  2012  7.1  7.0  6.9  6.9  6.9  6.8  6.7  6.6  6.5  6.5  6.5  6.5\n",
       "3  2013  6.5  6.5  6.5  6.5  6.4  6.3  6.3  6.2  6.1  6.0  5.9  5.8\n",
       "4  2014  5.7  5.5  5.4  5.3  5.2  5.2  5.1  5.0  4.9  4.8  4.7  4.6\n",
       "5  2015  4.5  4.4  4.4  4.4  4.4  4.4  4.4  4.4  4.4  4.5  4.5  4.4\n",
       "6  2016  4.4  4.4  4.4  4.5  4.6  4.7  4.7  4.7  4.8  4.8  4.8  4.8\n",
       "7  2017  4.7  4.7  4.6  4.5  4.4  4.3  4.2  4.1  4.1  4.1  4.0  4.0\n",
       "8  2018  4.0  4.0  4.0  4.0  3.9  3.9  3.8  3.7  3.7  3.7  3.7  3.7\n",
       "9  2019  3.7  3.6  3.5  3.5  3.4  3.4  3.5  3.5  3.5  3.5  3.5  3.5"
      ]
     },
     "execution_count": 5,
     "metadata": {},
     "output_type": "execute_result"
    }
   ],
   "source": [
    "TXUnemp_df"
   ]
  },
  {
   "cell_type": "code",
   "execution_count": 146,
   "metadata": {},
   "outputs": [
    {
     "data": {
      "text/html": [
       "<div>\n",
       "<style scoped>\n",
       "    .dataframe tbody tr th:only-of-type {\n",
       "        vertical-align: middle;\n",
       "    }\n",
       "\n",
       "    .dataframe tbody tr th {\n",
       "        vertical-align: top;\n",
       "    }\n",
       "\n",
       "    .dataframe thead th {\n",
       "        text-align: right;\n",
       "    }\n",
       "</style>\n",
       "<table border=\"1\" class=\"dataframe\">\n",
       "  <thead>\n",
       "    <tr style=\"text-align: right;\">\n",
       "      <th></th>\n",
       "      <th>0</th>\n",
       "      <th>1</th>\n",
       "      <th>2</th>\n",
       "      <th>3</th>\n",
       "      <th>4</th>\n",
       "      <th>5</th>\n",
       "      <th>6</th>\n",
       "      <th>7</th>\n",
       "      <th>8</th>\n",
       "      <th>9</th>\n",
       "    </tr>\n",
       "  </thead>\n",
       "  <tbody>\n",
       "    <tr>\n",
       "      <th>Year</th>\n",
       "      <td>2010.0</td>\n",
       "      <td>2011.0</td>\n",
       "      <td>2012.0</td>\n",
       "      <td>2013.0</td>\n",
       "      <td>2014.0</td>\n",
       "      <td>2015.0</td>\n",
       "      <td>2016.0</td>\n",
       "      <td>2017.0</td>\n",
       "      <td>2018.0</td>\n",
       "      <td>2019.0</td>\n",
       "    </tr>\n",
       "    <tr>\n",
       "      <th>Jan</th>\n",
       "      <td>8.3</td>\n",
       "      <td>8.0</td>\n",
       "      <td>7.1</td>\n",
       "      <td>6.5</td>\n",
       "      <td>5.7</td>\n",
       "      <td>4.5</td>\n",
       "      <td>4.4</td>\n",
       "      <td>4.7</td>\n",
       "      <td>4.0</td>\n",
       "      <td>3.7</td>\n",
       "    </tr>\n",
       "    <tr>\n",
       "      <th>Feb</th>\n",
       "      <td>8.3</td>\n",
       "      <td>7.9</td>\n",
       "      <td>7.0</td>\n",
       "      <td>6.5</td>\n",
       "      <td>5.5</td>\n",
       "      <td>4.4</td>\n",
       "      <td>4.4</td>\n",
       "      <td>4.7</td>\n",
       "      <td>4.0</td>\n",
       "      <td>3.6</td>\n",
       "    </tr>\n",
       "    <tr>\n",
       "      <th>Mar</th>\n",
       "      <td>8.3</td>\n",
       "      <td>7.9</td>\n",
       "      <td>6.9</td>\n",
       "      <td>6.5</td>\n",
       "      <td>5.4</td>\n",
       "      <td>4.4</td>\n",
       "      <td>4.4</td>\n",
       "      <td>4.6</td>\n",
       "      <td>4.0</td>\n",
       "      <td>3.5</td>\n",
       "    </tr>\n",
       "    <tr>\n",
       "      <th>Apr</th>\n",
       "      <td>8.2</td>\n",
       "      <td>7.9</td>\n",
       "      <td>6.9</td>\n",
       "      <td>6.5</td>\n",
       "      <td>5.3</td>\n",
       "      <td>4.4</td>\n",
       "      <td>4.5</td>\n",
       "      <td>4.5</td>\n",
       "      <td>4.0</td>\n",
       "      <td>3.5</td>\n",
       "    </tr>\n",
       "    <tr>\n",
       "      <th>May</th>\n",
       "      <td>8.1</td>\n",
       "      <td>7.9</td>\n",
       "      <td>6.9</td>\n",
       "      <td>6.4</td>\n",
       "      <td>5.2</td>\n",
       "      <td>4.4</td>\n",
       "      <td>4.6</td>\n",
       "      <td>4.4</td>\n",
       "      <td>3.9</td>\n",
       "      <td>3.4</td>\n",
       "    </tr>\n",
       "    <tr>\n",
       "      <th>Jun</th>\n",
       "      <td>8.0</td>\n",
       "      <td>7.9</td>\n",
       "      <td>6.8</td>\n",
       "      <td>6.3</td>\n",
       "      <td>5.2</td>\n",
       "      <td>4.4</td>\n",
       "      <td>4.7</td>\n",
       "      <td>4.3</td>\n",
       "      <td>3.9</td>\n",
       "      <td>3.4</td>\n",
       "    </tr>\n",
       "    <tr>\n",
       "      <th>Jul</th>\n",
       "      <td>8.0</td>\n",
       "      <td>7.9</td>\n",
       "      <td>6.7</td>\n",
       "      <td>6.3</td>\n",
       "      <td>5.1</td>\n",
       "      <td>4.4</td>\n",
       "      <td>4.7</td>\n",
       "      <td>4.2</td>\n",
       "      <td>3.8</td>\n",
       "      <td>3.5</td>\n",
       "    </tr>\n",
       "    <tr>\n",
       "      <th>Aug</th>\n",
       "      <td>8.0</td>\n",
       "      <td>7.8</td>\n",
       "      <td>6.6</td>\n",
       "      <td>6.2</td>\n",
       "      <td>5.0</td>\n",
       "      <td>4.4</td>\n",
       "      <td>4.7</td>\n",
       "      <td>4.1</td>\n",
       "      <td>3.7</td>\n",
       "      <td>3.5</td>\n",
       "    </tr>\n",
       "    <tr>\n",
       "      <th>Sep</th>\n",
       "      <td>8.1</td>\n",
       "      <td>7.7</td>\n",
       "      <td>6.5</td>\n",
       "      <td>6.1</td>\n",
       "      <td>4.9</td>\n",
       "      <td>4.4</td>\n",
       "      <td>4.8</td>\n",
       "      <td>4.1</td>\n",
       "      <td>3.7</td>\n",
       "      <td>3.5</td>\n",
       "    </tr>\n",
       "    <tr>\n",
       "      <th>Oct</th>\n",
       "      <td>8.1</td>\n",
       "      <td>7.6</td>\n",
       "      <td>6.5</td>\n",
       "      <td>6.0</td>\n",
       "      <td>4.8</td>\n",
       "      <td>4.5</td>\n",
       "      <td>4.8</td>\n",
       "      <td>4.1</td>\n",
       "      <td>3.7</td>\n",
       "      <td>3.5</td>\n",
       "    </tr>\n",
       "    <tr>\n",
       "      <th>Nov</th>\n",
       "      <td>8.1</td>\n",
       "      <td>7.4</td>\n",
       "      <td>6.5</td>\n",
       "      <td>5.9</td>\n",
       "      <td>4.7</td>\n",
       "      <td>4.5</td>\n",
       "      <td>4.8</td>\n",
       "      <td>4.0</td>\n",
       "      <td>3.7</td>\n",
       "      <td>3.5</td>\n",
       "    </tr>\n",
       "    <tr>\n",
       "      <th>Dec</th>\n",
       "      <td>8.1</td>\n",
       "      <td>7.2</td>\n",
       "      <td>6.5</td>\n",
       "      <td>5.8</td>\n",
       "      <td>4.6</td>\n",
       "      <td>4.4</td>\n",
       "      <td>4.8</td>\n",
       "      <td>4.0</td>\n",
       "      <td>3.7</td>\n",
       "      <td>3.5</td>\n",
       "    </tr>\n",
       "  </tbody>\n",
       "</table>\n",
       "</div>"
      ],
      "text/plain": [
       "           0       1       2       3       4       5       6       7       8  \\\n",
       "Year  2010.0  2011.0  2012.0  2013.0  2014.0  2015.0  2016.0  2017.0  2018.0   \n",
       "Jan      8.3     8.0     7.1     6.5     5.7     4.5     4.4     4.7     4.0   \n",
       "Feb      8.3     7.9     7.0     6.5     5.5     4.4     4.4     4.7     4.0   \n",
       "Mar      8.3     7.9     6.9     6.5     5.4     4.4     4.4     4.6     4.0   \n",
       "Apr      8.2     7.9     6.9     6.5     5.3     4.4     4.5     4.5     4.0   \n",
       "May      8.1     7.9     6.9     6.4     5.2     4.4     4.6     4.4     3.9   \n",
       "Jun      8.0     7.9     6.8     6.3     5.2     4.4     4.7     4.3     3.9   \n",
       "Jul      8.0     7.9     6.7     6.3     5.1     4.4     4.7     4.2     3.8   \n",
       "Aug      8.0     7.8     6.6     6.2     5.0     4.4     4.7     4.1     3.7   \n",
       "Sep      8.1     7.7     6.5     6.1     4.9     4.4     4.8     4.1     3.7   \n",
       "Oct      8.1     7.6     6.5     6.0     4.8     4.5     4.8     4.1     3.7   \n",
       "Nov      8.1     7.4     6.5     5.9     4.7     4.5     4.8     4.0     3.7   \n",
       "Dec      8.1     7.2     6.5     5.8     4.6     4.4     4.8     4.0     3.7   \n",
       "\n",
       "           9  \n",
       "Year  2019.0  \n",
       "Jan      3.7  \n",
       "Feb      3.6  \n",
       "Mar      3.5  \n",
       "Apr      3.5  \n",
       "May      3.4  \n",
       "Jun      3.4  \n",
       "Jul      3.5  \n",
       "Aug      3.5  \n",
       "Sep      3.5  \n",
       "Oct      3.5  \n",
       "Nov      3.5  \n",
       "Dec      3.5  "
      ]
     },
     "execution_count": 146,
     "metadata": {},
     "output_type": "execute_result"
    }
   ],
   "source": [
    "TXUnemp1_df = TXUnemp_df.transpose()\n",
    "USUnemp1_df = USUnemp_df.transpose()\n",
    "TXUnemp1_df"
   ]
  },
  {
   "cell_type": "code",
   "execution_count": 7,
   "metadata": {},
   "outputs": [],
   "source": [
    "TXUnemp1_df.drop([\"Year\"], inplace = True)\n",
    "USUnemp1_df.drop([\"Year\"], inplace = True)"
   ]
  },
  {
   "cell_type": "code",
   "execution_count": 8,
   "metadata": {},
   "outputs": [],
   "source": [
    "TXUnFin_df = TXUnemp1_df.unstack().reset_index(drop=True)\n",
    "USUnFin_df = USUnemp1_df.unstack().reset_index(drop=True)"
   ]
  },
  {
   "cell_type": "code",
   "execution_count": 107,
   "metadata": {},
   "outputs": [
    {
     "data": {
      "text/html": [
       "<div>\n",
       "<style scoped>\n",
       "    .dataframe tbody tr th:only-of-type {\n",
       "        vertical-align: middle;\n",
       "    }\n",
       "\n",
       "    .dataframe tbody tr th {\n",
       "        vertical-align: top;\n",
       "    }\n",
       "\n",
       "    .dataframe thead th {\n",
       "        text-align: right;\n",
       "    }\n",
       "</style>\n",
       "<table border=\"1\" class=\"dataframe\">\n",
       "  <thead>\n",
       "    <tr style=\"text-align: right;\">\n",
       "      <th></th>\n",
       "      <th>US</th>\n",
       "      <th>TX</th>\n",
       "    </tr>\n",
       "  </thead>\n",
       "  <tbody>\n",
       "    <tr>\n",
       "      <th>0</th>\n",
       "      <td>9.8</td>\n",
       "      <td>8.3</td>\n",
       "    </tr>\n",
       "    <tr>\n",
       "      <th>1</th>\n",
       "      <td>9.8</td>\n",
       "      <td>8.3</td>\n",
       "    </tr>\n",
       "    <tr>\n",
       "      <th>2</th>\n",
       "      <td>9.9</td>\n",
       "      <td>8.3</td>\n",
       "    </tr>\n",
       "    <tr>\n",
       "      <th>3</th>\n",
       "      <td>9.9</td>\n",
       "      <td>8.2</td>\n",
       "    </tr>\n",
       "    <tr>\n",
       "      <th>4</th>\n",
       "      <td>9.6</td>\n",
       "      <td>8.1</td>\n",
       "    </tr>\n",
       "    <tr>\n",
       "      <th>...</th>\n",
       "      <td>...</td>\n",
       "      <td>...</td>\n",
       "    </tr>\n",
       "    <tr>\n",
       "      <th>115</th>\n",
       "      <td>3.7</td>\n",
       "      <td>3.5</td>\n",
       "    </tr>\n",
       "    <tr>\n",
       "      <th>116</th>\n",
       "      <td>3.5</td>\n",
       "      <td>3.5</td>\n",
       "    </tr>\n",
       "    <tr>\n",
       "      <th>117</th>\n",
       "      <td>3.6</td>\n",
       "      <td>3.5</td>\n",
       "    </tr>\n",
       "    <tr>\n",
       "      <th>118</th>\n",
       "      <td>3.5</td>\n",
       "      <td>3.5</td>\n",
       "    </tr>\n",
       "    <tr>\n",
       "      <th>119</th>\n",
       "      <td>3.5</td>\n",
       "      <td>3.5</td>\n",
       "    </tr>\n",
       "  </tbody>\n",
       "</table>\n",
       "<p>120 rows × 2 columns</p>\n",
       "</div>"
      ],
      "text/plain": [
       "      US   TX\n",
       "0    9.8  8.3\n",
       "1    9.8  8.3\n",
       "2    9.9  8.3\n",
       "3    9.9  8.2\n",
       "4    9.6  8.1\n",
       "..   ...  ...\n",
       "115  3.7  3.5\n",
       "116  3.5  3.5\n",
       "117  3.6  3.5\n",
       "118  3.5  3.5\n",
       "119  3.5  3.5\n",
       "\n",
       "[120 rows x 2 columns]"
      ]
     },
     "execution_count": 107,
     "metadata": {},
     "output_type": "execute_result"
    }
   ],
   "source": [
    "Unemp_df = pd.DataFrame({\"US\":USUnFin_df,\"TX\":TXUnFin_df})\n",
    "Unemp_df"
   ]
  },
  {
   "cell_type": "code",
   "execution_count": 109,
   "metadata": {},
   "outputs": [],
   "source": [
    "#drop row 0 for returns purposes \n",
    "UnEmp1_df = Unemp_df.copy()\n",
    "\n",
    "#Unemp_df"
   ]
  },
  {
   "cell_type": "code",
   "execution_count": 110,
   "metadata": {},
   "outputs": [],
   "source": [
    "UnEmp1_df.drop(0, inplace = True)"
   ]
  },
  {
   "cell_type": "code",
   "execution_count": 111,
   "metadata": {},
   "outputs": [],
   "source": [
    "UnEmp1_df = UnEmp1_df.reset_index()"
   ]
  },
  {
   "cell_type": "code",
   "execution_count": 112,
   "metadata": {},
   "outputs": [
    {
     "data": {
      "text/html": [
       "<div>\n",
       "<style scoped>\n",
       "    .dataframe tbody tr th:only-of-type {\n",
       "        vertical-align: middle;\n",
       "    }\n",
       "\n",
       "    .dataframe tbody tr th {\n",
       "        vertical-align: top;\n",
       "    }\n",
       "\n",
       "    .dataframe thead th {\n",
       "        text-align: right;\n",
       "    }\n",
       "</style>\n",
       "<table border=\"1\" class=\"dataframe\">\n",
       "  <thead>\n",
       "    <tr style=\"text-align: right;\">\n",
       "      <th></th>\n",
       "      <th>US</th>\n",
       "      <th>TX</th>\n",
       "    </tr>\n",
       "  </thead>\n",
       "  <tbody>\n",
       "    <tr>\n",
       "      <th>0</th>\n",
       "      <td>9.8</td>\n",
       "      <td>8.3</td>\n",
       "    </tr>\n",
       "    <tr>\n",
       "      <th>1</th>\n",
       "      <td>9.8</td>\n",
       "      <td>8.3</td>\n",
       "    </tr>\n",
       "    <tr>\n",
       "      <th>2</th>\n",
       "      <td>9.9</td>\n",
       "      <td>8.3</td>\n",
       "    </tr>\n",
       "    <tr>\n",
       "      <th>3</th>\n",
       "      <td>9.9</td>\n",
       "      <td>8.2</td>\n",
       "    </tr>\n",
       "    <tr>\n",
       "      <th>4</th>\n",
       "      <td>9.6</td>\n",
       "      <td>8.1</td>\n",
       "    </tr>\n",
       "    <tr>\n",
       "      <th>...</th>\n",
       "      <td>...</td>\n",
       "      <td>...</td>\n",
       "    </tr>\n",
       "    <tr>\n",
       "      <th>115</th>\n",
       "      <td>3.7</td>\n",
       "      <td>3.5</td>\n",
       "    </tr>\n",
       "    <tr>\n",
       "      <th>116</th>\n",
       "      <td>3.5</td>\n",
       "      <td>3.5</td>\n",
       "    </tr>\n",
       "    <tr>\n",
       "      <th>117</th>\n",
       "      <td>3.6</td>\n",
       "      <td>3.5</td>\n",
       "    </tr>\n",
       "    <tr>\n",
       "      <th>118</th>\n",
       "      <td>3.5</td>\n",
       "      <td>3.5</td>\n",
       "    </tr>\n",
       "    <tr>\n",
       "      <th>119</th>\n",
       "      <td>3.5</td>\n",
       "      <td>3.5</td>\n",
       "    </tr>\n",
       "  </tbody>\n",
       "</table>\n",
       "<p>120 rows × 2 columns</p>\n",
       "</div>"
      ],
      "text/plain": [
       "      US   TX\n",
       "0    9.8  8.3\n",
       "1    9.8  8.3\n",
       "2    9.9  8.3\n",
       "3    9.9  8.2\n",
       "4    9.6  8.1\n",
       "..   ...  ...\n",
       "115  3.7  3.5\n",
       "116  3.5  3.5\n",
       "117  3.6  3.5\n",
       "118  3.5  3.5\n",
       "119  3.5  3.5\n",
       "\n",
       "[120 rows x 2 columns]"
      ]
     },
     "execution_count": 112,
     "metadata": {},
     "output_type": "execute_result"
    }
   ],
   "source": [
    "Unemp_df"
   ]
  },
  {
   "cell_type": "code",
   "execution_count": 12,
   "metadata": {},
   "outputs": [
    {
     "data": {
      "text/html": [
       "<div>\n",
       "<style scoped>\n",
       "    .dataframe tbody tr th:only-of-type {\n",
       "        vertical-align: middle;\n",
       "    }\n",
       "\n",
       "    .dataframe tbody tr th {\n",
       "        vertical-align: top;\n",
       "    }\n",
       "\n",
       "    .dataframe thead th {\n",
       "        text-align: right;\n",
       "    }\n",
       "</style>\n",
       "<table border=\"1\" class=\"dataframe\">\n",
       "  <thead>\n",
       "    <tr style=\"text-align: right;\">\n",
       "      <th></th>\n",
       "      <th>index</th>\n",
       "      <th>US</th>\n",
       "      <th>TX</th>\n",
       "    </tr>\n",
       "  </thead>\n",
       "  <tbody>\n",
       "    <tr>\n",
       "      <th>0</th>\n",
       "      <td>1</td>\n",
       "      <td>9.8</td>\n",
       "      <td>8.3</td>\n",
       "    </tr>\n",
       "    <tr>\n",
       "      <th>1</th>\n",
       "      <td>2</td>\n",
       "      <td>9.9</td>\n",
       "      <td>8.3</td>\n",
       "    </tr>\n",
       "    <tr>\n",
       "      <th>2</th>\n",
       "      <td>3</td>\n",
       "      <td>9.9</td>\n",
       "      <td>8.2</td>\n",
       "    </tr>\n",
       "    <tr>\n",
       "      <th>3</th>\n",
       "      <td>4</td>\n",
       "      <td>9.6</td>\n",
       "      <td>8.1</td>\n",
       "    </tr>\n",
       "    <tr>\n",
       "      <th>4</th>\n",
       "      <td>5</td>\n",
       "      <td>9.4</td>\n",
       "      <td>8.0</td>\n",
       "    </tr>\n",
       "    <tr>\n",
       "      <th>...</th>\n",
       "      <td>...</td>\n",
       "      <td>...</td>\n",
       "      <td>...</td>\n",
       "    </tr>\n",
       "    <tr>\n",
       "      <th>114</th>\n",
       "      <td>115</td>\n",
       "      <td>3.7</td>\n",
       "      <td>3.5</td>\n",
       "    </tr>\n",
       "    <tr>\n",
       "      <th>115</th>\n",
       "      <td>116</td>\n",
       "      <td>3.5</td>\n",
       "      <td>3.5</td>\n",
       "    </tr>\n",
       "    <tr>\n",
       "      <th>116</th>\n",
       "      <td>117</td>\n",
       "      <td>3.6</td>\n",
       "      <td>3.5</td>\n",
       "    </tr>\n",
       "    <tr>\n",
       "      <th>117</th>\n",
       "      <td>118</td>\n",
       "      <td>3.5</td>\n",
       "      <td>3.5</td>\n",
       "    </tr>\n",
       "    <tr>\n",
       "      <th>118</th>\n",
       "      <td>119</td>\n",
       "      <td>3.5</td>\n",
       "      <td>3.5</td>\n",
       "    </tr>\n",
       "  </tbody>\n",
       "</table>\n",
       "<p>119 rows × 3 columns</p>\n",
       "</div>"
      ],
      "text/plain": [
       "     index   US   TX\n",
       "0        1  9.8  8.3\n",
       "1        2  9.9  8.3\n",
       "2        3  9.9  8.2\n",
       "3        4  9.6  8.1\n",
       "4        5  9.4  8.0\n",
       "..     ...  ...  ...\n",
       "114    115  3.7  3.5\n",
       "115    116  3.5  3.5\n",
       "116    117  3.6  3.5\n",
       "117    118  3.5  3.5\n",
       "118    119  3.5  3.5\n",
       "\n",
       "[119 rows x 3 columns]"
      ]
     },
     "execution_count": 12,
     "metadata": {},
     "output_type": "execute_result"
    }
   ],
   "source": [
    "UnEmp1_df"
   ]
  },
  {
   "cell_type": "code",
   "execution_count": 13,
   "metadata": {},
   "outputs": [],
   "source": [
    "#Change Adj Close column to the ticker symbol of the stock\n",
    "cl_df = cl_df.rename(columns = {\"Adj Close\": \"CL\"})\n",
    "cvx_df = cvx_df.rename(columns = {\"Adj Close\": \"CVX\"})\n",
    "pep_df = pep_df.rename(columns = {\"Adj Close\": \"PEP\"})\n",
    "pg_df = pg_df.rename(columns = {\"Adj Close\": \"PG\"})\n",
    "xom_df =xom_df.rename(columns = {\"Adj Close\": \"XOM\"})\n",
    "sp500_df =sp500_df.rename(columns = {\"Adj Close\": \"SP500\"})"
   ]
  },
  {
   "cell_type": "code",
   "execution_count": 14,
   "metadata": {},
   "outputs": [],
   "source": [
    "# xom2_df =xom2_df.rename(columns = {\"Adj Close\": \"CL\"})\n",
    "# cvx2_df = cvx2_df.rename(columns = {\"Adj Close\": \"CVX\"})\n",
    "# pep2_df = pep2_df.rename(columns = {\"Adj Close\": \"PEP\"})\n"
   ]
  },
  {
   "cell_type": "code",
   "execution_count": 15,
   "metadata": {},
   "outputs": [
    {
     "data": {
      "text/html": [
       "<div>\n",
       "<style scoped>\n",
       "    .dataframe tbody tr th:only-of-type {\n",
       "        vertical-align: middle;\n",
       "    }\n",
       "\n",
       "    .dataframe tbody tr th {\n",
       "        vertical-align: top;\n",
       "    }\n",
       "\n",
       "    .dataframe thead th {\n",
       "        text-align: right;\n",
       "    }\n",
       "</style>\n",
       "<table border=\"1\" class=\"dataframe\">\n",
       "  <thead>\n",
       "    <tr style=\"text-align: right;\">\n",
       "      <th></th>\n",
       "      <th>Date</th>\n",
       "      <th>Open</th>\n",
       "      <th>High</th>\n",
       "      <th>Low</th>\n",
       "      <th>Close</th>\n",
       "      <th>CVX</th>\n",
       "      <th>Volume</th>\n",
       "    </tr>\n",
       "  </thead>\n",
       "  <tbody>\n",
       "    <tr>\n",
       "      <th>0</th>\n",
       "      <td>2010-01-01</td>\n",
       "      <td>78.199997</td>\n",
       "      <td>81.089996</td>\n",
       "      <td>71.750000</td>\n",
       "      <td>72.120003</td>\n",
       "      <td>48.390926</td>\n",
       "      <td>207150500</td>\n",
       "    </tr>\n",
       "    <tr>\n",
       "      <th>1</th>\n",
       "      <td>2010-02-01</td>\n",
       "      <td>72.699997</td>\n",
       "      <td>74.580002</td>\n",
       "      <td>69.550003</td>\n",
       "      <td>72.300003</td>\n",
       "      <td>48.511700</td>\n",
       "      <td>229392800</td>\n",
       "    </tr>\n",
       "    <tr>\n",
       "      <th>2</th>\n",
       "      <td>2010-03-01</td>\n",
       "      <td>72.629997</td>\n",
       "      <td>76.139999</td>\n",
       "      <td>72.389999</td>\n",
       "      <td>75.830002</td>\n",
       "      <td>51.367226</td>\n",
       "      <td>215133500</td>\n",
       "    </tr>\n",
       "    <tr>\n",
       "      <th>3</th>\n",
       "      <td>2010-04-01</td>\n",
       "      <td>76.400002</td>\n",
       "      <td>83.139999</td>\n",
       "      <td>76.339996</td>\n",
       "      <td>81.440002</td>\n",
       "      <td>55.167446</td>\n",
       "      <td>207104600</td>\n",
       "    </tr>\n",
       "    <tr>\n",
       "      <th>4</th>\n",
       "      <td>2010-05-01</td>\n",
       "      <td>81.959999</td>\n",
       "      <td>83.410004</td>\n",
       "      <td>70.800003</td>\n",
       "      <td>73.870003</td>\n",
       "      <td>50.039509</td>\n",
       "      <td>298278800</td>\n",
       "    </tr>\n",
       "  </tbody>\n",
       "</table>\n",
       "</div>"
      ],
      "text/plain": [
       "         Date       Open       High        Low      Close        CVX  \\\n",
       "0  2010-01-01  78.199997  81.089996  71.750000  72.120003  48.390926   \n",
       "1  2010-02-01  72.699997  74.580002  69.550003  72.300003  48.511700   \n",
       "2  2010-03-01  72.629997  76.139999  72.389999  75.830002  51.367226   \n",
       "3  2010-04-01  76.400002  83.139999  76.339996  81.440002  55.167446   \n",
       "4  2010-05-01  81.959999  83.410004  70.800003  73.870003  50.039509   \n",
       "\n",
       "      Volume  \n",
       "0  207150500  \n",
       "1  229392800  \n",
       "2  215133500  \n",
       "3  207104600  \n",
       "4  298278800  "
      ]
     },
     "execution_count": 15,
     "metadata": {},
     "output_type": "execute_result"
    }
   ],
   "source": [
    "cvx_df.head()"
   ]
  },
  {
   "cell_type": "code",
   "execution_count": 16,
   "metadata": {},
   "outputs": [],
   "source": [
    "#filter to only column needed for the analysis\n",
    "cvx_clean_df = cvx_df.drop([\"Open\", \"High\", \"Low\", \"Close\", \"Volume\"], axis=1)"
   ]
  },
  {
   "cell_type": "code",
   "execution_count": 17,
   "metadata": {},
   "outputs": [],
   "source": [
    "# cvx_clean_df.head()"
   ]
  },
  {
   "cell_type": "code",
   "execution_count": 18,
   "metadata": {},
   "outputs": [],
   "source": [
    "#filter all stocks to only column needed for the analysis\n",
    "cl_clean_df = cl_df.drop([\"Open\", \"High\", \"Low\", \"Close\", \"Volume\"], axis=1)\n",
    "pep_clean_df = pep_df.drop([\"Open\", \"High\", \"Low\", \"Close\", \"Volume\"], axis=1)\n",
    "pg_clean_df = pg_df.drop([\"Open\", \"High\", \"Low\", \"Close\", \"Volume\"], axis=1)\n",
    "xom_clean_df = xom_df.drop([\"Open\", \"High\", \"Low\", \"Close\", \"Volume\"], axis=1)\n",
    "sp500_clean_df = sp500_df.drop([\"Open\", \"High\", \"Low\", \"Close\", \"Volume\"], axis=1)"
   ]
  },
  {
   "cell_type": "code",
   "execution_count": 19,
   "metadata": {},
   "outputs": [],
   "source": [
    "# cv2_clean_df = cvx2_df.drop([\"Open\", \"High\", \"Low\", \"Close\", \"Volume\"], axis=1)\n",
    "# pep2_clean_df = pep2_df.drop([\"Open\", \"High\", \"Low\", \"Close\", \"Volume\"], axis=1)\n",
    "# xom2_clean_df = xom2_df.drop([\"Open\", \"High\", \"Low\", \"Close\", \"Volume\"], axis=1)"
   ]
  },
  {
   "cell_type": "code",
   "execution_count": 20,
   "metadata": {},
   "outputs": [],
   "source": [
    "# xom_clean_df.head()"
   ]
  },
  {
   "cell_type": "code",
   "execution_count": 21,
   "metadata": {},
   "outputs": [],
   "source": [
    "#merge all the df 2 at a time\n",
    "Tunde_merged_df1 = pd.merge(cvx_clean_df,xom_clean_df, on=\"Date\")"
   ]
  },
  {
   "cell_type": "code",
   "execution_count": 22,
   "metadata": {},
   "outputs": [
    {
     "data": {
      "text/html": [
       "<div>\n",
       "<style scoped>\n",
       "    .dataframe tbody tr th:only-of-type {\n",
       "        vertical-align: middle;\n",
       "    }\n",
       "\n",
       "    .dataframe tbody tr th {\n",
       "        vertical-align: top;\n",
       "    }\n",
       "\n",
       "    .dataframe thead th {\n",
       "        text-align: right;\n",
       "    }\n",
       "</style>\n",
       "<table border=\"1\" class=\"dataframe\">\n",
       "  <thead>\n",
       "    <tr style=\"text-align: right;\">\n",
       "      <th></th>\n",
       "      <th>Date</th>\n",
       "      <th>CVX</th>\n",
       "      <th>XOM</th>\n",
       "    </tr>\n",
       "  </thead>\n",
       "  <tbody>\n",
       "    <tr>\n",
       "      <th>0</th>\n",
       "      <td>2010-01-01</td>\n",
       "      <td>48.390926</td>\n",
       "      <td>45.100105</td>\n",
       "    </tr>\n",
       "    <tr>\n",
       "      <th>1</th>\n",
       "      <td>2010-02-01</td>\n",
       "      <td>48.511700</td>\n",
       "      <td>45.499088</td>\n",
       "    </tr>\n",
       "    <tr>\n",
       "      <th>2</th>\n",
       "      <td>2010-03-01</td>\n",
       "      <td>51.367226</td>\n",
       "      <td>47.190937</td>\n",
       "    </tr>\n",
       "    <tr>\n",
       "      <th>3</th>\n",
       "      <td>2010-04-01</td>\n",
       "      <td>55.167446</td>\n",
       "      <td>47.747517</td>\n",
       "    </tr>\n",
       "    <tr>\n",
       "      <th>4</th>\n",
       "      <td>2010-05-01</td>\n",
       "      <td>50.039509</td>\n",
       "      <td>42.597256</td>\n",
       "    </tr>\n",
       "  </tbody>\n",
       "</table>\n",
       "</div>"
      ],
      "text/plain": [
       "         Date        CVX        XOM\n",
       "0  2010-01-01  48.390926  45.100105\n",
       "1  2010-02-01  48.511700  45.499088\n",
       "2  2010-03-01  51.367226  47.190937\n",
       "3  2010-04-01  55.167446  47.747517\n",
       "4  2010-05-01  50.039509  42.597256"
      ]
     },
     "execution_count": 22,
     "metadata": {},
     "output_type": "execute_result"
    }
   ],
   "source": [
    "Tunde_merged_df1.head()"
   ]
  },
  {
   "cell_type": "code",
   "execution_count": 23,
   "metadata": {},
   "outputs": [],
   "source": [
    "Tunde_merged_df2 = pd.merge(cl_clean_df,pg_clean_df, on=\"Date\")"
   ]
  },
  {
   "cell_type": "code",
   "execution_count": 24,
   "metadata": {},
   "outputs": [],
   "source": [
    "Tunde_merged_df3 = pd.merge(Tunde_merged_df1,Tunde_merged_df2, on=\"Date\")"
   ]
  },
  {
   "cell_type": "code",
   "execution_count": 25,
   "metadata": {},
   "outputs": [],
   "source": [
    "#Tunde_merged_df3.head()"
   ]
  },
  {
   "cell_type": "code",
   "execution_count": 26,
   "metadata": {},
   "outputs": [],
   "source": [
    "Tunde_merged_df4 = pd.merge(Tunde_merged_df3,sp500_clean_df, on=\"Date\")"
   ]
  },
  {
   "cell_type": "code",
   "execution_count": 27,
   "metadata": {},
   "outputs": [],
   "source": [
    "Tunde_finalMerged_df = pd.merge(Tunde_merged_df4,pep_clean_df,on=\"Date\")"
   ]
  },
  {
   "cell_type": "code",
   "execution_count": 28,
   "metadata": {},
   "outputs": [
    {
     "data": {
      "text/html": [
       "<div>\n",
       "<style scoped>\n",
       "    .dataframe tbody tr th:only-of-type {\n",
       "        vertical-align: middle;\n",
       "    }\n",
       "\n",
       "    .dataframe tbody tr th {\n",
       "        vertical-align: top;\n",
       "    }\n",
       "\n",
       "    .dataframe thead th {\n",
       "        text-align: right;\n",
       "    }\n",
       "</style>\n",
       "<table border=\"1\" class=\"dataframe\">\n",
       "  <thead>\n",
       "    <tr style=\"text-align: right;\">\n",
       "      <th></th>\n",
       "      <th>Date</th>\n",
       "      <th>CVX</th>\n",
       "      <th>XOM</th>\n",
       "      <th>CL</th>\n",
       "      <th>PG</th>\n",
       "      <th>SP500</th>\n",
       "      <th>PEP</th>\n",
       "    </tr>\n",
       "  </thead>\n",
       "  <tbody>\n",
       "    <tr>\n",
       "      <th>0</th>\n",
       "      <td>2010-01-01</td>\n",
       "      <td>48.390926</td>\n",
       "      <td>45.100105</td>\n",
       "      <td>28.585510</td>\n",
       "      <td>44.368778</td>\n",
       "      <td>1073.869995</td>\n",
       "      <td>43.419220</td>\n",
       "    </tr>\n",
       "    <tr>\n",
       "      <th>1</th>\n",
       "      <td>2010-02-01</td>\n",
       "      <td>48.511700</td>\n",
       "      <td>45.499088</td>\n",
       "      <td>29.957729</td>\n",
       "      <td>45.943375</td>\n",
       "      <td>1104.489990</td>\n",
       "      <td>45.494766</td>\n",
       "    </tr>\n",
       "    <tr>\n",
       "      <th>2</th>\n",
       "      <td>2010-03-01</td>\n",
       "      <td>51.367226</td>\n",
       "      <td>47.190937</td>\n",
       "      <td>30.795710</td>\n",
       "      <td>45.936111</td>\n",
       "      <td>1169.430054</td>\n",
       "      <td>48.182087</td>\n",
       "    </tr>\n",
       "    <tr>\n",
       "      <th>3</th>\n",
       "      <td>2010-04-01</td>\n",
       "      <td>55.167446</td>\n",
       "      <td>47.747517</td>\n",
       "      <td>30.376711</td>\n",
       "      <td>45.130230</td>\n",
       "      <td>1186.689941</td>\n",
       "      <td>47.834911</td>\n",
       "    </tr>\n",
       "    <tr>\n",
       "      <th>4</th>\n",
       "      <td>2010-05-01</td>\n",
       "      <td>50.039509</td>\n",
       "      <td>42.597256</td>\n",
       "      <td>28.563391</td>\n",
       "      <td>44.694584</td>\n",
       "      <td>1089.410034</td>\n",
       "      <td>46.125996</td>\n",
       "    </tr>\n",
       "  </tbody>\n",
       "</table>\n",
       "</div>"
      ],
      "text/plain": [
       "         Date        CVX        XOM         CL         PG        SP500  \\\n",
       "0  2010-01-01  48.390926  45.100105  28.585510  44.368778  1073.869995   \n",
       "1  2010-02-01  48.511700  45.499088  29.957729  45.943375  1104.489990   \n",
       "2  2010-03-01  51.367226  47.190937  30.795710  45.936111  1169.430054   \n",
       "3  2010-04-01  55.167446  47.747517  30.376711  45.130230  1186.689941   \n",
       "4  2010-05-01  50.039509  42.597256  28.563391  44.694584  1089.410034   \n",
       "\n",
       "         PEP  \n",
       "0  43.419220  \n",
       "1  45.494766  \n",
       "2  48.182087  \n",
       "3  47.834911  \n",
       "4  46.125996  "
      ]
     },
     "execution_count": 28,
     "metadata": {},
     "output_type": "execute_result"
    }
   ],
   "source": [
    "Tunde_finalMerged_df.head()"
   ]
  },
  {
   "cell_type": "code",
   "execution_count": 29,
   "metadata": {},
   "outputs": [],
   "source": [
    "date = Tunde_finalMerged_df[\"Date\"]"
   ]
  },
  {
   "cell_type": "code",
   "execution_count": 30,
   "metadata": {},
   "outputs": [
    {
     "data": {
      "text/plain": [
       "120"
      ]
     },
     "execution_count": 30,
     "metadata": {},
     "output_type": "execute_result"
    }
   ],
   "source": [
    "#check the length of rows to ensure its 120 months\n",
    "len(Tunde_finalMerged_df)"
   ]
  },
  {
   "cell_type": "code",
   "execution_count": 31,
   "metadata": {},
   "outputs": [
    {
     "name": "stdout",
     "output_type": "stream",
     "text": [
      "<class 'pandas.core.frame.DataFrame'>\n",
      "Int64Index: 120 entries, 0 to 119\n",
      "Data columns (total 7 columns):\n",
      " #   Column  Non-Null Count  Dtype  \n",
      "---  ------  --------------  -----  \n",
      " 0   Date    120 non-null    object \n",
      " 1   CVX     120 non-null    float64\n",
      " 2   XOM     120 non-null    float64\n",
      " 3   CL      120 non-null    float64\n",
      " 4   PG      120 non-null    float64\n",
      " 5   SP500   120 non-null    float64\n",
      " 6   PEP     120 non-null    float64\n",
      "dtypes: float64(6), object(1)\n",
      "memory usage: 7.5+ KB\n"
     ]
    }
   ],
   "source": [
    "Tunde_finalMerged_df.info()"
   ]
  },
  {
   "cell_type": "code",
   "execution_count": 32,
   "metadata": {},
   "outputs": [],
   "source": [
    "#Calculate the monthly returns and save to a series, this is the percentage change of current price and previous price\n",
    "cvx_returns = round(Tunde_finalMerged_df[\"CVX\"].pct_change(),6)\n",
    "xom_returns = round(Tunde_finalMerged_df[\"XOM\"].pct_change(),2)\n",
    "cl_returns = round(Tunde_finalMerged_df[\"CL\"].pct_change(),2)\n",
    "pg_returns = round(Tunde_finalMerged_df[\"PG\"].pct_change(),2)\n",
    "pep_returns = round(Tunde_finalMerged_df[\"PEP\"].pct_change(),2)\n",
    "sp500_returns = round(Tunde_finalMerged_df[\"SP500\"].pct_change(),2)"
   ]
  },
  {
   "cell_type": "code",
   "execution_count": 33,
   "metadata": {},
   "outputs": [
    {
     "data": {
      "text/plain": [
       "0           NaN\n",
       "1      0.002496\n",
       "2      0.058863\n",
       "3      0.073981\n",
       "4     -0.092952\n",
       "         ...   \n",
       "115   -0.043782\n",
       "116    0.017832\n",
       "117   -0.020742\n",
       "118    0.008524\n",
       "119    0.038995\n",
       "Name: CVX, Length: 120, dtype: float64"
      ]
     },
     "execution_count": 33,
     "metadata": {},
     "output_type": "execute_result"
    }
   ],
   "source": [
    "#check to confirm returns confirm accuracy ln(P1/P0)...row 1 should be null\n",
    "cvx_returns"
   ]
  },
  {
   "cell_type": "code",
   "execution_count": 34,
   "metadata": {},
   "outputs": [],
   "source": [
    "#Define date column for inclusion in returns df\n",
    "dates = Tunde_finalMerged_df[\"Date\"]"
   ]
  },
  {
   "cell_type": "code",
   "execution_count": 35,
   "metadata": {},
   "outputs": [],
   "source": [
    "#pass the returns into a df\n",
    "returns_df = pd.DataFrame({\"Date\":dates,\"CVX\":cvx_returns,\"XOM\":xom_returns,\"CL\":cl_returns,\n",
    "                          \"PG\":pg_returns,\"PEP\":pep_returns, \"SP500\":sp500_returns})"
   ]
  },
  {
   "cell_type": "code",
   "execution_count": 36,
   "metadata": {},
   "outputs": [
    {
     "data": {
      "text/html": [
       "<div>\n",
       "<style scoped>\n",
       "    .dataframe tbody tr th:only-of-type {\n",
       "        vertical-align: middle;\n",
       "    }\n",
       "\n",
       "    .dataframe tbody tr th {\n",
       "        vertical-align: top;\n",
       "    }\n",
       "\n",
       "    .dataframe thead th {\n",
       "        text-align: right;\n",
       "    }\n",
       "</style>\n",
       "<table border=\"1\" class=\"dataframe\">\n",
       "  <thead>\n",
       "    <tr style=\"text-align: right;\">\n",
       "      <th></th>\n",
       "      <th>Date</th>\n",
       "      <th>CVX</th>\n",
       "      <th>XOM</th>\n",
       "      <th>CL</th>\n",
       "      <th>PG</th>\n",
       "      <th>PEP</th>\n",
       "      <th>SP500</th>\n",
       "    </tr>\n",
       "  </thead>\n",
       "  <tbody>\n",
       "    <tr>\n",
       "      <th>0</th>\n",
       "      <td>2010-01-01</td>\n",
       "      <td>NaN</td>\n",
       "      <td>NaN</td>\n",
       "      <td>NaN</td>\n",
       "      <td>NaN</td>\n",
       "      <td>NaN</td>\n",
       "      <td>NaN</td>\n",
       "    </tr>\n",
       "    <tr>\n",
       "      <th>1</th>\n",
       "      <td>2010-02-01</td>\n",
       "      <td>0.002496</td>\n",
       "      <td>0.01</td>\n",
       "      <td>0.05</td>\n",
       "      <td>0.04</td>\n",
       "      <td>0.05</td>\n",
       "      <td>0.03</td>\n",
       "    </tr>\n",
       "    <tr>\n",
       "      <th>2</th>\n",
       "      <td>2010-03-01</td>\n",
       "      <td>0.058863</td>\n",
       "      <td>0.04</td>\n",
       "      <td>0.03</td>\n",
       "      <td>-0.00</td>\n",
       "      <td>0.06</td>\n",
       "      <td>0.06</td>\n",
       "    </tr>\n",
       "    <tr>\n",
       "      <th>3</th>\n",
       "      <td>2010-04-01</td>\n",
       "      <td>0.073981</td>\n",
       "      <td>0.01</td>\n",
       "      <td>-0.01</td>\n",
       "      <td>-0.02</td>\n",
       "      <td>-0.01</td>\n",
       "      <td>0.01</td>\n",
       "    </tr>\n",
       "    <tr>\n",
       "      <th>4</th>\n",
       "      <td>2010-05-01</td>\n",
       "      <td>-0.092952</td>\n",
       "      <td>-0.11</td>\n",
       "      <td>-0.06</td>\n",
       "      <td>-0.01</td>\n",
       "      <td>-0.04</td>\n",
       "      <td>-0.08</td>\n",
       "    </tr>\n",
       "  </tbody>\n",
       "</table>\n",
       "</div>"
      ],
      "text/plain": [
       "         Date       CVX   XOM    CL    PG   PEP  SP500\n",
       "0  2010-01-01       NaN   NaN   NaN   NaN   NaN    NaN\n",
       "1  2010-02-01  0.002496  0.01  0.05  0.04  0.05   0.03\n",
       "2  2010-03-01  0.058863  0.04  0.03 -0.00  0.06   0.06\n",
       "3  2010-04-01  0.073981  0.01 -0.01 -0.02 -0.01   0.01\n",
       "4  2010-05-01 -0.092952 -0.11 -0.06 -0.01 -0.04  -0.08"
      ]
     },
     "execution_count": 36,
     "metadata": {},
     "output_type": "execute_result"
    }
   ],
   "source": [
    "returns_df.head()"
   ]
  },
  {
   "cell_type": "code",
   "execution_count": null,
   "metadata": {},
   "outputs": [],
   "source": []
  },
  {
   "cell_type": "code",
   "execution_count": 37,
   "metadata": {},
   "outputs": [],
   "source": [
    "#remove rows with null values, should be only the first row\n",
    "returns_df = returns_df.dropna()"
   ]
  },
  {
   "cell_type": "code",
   "execution_count": 38,
   "metadata": {},
   "outputs": [
    {
     "data": {
      "text/html": [
       "<div>\n",
       "<style scoped>\n",
       "    .dataframe tbody tr th:only-of-type {\n",
       "        vertical-align: middle;\n",
       "    }\n",
       "\n",
       "    .dataframe tbody tr th {\n",
       "        vertical-align: top;\n",
       "    }\n",
       "\n",
       "    .dataframe thead th {\n",
       "        text-align: right;\n",
       "    }\n",
       "</style>\n",
       "<table border=\"1\" class=\"dataframe\">\n",
       "  <thead>\n",
       "    <tr style=\"text-align: right;\">\n",
       "      <th></th>\n",
       "      <th>Date</th>\n",
       "      <th>CVX</th>\n",
       "      <th>XOM</th>\n",
       "      <th>CL</th>\n",
       "      <th>PG</th>\n",
       "      <th>PEP</th>\n",
       "      <th>SP500</th>\n",
       "    </tr>\n",
       "  </thead>\n",
       "  <tbody>\n",
       "    <tr>\n",
       "      <th>1</th>\n",
       "      <td>2010-02-01</td>\n",
       "      <td>0.002496</td>\n",
       "      <td>0.01</td>\n",
       "      <td>0.05</td>\n",
       "      <td>0.04</td>\n",
       "      <td>0.05</td>\n",
       "      <td>0.03</td>\n",
       "    </tr>\n",
       "    <tr>\n",
       "      <th>2</th>\n",
       "      <td>2010-03-01</td>\n",
       "      <td>0.058863</td>\n",
       "      <td>0.04</td>\n",
       "      <td>0.03</td>\n",
       "      <td>-0.00</td>\n",
       "      <td>0.06</td>\n",
       "      <td>0.06</td>\n",
       "    </tr>\n",
       "    <tr>\n",
       "      <th>3</th>\n",
       "      <td>2010-04-01</td>\n",
       "      <td>0.073981</td>\n",
       "      <td>0.01</td>\n",
       "      <td>-0.01</td>\n",
       "      <td>-0.02</td>\n",
       "      <td>-0.01</td>\n",
       "      <td>0.01</td>\n",
       "    </tr>\n",
       "    <tr>\n",
       "      <th>4</th>\n",
       "      <td>2010-05-01</td>\n",
       "      <td>-0.092952</td>\n",
       "      <td>-0.11</td>\n",
       "      <td>-0.06</td>\n",
       "      <td>-0.01</td>\n",
       "      <td>-0.04</td>\n",
       "      <td>-0.08</td>\n",
       "    </tr>\n",
       "    <tr>\n",
       "      <th>5</th>\n",
       "      <td>2010-06-01</td>\n",
       "      <td>-0.072781</td>\n",
       "      <td>-0.05</td>\n",
       "      <td>0.01</td>\n",
       "      <td>-0.02</td>\n",
       "      <td>-0.03</td>\n",
       "      <td>-0.05</td>\n",
       "    </tr>\n",
       "    <tr>\n",
       "      <th>...</th>\n",
       "      <td>...</td>\n",
       "      <td>...</td>\n",
       "      <td>...</td>\n",
       "      <td>...</td>\n",
       "      <td>...</td>\n",
       "      <td>...</td>\n",
       "      <td>...</td>\n",
       "    </tr>\n",
       "    <tr>\n",
       "      <th>115</th>\n",
       "      <td>2019-08-01</td>\n",
       "      <td>-0.043782</td>\n",
       "      <td>-0.08</td>\n",
       "      <td>0.04</td>\n",
       "      <td>0.03</td>\n",
       "      <td>0.07</td>\n",
       "      <td>-0.02</td>\n",
       "    </tr>\n",
       "    <tr>\n",
       "      <th>116</th>\n",
       "      <td>2019-09-01</td>\n",
       "      <td>0.017832</td>\n",
       "      <td>0.04</td>\n",
       "      <td>-0.01</td>\n",
       "      <td>0.03</td>\n",
       "      <td>0.00</td>\n",
       "      <td>0.02</td>\n",
       "    </tr>\n",
       "    <tr>\n",
       "      <th>117</th>\n",
       "      <td>2019-10-01</td>\n",
       "      <td>-0.020742</td>\n",
       "      <td>-0.04</td>\n",
       "      <td>-0.07</td>\n",
       "      <td>0.00</td>\n",
       "      <td>0.01</td>\n",
       "      <td>0.02</td>\n",
       "    </tr>\n",
       "    <tr>\n",
       "      <th>118</th>\n",
       "      <td>2019-11-01</td>\n",
       "      <td>0.008524</td>\n",
       "      <td>0.01</td>\n",
       "      <td>-0.01</td>\n",
       "      <td>-0.01</td>\n",
       "      <td>-0.01</td>\n",
       "      <td>0.03</td>\n",
       "    </tr>\n",
       "    <tr>\n",
       "      <th>119</th>\n",
       "      <td>2019-12-01</td>\n",
       "      <td>0.038995</td>\n",
       "      <td>0.04</td>\n",
       "      <td>0.02</td>\n",
       "      <td>0.02</td>\n",
       "      <td>0.01</td>\n",
       "      <td>0.03</td>\n",
       "    </tr>\n",
       "  </tbody>\n",
       "</table>\n",
       "<p>119 rows × 7 columns</p>\n",
       "</div>"
      ],
      "text/plain": [
       "           Date       CVX   XOM    CL    PG   PEP  SP500\n",
       "1    2010-02-01  0.002496  0.01  0.05  0.04  0.05   0.03\n",
       "2    2010-03-01  0.058863  0.04  0.03 -0.00  0.06   0.06\n",
       "3    2010-04-01  0.073981  0.01 -0.01 -0.02 -0.01   0.01\n",
       "4    2010-05-01 -0.092952 -0.11 -0.06 -0.01 -0.04  -0.08\n",
       "5    2010-06-01 -0.072781 -0.05  0.01 -0.02 -0.03  -0.05\n",
       "..          ...       ...   ...   ...   ...   ...    ...\n",
       "115  2019-08-01 -0.043782 -0.08  0.04  0.03  0.07  -0.02\n",
       "116  2019-09-01  0.017832  0.04 -0.01  0.03  0.00   0.02\n",
       "117  2019-10-01 -0.020742 -0.04 -0.07  0.00  0.01   0.02\n",
       "118  2019-11-01  0.008524  0.01 -0.01 -0.01 -0.01   0.03\n",
       "119  2019-12-01  0.038995  0.04  0.02  0.02  0.01   0.03\n",
       "\n",
       "[119 rows x 7 columns]"
      ]
     },
     "execution_count": 38,
     "metadata": {},
     "output_type": "execute_result"
    }
   ],
   "source": [
    "returns_df"
   ]
  },
  {
   "cell_type": "code",
   "execution_count": 39,
   "metadata": {},
   "outputs": [
    {
     "data": {
      "image/png": "[encoded data removed]",
      "text/plain": [
       "<Figure size 432x288 with 1 Axes>"
      ]
     },
     "metadata": {
      "needs_background": "light"
     },
     "output_type": "display_data"
    }
   ],
   "source": [
    "#plot returns for a single stock and sp500\n",
    "#legend? \n",
    "returns_df[\"SP500\"].plot()\n",
    "returns_df[\"CVX\"].plot()\n",
    "plt.xlabel(\"120 Months: Jan2010 to Dec2019\")\n",
    "plt.ylabel(\"Monthly Returns(%)\")\n",
    "plt.savefig(\"Images/SingleStockMonthReturns.png\")"
   ]
  },
  {
   "cell_type": "code",
   "execution_count": 40,
   "metadata": {},
   "outputs": [
    {
     "data": {
      "image/png": "[encoded data removed]",
      "text/plain": [
       "<Figure size 432x288 with 1 Axes>"
      ]
     },
     "metadata": {
      "needs_background": "light"
     },
     "output_type": "display_data"
    }
   ],
   "source": [
    "#Plot line plot of all returns to show monthly volatility and how they all swing on average between +-10% monthly \n",
    "returns_df[\"CVX\"].plot()\n",
    "returns_df[\"SP500\"].plot()\n",
    "returns_df[\"CL\"].plot()\n",
    "returns_df[\"PG\"].plot()\n",
    "returns_df[\"PEP\"].plot()\n",
    "returns_df[\"XOM\"].plot()\n",
    "plt.xlabel(\"120 Months: Jan2010 to Dec2019\")\n",
    "plt.ylabel(\"Monthly Returns(%)\")\n",
    "plt.savefig(\"Images/MonthReturns.png\")"
   ]
  },
  {
   "cell_type": "code",
   "execution_count": 41,
   "metadata": {},
   "outputs": [],
   "source": [
    "#Calculate the cummulative returns of the stocks over the 10 years period\n",
    "cvxcumret = (cvx_returns + 1).cumprod()\n",
    "pepcumret = (pep_returns + 1).cumprod()\n",
    "xomcumret = (xom_returns +1 ).cumprod()\n",
    "clcumret = (cl_returns +1 ).cumprod()\n",
    "pgcumret = (pg_returns +1 ).cumprod()\n",
    "sp500cumret =(sp500_returns +1 ).cumprod()"
   ]
  },
  {
   "cell_type": "code",
   "execution_count": 42,
   "metadata": {},
   "outputs": [
    {
     "data": {
      "text/plain": [
       "0          NaN\n",
       "1      1.00250\n",
       "2      1.06151\n",
       "3      1.14004\n",
       "4      1.03407\n",
       "        ...   \n",
       "115    2.32279\n",
       "116    2.36421\n",
       "117    2.31517\n",
       "118    2.33490\n",
       "119    2.42595\n",
       "Name: CVX, Length: 120, dtype: float64"
      ]
     },
     "execution_count": 42,
     "metadata": {},
     "output_type": "execute_result"
    }
   ],
   "source": [
    "round(cvxcumret,5)"
   ]
  },
  {
   "cell_type": "code",
   "execution_count": 43,
   "metadata": {},
   "outputs": [
    {
     "data": {
      "image/png": "[encoded data removed]",
      "text/plain": [
       "<Figure size 432x288 with 1 Axes>"
      ]
     },
     "metadata": {
      "needs_background": "light"
     },
     "output_type": "display_data"
    }
   ],
   "source": [
    "#line plot of the cummulative returns of the stocks \n",
    "fig=plt.figure()\n",
    "ax1 = fig.add_axes([0.1,0.1,0.8,0.8])\n",
    "ax1.plot(cvxcumret)\n",
    "ax1.plot(sp500cumret)\n",
    "ax1.plot(pepcumret)\n",
    "ax1.plot(clcumret)\n",
    "ax1.plot(pgcumret)\n",
    "ax1.plot(xomcumret)\n",
    "plt.xlabel(\"Months: Jan 2010 - Dec 2019\")\n",
    "plt.ylabel(\"Returns(%)\")\n",
    "plt.savefig(\"Images/Cummulative.png\")"
   ]
  },
  {
   "cell_type": "code",
   "execution_count": 44,
   "metadata": {},
   "outputs": [
    {
     "data": {
      "text/plain": [
       "[<matplotlib.lines.Line2D at 0x10ebb4d60>]"
      ]
     },
     "execution_count": 44,
     "metadata": {},
     "output_type": "execute_result"
    },
    {
     "data": {
      "image/png": "[encoded data removed]",
      "text/plain": [
       "<Figure size 432x288 with 1 Axes>"
      ]
     },
     "metadata": {
      "needs_background": "light"
     },
     "output_type": "display_data"
    }
   ],
   "source": [
    "fig=plt.figure()\n",
    "ax1 = fig.add_axes([0.1,0.1,0.8,0.8])\n",
    "ax1.plot(pgcumret)\n",
    "ax1.plot(sp500cumret)"
   ]
  },
  {
   "cell_type": "code",
   "execution_count": 45,
   "metadata": {},
   "outputs": [
    {
     "data": {
      "text/plain": [
       "Text(0, 0.5, 'Monthly Returns(%)')"
      ]
     },
     "execution_count": 45,
     "metadata": {},
     "output_type": "execute_result"
    },
    {
     "data": {
      "image/png": "[encoded data removed]",
      "text/plain": [
       "<Figure size 432x288 with 1 Axes>"
      ]
     },
     "metadata": {
      "needs_background": "light"
     },
     "output_type": "display_data"
    }
   ],
   "source": [
    "#sample line with CVX and XOM\n",
    "returns_df[\"CL\"].plot()\n",
    "returns_df[\"PG\"].plot()\n",
    "returns_df[\"CVX\"].plot()\n",
    "returns_df[\"XOM\"].plot()\n",
    "returns_df[\"PEP\"].plot()\n",
    "\n",
    "\n",
    "plt.xlabel(\"Months: Jan2010 to Dec2019\")\n",
    "plt.ylabel(\"Monthly Returns(%)\")"
   ]
  },
  {
   "cell_type": "code",
   "execution_count": 46,
   "metadata": {},
   "outputs": [],
   "source": [
    "#BarChart = returns_df[[\"CVX\",\"XOM\",\"CL\",\"PG\",\"PEP\"]]"
   ]
  },
  {
   "cell_type": "code",
   "execution_count": 47,
   "metadata": {},
   "outputs": [],
   "source": [
    "#Bar = BarChart.plot(kind=\"bar\",figsize=(10,5), title=\"Retunrs 5 stocks\",\n",
    "#                                        color=\"green\", fontsize=12 )"
   ]
  },
  {
   "cell_type": "code",
   "execution_count": 48,
   "metadata": {},
   "outputs": [
    {
     "data": {
      "image/png": "[encoded data removed]",
      "text/plain": [
       "<Figure size 432x288 with 1 Axes>"
      ]
     },
     "metadata": {
      "needs_background": "light"
     },
     "output_type": "display_data"
    }
   ],
   "source": [
    "#Show the fluctuation in returns for one asset\n",
    "#returns_df[\"XOM\"].plot.hist(grid=True, bins=20, rwidth=0.9, color=\"green\")\n",
    "returns_df[\"CVX\"].plot.hist(grid=True, bins=20, rwidth=0.9, color=\"red\")\n",
    "plt.title(\"Chevron Stock Returns Jan 2010 - Dec 2019\")\n",
    "plt.ylabel(\"Frequency(%)\")\n",
    "plt.xlabel(\"Returns(%)\")\n",
    "plt.savefig(\"Images/CVXReturns.png\")"
   ]
  },
  {
   "cell_type": "code",
   "execution_count": 49,
   "metadata": {},
   "outputs": [
    {
     "data": {
      "image/png": "[encoded data removed]",
      "text/plain": [
       "<Figure size 432x288 with 1 Axes>"
      ]
     },
     "metadata": {
      "needs_background": "light"
     },
     "output_type": "display_data"
    }
   ],
   "source": [
    "returns_df[\"XOM\"].plot.hist(grid=True, bins=20, rwidth=0.9, color=\"green\")\n",
    "returns_df[\"CVX\"].plot.hist(grid=True, bins=20, rwidth=0.9, color=\"red\")\n",
    "plt.title(\"Exxonmobil & CVX Stock Returns Jan 2010 - Dec 2019\")\n",
    "plt.xlabel(\"Returns(%)\")\n",
    "plt.ylabel(\"Frequency(%)\")\n",
    "plt.savefig(\"Images/XOMReturns.png\")"
   ]
  },
  {
   "cell_type": "code",
   "execution_count": 50,
   "metadata": {},
   "outputs": [],
   "source": [
    "#standard deviations of returns\n",
    "cvxstd = round(returns_df[\"CVX\"].std(),3)\n",
    "xomstd = round(returns_df[\"XOM\"].std(),3)\n",
    "pgstd = round(returns_df[\"PG\"].std(),3)\n",
    "clstd = round(returns_df[\"CL\"].std(),3)\n",
    "pepstd = round(returns_df[\"PEP\"].std(),3)\n",
    "sp500std = round(returns_df[\"SP500\"].std(),3)"
   ]
  },
  {
   "cell_type": "code",
   "execution_count": 51,
   "metadata": {},
   "outputs": [],
   "source": [
    "#standard deviation of prices \n",
    "cvxstdP = round(cvx_clean_df[\"CVX\"].std(),3)\n",
    "xomstdP= round(xom_clean_df[\"XOM\"].std(),3)\n",
    "pgstdP = round(pg_clean_df[\"PG\"].std(),3)\n",
    "clstdP= round(cl_clean_df[\"CL\"].std(),3)\n",
    "pepstdP = round(pep_clean_df[\"PEP\"].std(),3)\n",
    "sp500stdP = round(sp500_clean_df[\"SP500\"].std(),3)"
   ]
  },
  {
   "cell_type": "code",
   "execution_count": 52,
   "metadata": {},
   "outputs": [
    {
     "data": {
      "text/html": [
       "<div>\n",
       "<style scoped>\n",
       "    .dataframe tbody tr th:only-of-type {\n",
       "        vertical-align: middle;\n",
       "    }\n",
       "\n",
       "    .dataframe tbody tr th {\n",
       "        vertical-align: top;\n",
       "    }\n",
       "\n",
       "    .dataframe thead th {\n",
       "        text-align: right;\n",
       "    }\n",
       "</style>\n",
       "<table border=\"1\" class=\"dataframe\">\n",
       "  <thead>\n",
       "    <tr style=\"text-align: right;\">\n",
       "      <th></th>\n",
       "      <th>CVX</th>\n",
       "      <th>XOM</th>\n",
       "      <th>PG</th>\n",
       "      <th>CL</th>\n",
       "      <th>PEP</th>\n",
       "      <th>SP500</th>\n",
       "    </tr>\n",
       "  </thead>\n",
       "  <tbody>\n",
       "    <tr>\n",
       "      <th>0</th>\n",
       "      <td>0.057</td>\n",
       "      <td>0.049</td>\n",
       "      <td>0.039</td>\n",
       "      <td>0.041</td>\n",
       "      <td>0.038</td>\n",
       "      <td>0.036</td>\n",
       "    </tr>\n",
       "  </tbody>\n",
       "</table>\n",
       "</div>"
      ],
      "text/plain": [
       "     CVX    XOM     PG     CL    PEP  SP500\n",
       "0  0.057  0.049  0.039  0.041  0.038  0.036"
      ]
     },
     "execution_count": 52,
     "metadata": {},
     "output_type": "execute_result"
    }
   ],
   "source": [
    "stddevR = pd.DataFrame({\"CVX\":cvxstd,\"XOM\":xomstd,\"PG\":pgstd,\"CL\":clstd,\"PEP\":pepstd, \"SP500\":sp500std}, index=[0])\n",
    "#Error without index \"If using all scalar values, you must pass an index\"\n",
    "stddevR"
   ]
  },
  {
   "cell_type": "code",
   "execution_count": 53,
   "metadata": {},
   "outputs": [
    {
     "data": {
      "text/plain": [
       "CVX    0.057\n",
       "XOM    0.049\n",
       "PG     0.039\n",
       "CL     0.041\n",
       "PEP    0.038\n",
       "dtype: float64"
      ]
     },
     "execution_count": 53,
     "metadata": {},
     "output_type": "execute_result"
    }
   ],
   "source": [
    "#pass on std of returns into series for bar chart\n",
    "#data_stdR = {\"CVX\": cvxstd,\"XOM\": xomstd,\"PG\": pgstd,\"CL\":clstd,\"PEP\":pepstd,\"SP500\":sp500std}\n",
    "data_stdR = {\"CVX\": cvxstd,\"XOM\": xomstd,\"PG\": pgstd,\"CL\":clstd,\"PEP\":pepstd}\n",
    "Ret_Std = pd.Series(data_stdR)\n",
    "Ret_Std"
   ]
  },
  {
   "cell_type": "code",
   "execution_count": 54,
   "metadata": {},
   "outputs": [
    {
     "data": {
      "image/png": "[encoded data removed]",
      "text/plain": [
       "<Figure size 576x360 with 1 Axes>"
      ]
     },
     "metadata": {
      "needs_background": "light"
     },
     "output_type": "display_data"
    }
   ],
   "source": [
    "RetStd_Bar = Ret_Std.plot(kind=\"bar\",figsize=(8,5), title=\"Ten Years Returns Std of 5 stocks 2010-2019\",\n",
    "                                       color=\"b\", fontsize=12 )\n",
    "plt.savefig(\"Images/Retstd.png\")"
   ]
  },
  {
   "cell_type": "code",
   "execution_count": 55,
   "metadata": {},
   "outputs": [
    {
     "data": {
      "text/html": [
       "<div>\n",
       "<style scoped>\n",
       "    .dataframe tbody tr th:only-of-type {\n",
       "        vertical-align: middle;\n",
       "    }\n",
       "\n",
       "    .dataframe tbody tr th {\n",
       "        vertical-align: top;\n",
       "    }\n",
       "\n",
       "    .dataframe thead th {\n",
       "        text-align: right;\n",
       "    }\n",
       "</style>\n",
       "<table border=\"1\" class=\"dataframe\">\n",
       "  <thead>\n",
       "    <tr style=\"text-align: right;\">\n",
       "      <th></th>\n",
       "      <th>CVX</th>\n",
       "      <th>XOM</th>\n",
       "      <th>PG</th>\n",
       "      <th>CL</th>\n",
       "      <th>PEP</th>\n",
       "      <th>SP500</th>\n",
       "    </tr>\n",
       "  </thead>\n",
       "  <tbody>\n",
       "    <tr>\n",
       "      <th>0</th>\n",
       "      <td>18.088</td>\n",
       "      <td>8.956</td>\n",
       "      <td>18.832</td>\n",
       "      <td>13.781</td>\n",
       "      <td>25.429</td>\n",
       "      <td>593.974</td>\n",
       "    </tr>\n",
       "  </tbody>\n",
       "</table>\n",
       "</div>"
      ],
      "text/plain": [
       "      CVX    XOM      PG      CL     PEP    SP500\n",
       "0  18.088  8.956  18.832  13.781  25.429  593.974"
      ]
     },
     "execution_count": 55,
     "metadata": {},
     "output_type": "execute_result"
    }
   ],
   "source": [
    "#std of prices \n",
    "stddevP = pd.DataFrame({\"CVX\":cvxstdP,\"XOM\":xomstdP,\"PG\":pgstdP,\"CL\":clstdP,\"PEP\":pepstdP,\"SP500\":sp500stdP}, index=[0])\n",
    "#Error without index \"If using all scalar values, you must pass an index\"\n",
    "stddevP"
   ]
  },
  {
   "cell_type": "code",
   "execution_count": 56,
   "metadata": {},
   "outputs": [
    {
     "data": {
      "text/plain": [
       "CVX    18.088\n",
       "XOM     8.956\n",
       "PG     18.832\n",
       "CL     13.781\n",
       "PEP    25.429\n",
       "dtype: float64"
      ]
     },
     "execution_count": 56,
     "metadata": {},
     "output_type": "execute_result"
    }
   ],
   "source": [
    "#make a series for std of prices \n",
    "#data_stdP = {\"CVX\": cvxstdP,\"XOM\": xomstdP,\"PG\": pgstdP,\"CL\":clstdP,\"PEP\":pepstdP,\"SP500\":sp500stdP}\n",
    "data_stdP = {\"CVX\": cvxstdP,\"XOM\": xomstdP,\"PG\": pgstdP,\"CL\":clstdP,\"PEP\":pepstdP}\n",
    "Price_Std = pd.Series(data_stdP)\n",
    "Price_Std"
   ]
  },
  {
   "cell_type": "code",
   "execution_count": 57,
   "metadata": {},
   "outputs": [
    {
     "data": {
      "image/png": "[encoded data removed]",
      "text/plain": [
       "<Figure size 576x360 with 1 Axes>"
      ]
     },
     "metadata": {
      "needs_background": "light"
     },
     "output_type": "display_data"
    }
   ],
   "source": [
    "PriceStd_Bar = Price_Std.plot(kind=\"bar\",figsize=(8,5), title=\"Ten Years Price Std of 5 stocks 2010-2019\",\n",
    "                                       color=\"red\", fontsize=12 )\n",
    "plt.ylabel(\"Volatility in Price\")\n",
    "plt.savefig(\"Images/Pricestd.png\")"
   ]
  },
  {
   "cell_type": "code",
   "execution_count": 58,
   "metadata": {},
   "outputs": [
    {
     "data": {
      "text/html": [
       "<div>\n",
       "<style scoped>\n",
       "    .dataframe tbody tr th:only-of-type {\n",
       "        vertical-align: middle;\n",
       "    }\n",
       "\n",
       "    .dataframe tbody tr th {\n",
       "        vertical-align: top;\n",
       "    }\n",
       "\n",
       "    .dataframe thead th {\n",
       "        text-align: right;\n",
       "    }\n",
       "</style>\n",
       "<table border=\"1\" class=\"dataframe\">\n",
       "  <thead>\n",
       "    <tr style=\"text-align: right;\">\n",
       "      <th></th>\n",
       "      <th>CVX</th>\n",
       "      <th>XOM</th>\n",
       "      <th>PG</th>\n",
       "      <th>CL</th>\n",
       "      <th>PEP</th>\n",
       "      <th>SP500</th>\n",
       "    </tr>\n",
       "  </thead>\n",
       "  <tbody>\n",
       "    <tr>\n",
       "      <th>CVX</th>\n",
       "      <td>1.000000</td>\n",
       "      <td>0.776006</td>\n",
       "      <td>0.259782</td>\n",
       "      <td>0.318158</td>\n",
       "      <td>0.300295</td>\n",
       "      <td>0.687777</td>\n",
       "    </tr>\n",
       "    <tr>\n",
       "      <th>XOM</th>\n",
       "      <td>0.776006</td>\n",
       "      <td>1.000000</td>\n",
       "      <td>0.247652</td>\n",
       "      <td>0.298218</td>\n",
       "      <td>0.287862</td>\n",
       "      <td>0.677061</td>\n",
       "    </tr>\n",
       "    <tr>\n",
       "      <th>PG</th>\n",
       "      <td>0.259782</td>\n",
       "      <td>0.247652</td>\n",
       "      <td>1.000000</td>\n",
       "      <td>0.554765</td>\n",
       "      <td>0.551315</td>\n",
       "      <td>0.344167</td>\n",
       "    </tr>\n",
       "    <tr>\n",
       "      <th>CL</th>\n",
       "      <td>0.318158</td>\n",
       "      <td>0.298218</td>\n",
       "      <td>0.554765</td>\n",
       "      <td>1.000000</td>\n",
       "      <td>0.669013</td>\n",
       "      <td>0.480125</td>\n",
       "    </tr>\n",
       "    <tr>\n",
       "      <th>PEP</th>\n",
       "      <td>0.300295</td>\n",
       "      <td>0.287862</td>\n",
       "      <td>0.551315</td>\n",
       "      <td>0.669013</td>\n",
       "      <td>1.000000</td>\n",
       "      <td>0.456676</td>\n",
       "    </tr>\n",
       "    <tr>\n",
       "      <th>SP500</th>\n",
       "      <td>0.687777</td>\n",
       "      <td>0.677061</td>\n",
       "      <td>0.344167</td>\n",
       "      <td>0.480125</td>\n",
       "      <td>0.456676</td>\n",
       "      <td>1.000000</td>\n",
       "    </tr>\n",
       "  </tbody>\n",
       "</table>\n",
       "</div>"
      ],
      "text/plain": [
       "            CVX       XOM        PG        CL       PEP     SP500\n",
       "CVX    1.000000  0.776006  0.259782  0.318158  0.300295  0.687777\n",
       "XOM    0.776006  1.000000  0.247652  0.298218  0.287862  0.677061\n",
       "PG     0.259782  0.247652  1.000000  0.554765  0.551315  0.344167\n",
       "CL     0.318158  0.298218  0.554765  1.000000  0.669013  0.480125\n",
       "PEP    0.300295  0.287862  0.551315  0.669013  1.000000  0.456676\n",
       "SP500  0.687777  0.677061  0.344167  0.480125  0.456676  1.000000"
      ]
     },
     "execution_count": 58,
     "metadata": {},
     "output_type": "execute_result"
    }
   ],
   "source": [
    "#Correlation Matrix ...a measure linear relationship between 2 variable..the effect of a change in one \n",
    "#variable on the other variable \n",
    "CorrelationMat = returns_df[[\"CVX\",\"XOM\",\"PG\",\"CL\",\"PEP\", \"SP500\"]].corr()\n",
    "CorrelationMat"
   ]
  },
  {
   "cell_type": "code",
   "execution_count": 59,
   "metadata": {},
   "outputs": [
    {
     "data": {
      "image/png": "[encoded data removed]",
      "text/plain": [
       "<Figure size 432x288 with 2 Axes>"
      ]
     },
     "metadata": {
      "needs_background": "light"
     },
     "output_type": "display_data"
    }
   ],
   "source": [
    "#Corelation matrix visual \n",
    "sn.heatmap(CorrelationMat, annot=True)\n",
    "plt.savefig(\"Images/CorrMatrix.png\")\n",
    "plt.show()"
   ]
  },
  {
   "cell_type": "code",
   "execution_count": 60,
   "metadata": {},
   "outputs": [],
   "source": [
    "#Covariance Matrix\n",
    "# Covariance = returns_df[[\"CVX\",\"XOM\",\"PG\",\"CL\",\"PEP\", \"SP500\"]].cov()\n",
    "# Covariance"
   ]
  },
  {
   "cell_type": "code",
   "execution_count": 61,
   "metadata": {},
   "outputs": [],
   "source": [
    "# #Covariance matrix visual \n",
    "# sn.heatmap(Covariance, annot=True)\n",
    "# plt.show()\n",
    "# plt.savefig(\"Images/Covariance.png\")"
   ]
  },
  {
   "cell_type": "code",
   "execution_count": 62,
   "metadata": {},
   "outputs": [],
   "source": [
    "#Perform regression analysis to predict the stocks of 2 stocks with lowest correlation "
   ]
  },
  {
   "cell_type": "code",
   "execution_count": 63,
   "metadata": {},
   "outputs": [
    {
     "data": {
      "text/html": [
       "<div>\n",
       "<style scoped>\n",
       "    .dataframe tbody tr th:only-of-type {\n",
       "        vertical-align: middle;\n",
       "    }\n",
       "\n",
       "    .dataframe tbody tr th {\n",
       "        vertical-align: top;\n",
       "    }\n",
       "\n",
       "    .dataframe thead th {\n",
       "        text-align: right;\n",
       "    }\n",
       "</style>\n",
       "<table border=\"1\" class=\"dataframe\">\n",
       "  <thead>\n",
       "    <tr style=\"text-align: right;\">\n",
       "      <th></th>\n",
       "      <th>Date</th>\n",
       "      <th>CVX</th>\n",
       "    </tr>\n",
       "  </thead>\n",
       "  <tbody>\n",
       "    <tr>\n",
       "      <th>0</th>\n",
       "      <td>2010-01-01</td>\n",
       "      <td>48.390926</td>\n",
       "    </tr>\n",
       "    <tr>\n",
       "      <th>1</th>\n",
       "      <td>2010-02-01</td>\n",
       "      <td>48.511700</td>\n",
       "    </tr>\n",
       "    <tr>\n",
       "      <th>2</th>\n",
       "      <td>2010-03-01</td>\n",
       "      <td>51.367226</td>\n",
       "    </tr>\n",
       "    <tr>\n",
       "      <th>3</th>\n",
       "      <td>2010-04-01</td>\n",
       "      <td>55.167446</td>\n",
       "    </tr>\n",
       "    <tr>\n",
       "      <th>4</th>\n",
       "      <td>2010-05-01</td>\n",
       "      <td>50.039509</td>\n",
       "    </tr>\n",
       "  </tbody>\n",
       "</table>\n",
       "</div>"
      ],
      "text/plain": [
       "         Date        CVX\n",
       "0  2010-01-01  48.390926\n",
       "1  2010-02-01  48.511700\n",
       "2  2010-03-01  51.367226\n",
       "3  2010-04-01  55.167446\n",
       "4  2010-05-01  50.039509"
      ]
     },
     "execution_count": 63,
     "metadata": {},
     "output_type": "execute_result"
    }
   ],
   "source": [
    "cvx_clean_df.head()"
   ]
  },
  {
   "cell_type": "code",
   "execution_count": 64,
   "metadata": {},
   "outputs": [],
   "source": [
    "cvx_reg_df = (cvx_clean_df.drop([\"Date\"], axis=1)).reset_index()"
   ]
  },
  {
   "cell_type": "code",
   "execution_count": 65,
   "metadata": {},
   "outputs": [
    {
     "data": {
      "text/plain": [
       "120"
      ]
     },
     "execution_count": 65,
     "metadata": {},
     "output_type": "execute_result"
    }
   ],
   "source": [
    "# regression1_df = regression_df.rename(columns={\"Index\",\"Months\"}, inplace=True)\n",
    "len(cvx_reg_df)"
   ]
  },
  {
   "cell_type": "code",
   "execution_count": 66,
   "metadata": {},
   "outputs": [
    {
     "name": "stdout",
     "output_type": "stream",
     "text": [
      "The r-squared is: 0.7211201233688641\n"
     ]
    },
    {
     "data": {
      "text/plain": [
       "<function matplotlib.pyplot.show(*args, **kw)>"
      ]
     },
     "execution_count": 66,
     "metadata": {},
     "output_type": "execute_result"
    },
    {
     "data": {
      "image/png": "[encoded data removed]",
      "text/plain": [
       "<Figure size 432x288 with 1 Axes>"
      ]
     },
     "metadata": {
      "needs_background": "light"
     },
     "output_type": "display_data"
    }
   ],
   "source": [
    "#CVX Regression \n",
    "#Define x and y variables for scatter plot\n",
    "x_values = cvx_reg_df[\"index\"]\n",
    "y_values = cvx_reg_df[\"CVX\"]\n",
    "(slope, intercept, rvalue, pvalue, stderr) = linregress(x_values, y_values)\n",
    "regress_values = x_values * slope + intercept\n",
    "line_eq = \"cvx = \" + str(round(slope,2)) + \"x + \" + str(round(intercept,2))\n",
    "plt.scatter(x_values,y_values)\n",
    "plt.plot(x_values,regress_values,\"r-\")\n",
    "plt.annotate(line_eq, (20,110),fontsize=15,color=\"red\")\n",
    "plt.xlabel(\"Time: Jan 2010 to Dec 2019\")\n",
    "plt.ylabel(\"Monthly Closing Price ($)\")\n",
    "plt.title(\"CVX Price Vs Time\")\n",
    "print(f\"The r-squared is: {rvalue**2}\")\n",
    "plt.savefig(\"Images/CVX_ScatterPlot.png\")\n",
    "plt.show"
   ]
  },
  {
   "cell_type": "code",
   "execution_count": 67,
   "metadata": {},
   "outputs": [
    {
     "name": "stdout",
     "output_type": "stream",
     "text": [
      "The forcasted monthly closing price of CVX in Jan 2020 is 114.30000000000001\n",
      "The forcasted monthly closing price of CVX in Feb 2020 is 114.74000000000001\n"
     ]
    }
   ],
   "source": [
    "CVX_Jan2020 = (0.44*121) + 61.06\n",
    "CVX_Feb2020 = (0.44*122) + 61.06\n",
    "print(f\"The forcasted monthly closing price of CVX in Jan 2020 is {CVX_Jan2020}\")\n",
    "print(f\"The forcasted monthly closing price of CVX in Feb 2020 is {CVX_Feb2020}\")"
   ]
  },
  {
   "cell_type": "code",
   "execution_count": 68,
   "metadata": {},
   "outputs": [],
   "source": [
    "#the actual closing price of CVX in Jan is 104.37\n",
    "#the actual closing price of CVX in Feb is  90.93...the std of cvx price is +/-18.1"
   ]
  },
  {
   "cell_type": "code",
   "execution_count": 69,
   "metadata": {},
   "outputs": [],
   "source": [
    "pg_reg_df = (pg_clean_df.drop([\"Date\"], axis=1)).reset_index()"
   ]
  },
  {
   "cell_type": "code",
   "execution_count": 70,
   "metadata": {},
   "outputs": [
    {
     "data": {
      "text/html": [
       "<div>\n",
       "<style scoped>\n",
       "    .dataframe tbody tr th:only-of-type {\n",
       "        vertical-align: middle;\n",
       "    }\n",
       "\n",
       "    .dataframe tbody tr th {\n",
       "        vertical-align: top;\n",
       "    }\n",
       "\n",
       "    .dataframe thead th {\n",
       "        text-align: right;\n",
       "    }\n",
       "</style>\n",
       "<table border=\"1\" class=\"dataframe\">\n",
       "  <thead>\n",
       "    <tr style=\"text-align: right;\">\n",
       "      <th></th>\n",
       "      <th>index</th>\n",
       "      <th>PG</th>\n",
       "    </tr>\n",
       "  </thead>\n",
       "  <tbody>\n",
       "    <tr>\n",
       "      <th>0</th>\n",
       "      <td>0</td>\n",
       "      <td>44.368778</td>\n",
       "    </tr>\n",
       "    <tr>\n",
       "      <th>1</th>\n",
       "      <td>1</td>\n",
       "      <td>45.943375</td>\n",
       "    </tr>\n",
       "    <tr>\n",
       "      <th>2</th>\n",
       "      <td>2</td>\n",
       "      <td>45.936111</td>\n",
       "    </tr>\n",
       "    <tr>\n",
       "      <th>3</th>\n",
       "      <td>3</td>\n",
       "      <td>45.130230</td>\n",
       "    </tr>\n",
       "    <tr>\n",
       "      <th>4</th>\n",
       "      <td>4</td>\n",
       "      <td>44.694584</td>\n",
       "    </tr>\n",
       "  </tbody>\n",
       "</table>\n",
       "</div>"
      ],
      "text/plain": [
       "   index         PG\n",
       "0      0  44.368778\n",
       "1      1  45.943375\n",
       "2      2  45.936111\n",
       "3      3  45.130230\n",
       "4      4  44.694584"
      ]
     },
     "execution_count": 70,
     "metadata": {},
     "output_type": "execute_result"
    }
   ],
   "source": [
    "\n",
    "pg_reg_df.head()"
   ]
  },
  {
   "cell_type": "code",
   "execution_count": 71,
   "metadata": {},
   "outputs": [
    {
     "name": "stdout",
     "output_type": "stream",
     "text": [
      "The r-squared is: 0.8344911100716593\n"
     ]
    },
    {
     "data": {
      "text/plain": [
       "<function matplotlib.pyplot.show(*args, **kw)>"
      ]
     },
     "execution_count": 71,
     "metadata": {},
     "output_type": "execute_result"
    },
    {
     "data": {
      "image/png": "[encoded data removed]",
      "text/plain": [
       "<Figure size 432x288 with 1 Axes>"
      ]
     },
     "metadata": {
      "needs_background": "light"
     },
     "output_type": "display_data"
    }
   ],
   "source": [
    "#PEP Regression \n",
    "#Define x and y variables for scatter plot\n",
    "x_values = pg_reg_df[\"index\"]\n",
    "y_values = pg_reg_df[\"PG\"]\n",
    "(slope, intercept, rvalue, pvalue, stderr) = linregress(x_values, y_values)\n",
    "regress_values = x_values * slope + intercept\n",
    "line_eq = \"pg = \" + str(round(slope,2)) + \"x + \" + str(round(intercept,2))\n",
    "plt.scatter(x_values,y_values)\n",
    "plt.plot(x_values,regress_values,\"r-\")\n",
    "plt.annotate(line_eq, (20,110),fontsize=15,color=\"red\")\n",
    "plt.xlabel(\"Time: Jan 2010 to Dec 2019\")\n",
    "plt.ylabel(\"Monthly Closing Price ($)\")\n",
    "plt.title(\"PG Monthly Price Vs Time\")\n",
    "print(f\"The r-squared is: {rvalue**2}\")\n",
    "plt.savefig(\"Images/PG_ScatterPlot.png\")\n",
    "plt.show"
   ]
  },
  {
   "cell_type": "code",
   "execution_count": 72,
   "metadata": {},
   "outputs": [
    {
     "name": "stdout",
     "output_type": "stream",
     "text": [
      "The forcasted monthly closing price of PG in Jan 2020 is 98.68\n",
      "The forcasted monthly closing price of PG in Feb 2020 is 99.17\n"
     ]
    }
   ],
   "source": [
    "PG_Jan2020 = (0.49*121) + 39.39\n",
    "PG_Feb2020 = (0.49*122) + 39.39\n",
    "print(f\"The forcasted monthly closing price of PG in Jan 2020 is {PG_Jan2020}\")\n",
    "print(f\"The forcasted monthly closing price of PG in Feb 2020 is {PG_Feb2020}\")"
   ]
  },
  {
   "cell_type": "code",
   "execution_count": 73,
   "metadata": {},
   "outputs": [],
   "source": [
    "#the actual closing price of PG in Jan is 123.06\n",
    "#the actual closing price of PG in Feb is  112.48...\n",
    "#forecasted price for Jan is outside of std 18.83, while Feb is within"
   ]
  },
  {
   "cell_type": "code",
   "execution_count": 74,
   "metadata": {},
   "outputs": [
    {
     "data": {
      "image/png": "[encoded data removed]",
      "text/plain": [
       "<Figure size 432x288 with 1 Axes>"
      ]
     },
     "metadata": {
      "needs_background": "light"
     },
     "output_type": "display_data"
    }
   ],
   "source": [
    "#Are there outliers in the data of the 2 assets due to news especially quaterly reports and dividend payout?\n",
    "BoxPlot_Data = []\n",
    "BoxPlot_Data.append(Tunde_finalMerged_df[\"CVX\"])\n",
    "# BoxPlot_Data.append(Tunde_finalMerged_df[\"XOM\"])\n",
    "BoxPlot_Data.append(Tunde_finalMerged_df[\"PG\"])\n",
    "# BoxPlot_Data.append(Tunde_finalMerged_df[\"CL\"])\n",
    "# BoxPlot_Data.append(Tunde_finalMerged_df[\"PEP\"])\n",
    "# BoxPlot_Data.append(Tunde_finalMerged_df[\"SP500\"])\n",
    "Risky_Assets =[\"CVX\",\"PG\"]\n",
    "fig1, ax1=plt.subplots()\n",
    "ax1.set_title(\"2 Risky Assets\")\n",
    "ax1.set_ylabel(\"Monthly Price\")\n",
    "#plot boxplots and add color to show outliers \n",
    "ax1.boxplot(BoxPlot_Data, sym=\"r\")\n",
    "plt.xticks([1,2], Risky_Assets)\n",
    "plt.savefig(\"Images/Boxplots.pdf\")\n",
    "plt.show()"
   ]
  },
  {
   "cell_type": "code",
   "execution_count": 75,
   "metadata": {},
   "outputs": [
    {
     "data": {
      "text/html": [
       "<div>\n",
       "<style scoped>\n",
       "    .dataframe tbody tr th:only-of-type {\n",
       "        vertical-align: middle;\n",
       "    }\n",
       "\n",
       "    .dataframe tbody tr th {\n",
       "        vertical-align: top;\n",
       "    }\n",
       "\n",
       "    .dataframe thead th {\n",
       "        text-align: right;\n",
       "    }\n",
       "</style>\n",
       "<table border=\"1\" class=\"dataframe\">\n",
       "  <thead>\n",
       "    <tr style=\"text-align: right;\">\n",
       "      <th></th>\n",
       "      <th>index</th>\n",
       "      <th>CVX</th>\n",
       "      <th>XOM</th>\n",
       "      <th>CL</th>\n",
       "      <th>PG</th>\n",
       "      <th>PEP</th>\n",
       "      <th>SP500</th>\n",
       "    </tr>\n",
       "  </thead>\n",
       "  <tbody>\n",
       "    <tr>\n",
       "      <th>0</th>\n",
       "      <td>1</td>\n",
       "      <td>0.002496</td>\n",
       "      <td>0.01</td>\n",
       "      <td>0.05</td>\n",
       "      <td>0.04</td>\n",
       "      <td>0.05</td>\n",
       "      <td>0.03</td>\n",
       "    </tr>\n",
       "    <tr>\n",
       "      <th>1</th>\n",
       "      <td>2</td>\n",
       "      <td>0.058863</td>\n",
       "      <td>0.04</td>\n",
       "      <td>0.03</td>\n",
       "      <td>-0.00</td>\n",
       "      <td>0.06</td>\n",
       "      <td>0.06</td>\n",
       "    </tr>\n",
       "    <tr>\n",
       "      <th>2</th>\n",
       "      <td>3</td>\n",
       "      <td>0.073981</td>\n",
       "      <td>0.01</td>\n",
       "      <td>-0.01</td>\n",
       "      <td>-0.02</td>\n",
       "      <td>-0.01</td>\n",
       "      <td>0.01</td>\n",
       "    </tr>\n",
       "    <tr>\n",
       "      <th>3</th>\n",
       "      <td>4</td>\n",
       "      <td>-0.092952</td>\n",
       "      <td>-0.11</td>\n",
       "      <td>-0.06</td>\n",
       "      <td>-0.01</td>\n",
       "      <td>-0.04</td>\n",
       "      <td>-0.08</td>\n",
       "    </tr>\n",
       "    <tr>\n",
       "      <th>4</th>\n",
       "      <td>5</td>\n",
       "      <td>-0.072781</td>\n",
       "      <td>-0.05</td>\n",
       "      <td>0.01</td>\n",
       "      <td>-0.02</td>\n",
       "      <td>-0.03</td>\n",
       "      <td>-0.05</td>\n",
       "    </tr>\n",
       "  </tbody>\n",
       "</table>\n",
       "</div>"
      ],
      "text/plain": [
       "   index       CVX   XOM    CL    PG   PEP  SP500\n",
       "0      1  0.002496  0.01  0.05  0.04  0.05   0.03\n",
       "1      2  0.058863  0.04  0.03 -0.00  0.06   0.06\n",
       "2      3  0.073981  0.01 -0.01 -0.02 -0.01   0.01\n",
       "3      4 -0.092952 -0.11 -0.06 -0.01 -0.04  -0.08\n",
       "4      5 -0.072781 -0.05  0.01 -0.02 -0.03  -0.05"
      ]
     },
     "execution_count": 75,
     "metadata": {},
     "output_type": "execute_result"
    }
   ],
   "source": [
    "ReturnsReg_df = returns_df.copy()\n",
    "ReturnsReg_df = (ReturnsReg_df.drop([\"Date\"], axis=1)).reset_index()\n",
    "ReturnsReg_df.head()"
   ]
  },
  {
   "cell_type": "code",
   "execution_count": 76,
   "metadata": {},
   "outputs": [],
   "source": [
    "def f_regression(x_values,y_values,i,j):\n",
    "    (slope, intercept, rvalue, pvalue, stderr) = linregress(x_values, y_values)\n",
    "    regress_values = x_values * slope + intercept\n",
    "    line_eq = \"y = \" + str(round(slope,6)) + \"x + \" + str(round(intercept,6))\n",
    "    a= plt.scatter(x_values,y_values)\n",
    "    b= plt.plot(x_values,regress_values,\"r-\")\n",
    "    c= print(f\"The r-squared is: {rvalue**2}\")\n",
    "    d= plt.annotate(line_eq, (i,j),fontsize=15,color=\"red\")\n",
    "    return (a,b,c,d)"
   ]
  },
  {
   "cell_type": "code",
   "execution_count": 129,
   "metadata": {},
   "outputs": [
    {
     "name": "stdout",
     "output_type": "stream",
     "text": [
      "The r-squared is: 0.004621634221241688\n"
     ]
    },
    {
     "data": {
      "text/plain": [
       "<function matplotlib.pyplot.show(*args, **kw)>"
      ]
     },
     "execution_count": 129,
     "metadata": {},
     "output_type": "execute_result"
    },
    {
     "data": {
      "image/png": "[encoded data removed]",
      "text/plain": [
       "<Figure size 432x288 with 1 Axes>"
      ]
     },
     "metadata": {
      "needs_background": "light"
     },
     "output_type": "display_data"
    }
   ],
   "source": [
    "f_regression(ReturnsReg_df[\"index\"], ReturnsReg_df[\"CVX\"],20,0.16)\n",
    "plt.xlabel(\"Time: Jan 2010 to Dec 2019\")\n",
    "plt.ylabel(\"CVX Monthly Returns (%)\")\n",
    "plt.title(\"CVX Monthly Return Vs Time\")\n",
    "# print(f\"The r-squared is: {rvalue**2}\")\n",
    "plt.savefig(\"Images/CVXRet_ScatterPlot.png\")\n",
    "plt.show"
   ]
  },
  {
   "cell_type": "code",
   "execution_count": 78,
   "metadata": {},
   "outputs": [
    {
     "name": "stdout",
     "output_type": "stream",
     "text": [
      "The forcasted return of CVX by end of Jan 2020 is 0.0292\n",
      "The forcasted return of CVX by end of Feb 2020 is 0.0293\n",
      "The forcasted return of CVX by end of Dec 2020 is 0.0304\n"
     ]
    }
   ],
   "source": [
    "CVXRet_Jan2020 = round((0.000111*121) + 0.015727,4)\n",
    "CVXRet_Feb2020 = round((0.000111*122) + 0.015727,4)\n",
    "CVXRet_Dec2020 = round((0.000111*132) + 0.015727,4)\n",
    "print(f\"The forcasted return of CVX by end of Jan 2020 is {CVXRet_Jan2020}\")\n",
    "print(f\"The forcasted return of CVX by end of Feb 2020 is {CVXRet_Feb2020}\")\n",
    "print(f\"The forcasted return of CVX by end of Dec 2020 is {CVXRet_Dec2020}\")"
   ]
  },
  {
   "cell_type": "code",
   "execution_count": 79,
   "metadata": {},
   "outputs": [],
   "source": [
    "#pass the Cumreturns into a df\n",
    "CumReturns_df = pd.DataFrame({\"Date\":dates,\"CVX\":cvxcumret,\"XOM\":xomcumret,\"CL\":clcumret,\n",
    "                          \"PG\":pgcumret,\"PEP\":pepcumret, \"SP500\":sp500cumret})"
   ]
  },
  {
   "cell_type": "code",
   "execution_count": 80,
   "metadata": {},
   "outputs": [],
   "source": [
    "CumRet_df= CumReturns_df.dropna()\n"
   ]
  },
  {
   "cell_type": "code",
   "execution_count": 81,
   "metadata": {},
   "outputs": [
    {
     "data": {
      "text/html": [
       "<div>\n",
       "<style scoped>\n",
       "    .dataframe tbody tr th:only-of-type {\n",
       "        vertical-align: middle;\n",
       "    }\n",
       "\n",
       "    .dataframe tbody tr th {\n",
       "        vertical-align: top;\n",
       "    }\n",
       "\n",
       "    .dataframe thead th {\n",
       "        text-align: right;\n",
       "    }\n",
       "</style>\n",
       "<table border=\"1\" class=\"dataframe\">\n",
       "  <thead>\n",
       "    <tr style=\"text-align: right;\">\n",
       "      <th></th>\n",
       "      <th>Date</th>\n",
       "      <th>CVX</th>\n",
       "      <th>XOM</th>\n",
       "      <th>CL</th>\n",
       "      <th>PG</th>\n",
       "      <th>PEP</th>\n",
       "      <th>SP500</th>\n",
       "    </tr>\n",
       "  </thead>\n",
       "  <tbody>\n",
       "    <tr>\n",
       "      <th>1</th>\n",
       "      <td>2010-02-01</td>\n",
       "      <td>1.002496</td>\n",
       "      <td>1.010000</td>\n",
       "      <td>1.050000</td>\n",
       "      <td>1.040000</td>\n",
       "      <td>1.050000</td>\n",
       "      <td>1.030000</td>\n",
       "    </tr>\n",
       "    <tr>\n",
       "      <th>2</th>\n",
       "      <td>2010-03-01</td>\n",
       "      <td>1.061506</td>\n",
       "      <td>1.050400</td>\n",
       "      <td>1.081500</td>\n",
       "      <td>1.040000</td>\n",
       "      <td>1.113000</td>\n",
       "      <td>1.091800</td>\n",
       "    </tr>\n",
       "    <tr>\n",
       "      <th>3</th>\n",
       "      <td>2010-04-01</td>\n",
       "      <td>1.140037</td>\n",
       "      <td>1.060904</td>\n",
       "      <td>1.070685</td>\n",
       "      <td>1.019200</td>\n",
       "      <td>1.101870</td>\n",
       "      <td>1.102718</td>\n",
       "    </tr>\n",
       "    <tr>\n",
       "      <th>4</th>\n",
       "      <td>2010-05-01</td>\n",
       "      <td>1.034068</td>\n",
       "      <td>0.944205</td>\n",
       "      <td>1.006444</td>\n",
       "      <td>1.009008</td>\n",
       "      <td>1.057795</td>\n",
       "      <td>1.014501</td>\n",
       "    </tr>\n",
       "    <tr>\n",
       "      <th>5</th>\n",
       "      <td>2010-06-01</td>\n",
       "      <td>0.958808</td>\n",
       "      <td>0.896994</td>\n",
       "      <td>1.016508</td>\n",
       "      <td>0.988828</td>\n",
       "      <td>1.026061</td>\n",
       "      <td>0.963776</td>\n",
       "    </tr>\n",
       "  </tbody>\n",
       "</table>\n",
       "</div>"
      ],
      "text/plain": [
       "         Date       CVX       XOM        CL        PG       PEP     SP500\n",
       "1  2010-02-01  1.002496  1.010000  1.050000  1.040000  1.050000  1.030000\n",
       "2  2010-03-01  1.061506  1.050400  1.081500  1.040000  1.113000  1.091800\n",
       "3  2010-04-01  1.140037  1.060904  1.070685  1.019200  1.101870  1.102718\n",
       "4  2010-05-01  1.034068  0.944205  1.006444  1.009008  1.057795  1.014501\n",
       "5  2010-06-01  0.958808  0.896994  1.016508  0.988828  1.026061  0.963776"
      ]
     },
     "execution_count": 81,
     "metadata": {},
     "output_type": "execute_result"
    }
   ],
   "source": [
    "CumRet_df.head()"
   ]
  },
  {
   "cell_type": "code",
   "execution_count": 82,
   "metadata": {},
   "outputs": [
    {
     "data": {
      "text/html": [
       "<div>\n",
       "<style scoped>\n",
       "    .dataframe tbody tr th:only-of-type {\n",
       "        vertical-align: middle;\n",
       "    }\n",
       "\n",
       "    .dataframe tbody tr th {\n",
       "        vertical-align: top;\n",
       "    }\n",
       "\n",
       "    .dataframe thead th {\n",
       "        text-align: right;\n",
       "    }\n",
       "</style>\n",
       "<table border=\"1\" class=\"dataframe\">\n",
       "  <thead>\n",
       "    <tr style=\"text-align: right;\">\n",
       "      <th></th>\n",
       "      <th>index</th>\n",
       "      <th>CVX</th>\n",
       "      <th>XOM</th>\n",
       "      <th>CL</th>\n",
       "      <th>PG</th>\n",
       "      <th>PEP</th>\n",
       "      <th>SP500</th>\n",
       "    </tr>\n",
       "  </thead>\n",
       "  <tbody>\n",
       "    <tr>\n",
       "      <th>0</th>\n",
       "      <td>1</td>\n",
       "      <td>1.002496</td>\n",
       "      <td>1.010000</td>\n",
       "      <td>1.050000</td>\n",
       "      <td>1.040000</td>\n",
       "      <td>1.050000</td>\n",
       "      <td>1.030000</td>\n",
       "    </tr>\n",
       "    <tr>\n",
       "      <th>1</th>\n",
       "      <td>2</td>\n",
       "      <td>1.061506</td>\n",
       "      <td>1.050400</td>\n",
       "      <td>1.081500</td>\n",
       "      <td>1.040000</td>\n",
       "      <td>1.113000</td>\n",
       "      <td>1.091800</td>\n",
       "    </tr>\n",
       "    <tr>\n",
       "      <th>2</th>\n",
       "      <td>3</td>\n",
       "      <td>1.140037</td>\n",
       "      <td>1.060904</td>\n",
       "      <td>1.070685</td>\n",
       "      <td>1.019200</td>\n",
       "      <td>1.101870</td>\n",
       "      <td>1.102718</td>\n",
       "    </tr>\n",
       "    <tr>\n",
       "      <th>3</th>\n",
       "      <td>4</td>\n",
       "      <td>1.034068</td>\n",
       "      <td>0.944205</td>\n",
       "      <td>1.006444</td>\n",
       "      <td>1.009008</td>\n",
       "      <td>1.057795</td>\n",
       "      <td>1.014501</td>\n",
       "    </tr>\n",
       "    <tr>\n",
       "      <th>4</th>\n",
       "      <td>5</td>\n",
       "      <td>0.958808</td>\n",
       "      <td>0.896994</td>\n",
       "      <td>1.016508</td>\n",
       "      <td>0.988828</td>\n",
       "      <td>1.026061</td>\n",
       "      <td>0.963776</td>\n",
       "    </tr>\n",
       "    <tr>\n",
       "      <th>...</th>\n",
       "      <td>...</td>\n",
       "      <td>...</td>\n",
       "      <td>...</td>\n",
       "      <td>...</td>\n",
       "      <td>...</td>\n",
       "      <td>...</td>\n",
       "      <td>...</td>\n",
       "    </tr>\n",
       "    <tr>\n",
       "      <th>114</th>\n",
       "      <td>115</td>\n",
       "      <td>2.322787</td>\n",
       "      <td>1.500213</td>\n",
       "      <td>2.665876</td>\n",
       "      <td>2.661130</td>\n",
       "      <td>3.128552</td>\n",
       "      <td>2.661996</td>\n",
       "    </tr>\n",
       "    <tr>\n",
       "      <th>115</th>\n",
       "      <td>116</td>\n",
       "      <td>2.364207</td>\n",
       "      <td>1.560221</td>\n",
       "      <td>2.639217</td>\n",
       "      <td>2.740964</td>\n",
       "      <td>3.128552</td>\n",
       "      <td>2.715236</td>\n",
       "    </tr>\n",
       "    <tr>\n",
       "      <th>116</th>\n",
       "      <td>117</td>\n",
       "      <td>2.315169</td>\n",
       "      <td>1.497812</td>\n",
       "      <td>2.454472</td>\n",
       "      <td>2.740964</td>\n",
       "      <td>3.159838</td>\n",
       "      <td>2.769540</td>\n",
       "    </tr>\n",
       "    <tr>\n",
       "      <th>117</th>\n",
       "      <td>118</td>\n",
       "      <td>2.334903</td>\n",
       "      <td>1.512791</td>\n",
       "      <td>2.429927</td>\n",
       "      <td>2.713555</td>\n",
       "      <td>3.128239</td>\n",
       "      <td>2.852627</td>\n",
       "    </tr>\n",
       "    <tr>\n",
       "      <th>118</th>\n",
       "      <td>119</td>\n",
       "      <td>2.425953</td>\n",
       "      <td>1.573302</td>\n",
       "      <td>2.478526</td>\n",
       "      <td>2.767826</td>\n",
       "      <td>3.159522</td>\n",
       "      <td>2.938205</td>\n",
       "    </tr>\n",
       "  </tbody>\n",
       "</table>\n",
       "<p>119 rows × 7 columns</p>\n",
       "</div>"
      ],
      "text/plain": [
       "     index       CVX       XOM        CL        PG       PEP     SP500\n",
       "0        1  1.002496  1.010000  1.050000  1.040000  1.050000  1.030000\n",
       "1        2  1.061506  1.050400  1.081500  1.040000  1.113000  1.091800\n",
       "2        3  1.140037  1.060904  1.070685  1.019200  1.101870  1.102718\n",
       "3        4  1.034068  0.944205  1.006444  1.009008  1.057795  1.014501\n",
       "4        5  0.958808  0.896994  1.016508  0.988828  1.026061  0.963776\n",
       "..     ...       ...       ...       ...       ...       ...       ...\n",
       "114    115  2.322787  1.500213  2.665876  2.661130  3.128552  2.661996\n",
       "115    116  2.364207  1.560221  2.639217  2.740964  3.128552  2.715236\n",
       "116    117  2.315169  1.497812  2.454472  2.740964  3.159838  2.769540\n",
       "117    118  2.334903  1.512791  2.429927  2.713555  3.128239  2.852627\n",
       "118    119  2.425953  1.573302  2.478526  2.767826  3.159522  2.938205\n",
       "\n",
       "[119 rows x 7 columns]"
      ]
     },
     "execution_count": 82,
     "metadata": {},
     "output_type": "execute_result"
    }
   ],
   "source": [
    "CumRet_reg_df = (CumRet_df.drop([\"Date\"], axis=1)).reset_index()\n",
    "CumRet_reg_df"
   ]
  },
  {
   "cell_type": "code",
   "execution_count": 83,
   "metadata": {},
   "outputs": [
    {
     "name": "stdout",
     "output_type": "stream",
     "text": [
      "The r-squared is: 0.714152625569932\n"
     ]
    },
    {
     "data": {
      "text/plain": [
       "<function matplotlib.pyplot.show(*args, **kw)>"
      ]
     },
     "execution_count": 83,
     "metadata": {},
     "output_type": "execute_result"
    },
    {
     "data": {
      "image/png": "[encoded data removed]",
      "text/plain": [
       "<Figure size 432x288 with 1 Axes>"
      ]
     },
     "metadata": {
      "needs_background": "light"
     },
     "output_type": "display_data"
    }
   ],
   "source": [
    "x_values =CumRet_reg_df[\"index\"]\n",
    "y_values = CumRet_reg_df[\"CVX\"]\n",
    "(slope, intercept, rvalue, pvalue, stderr) = linregress(x_values, y_values)\n",
    "regress_values = x_values * slope + intercept\n",
    "line_eq = \"cvxCumRet = \" + str(round(slope,6)) + \"x + \" + str(round(intercept,6))\n",
    "plt.scatter(x_values,y_values)\n",
    "plt.plot(x_values,regress_values,\"r-\")\n",
    "plt.annotate(line_eq, (20,1.2),fontsize=15,color=\"red\")\n",
    "plt.xlabel(\"Time: Jan 2010 to Dec 2019\")\n",
    "plt.ylabel(\"CVX Cummulative Returns\")\n",
    "plt.title(\"CVX Cummulative Return Vs Time\")\n",
    "print(f\"The r-squared is: {rvalue**2}\")\n",
    "plt.savefig(\"Images/CVXCumRet_ScatterPlot.png\")\n",
    "plt.show"
   ]
  },
  {
   "cell_type": "code",
   "execution_count": 84,
   "metadata": {},
   "outputs": [
    {
     "name": "stdout",
     "output_type": "stream",
     "text": [
      "The forcasted cummulative return of CVX by end of 12 months holding is 1.3787859999999998\n",
      "The forcasted cummulative return of CVX by end of 12 months holding is 1.486942\n",
      "The forcasted cummulative return of CVX by end of 12 months holding is 1.81141\n"
     ]
    }
   ],
   "source": [
    "CVX_CR_12months = (0.009013*12) + 1.27063\n",
    "CVX_CR_24months = (0.009013*24) + 1.27063\n",
    "CVX_CR_60months = (0.009013*60) + 1.27063\n",
    "\n",
    "print(f\"The forcasted cummulative return of CVX by end of 12 months holding is {CVX_CR_12months}\")\n",
    "print(f\"The forcasted cummulative return of CVX by end of 12 months holding is {CVX_CR_24months}\")\n",
    "print(f\"The forcasted cummulative return of CVX by end of 12 months holding is {CVX_CR_60months}\")"
   ]
  },
  {
   "cell_type": "code",
   "execution_count": 86,
   "metadata": {},
   "outputs": [],
   "source": [
    "CumRet_MulReg = pd.merge(UnEmp1_df,CumRet_reg_df, on=\"index\")"
   ]
  },
  {
   "cell_type": "code",
   "execution_count": 87,
   "metadata": {},
   "outputs": [
    {
     "data": {
      "text/html": [
       "<div>\n",
       "<style scoped>\n",
       "    .dataframe tbody tr th:only-of-type {\n",
       "        vertical-align: middle;\n",
       "    }\n",
       "\n",
       "    .dataframe tbody tr th {\n",
       "        vertical-align: top;\n",
       "    }\n",
       "\n",
       "    .dataframe thead th {\n",
       "        text-align: right;\n",
       "    }\n",
       "</style>\n",
       "<table border=\"1\" class=\"dataframe\">\n",
       "  <thead>\n",
       "    <tr style=\"text-align: right;\">\n",
       "      <th></th>\n",
       "      <th>index</th>\n",
       "      <th>US</th>\n",
       "      <th>TX</th>\n",
       "      <th>CVX</th>\n",
       "      <th>XOM</th>\n",
       "      <th>CL</th>\n",
       "      <th>PG</th>\n",
       "      <th>PEP</th>\n",
       "      <th>SP500</th>\n",
       "    </tr>\n",
       "  </thead>\n",
       "  <tbody>\n",
       "    <tr>\n",
       "      <th>0</th>\n",
       "      <td>1</td>\n",
       "      <td>9.8</td>\n",
       "      <td>8.3</td>\n",
       "      <td>1.002496</td>\n",
       "      <td>1.010000</td>\n",
       "      <td>1.050000</td>\n",
       "      <td>1.040000</td>\n",
       "      <td>1.050000</td>\n",
       "      <td>1.030000</td>\n",
       "    </tr>\n",
       "    <tr>\n",
       "      <th>1</th>\n",
       "      <td>2</td>\n",
       "      <td>9.9</td>\n",
       "      <td>8.3</td>\n",
       "      <td>1.061506</td>\n",
       "      <td>1.050400</td>\n",
       "      <td>1.081500</td>\n",
       "      <td>1.040000</td>\n",
       "      <td>1.113000</td>\n",
       "      <td>1.091800</td>\n",
       "    </tr>\n",
       "    <tr>\n",
       "      <th>2</th>\n",
       "      <td>3</td>\n",
       "      <td>9.9</td>\n",
       "      <td>8.2</td>\n",
       "      <td>1.140037</td>\n",
       "      <td>1.060904</td>\n",
       "      <td>1.070685</td>\n",
       "      <td>1.019200</td>\n",
       "      <td>1.101870</td>\n",
       "      <td>1.102718</td>\n",
       "    </tr>\n",
       "    <tr>\n",
       "      <th>3</th>\n",
       "      <td>4</td>\n",
       "      <td>9.6</td>\n",
       "      <td>8.1</td>\n",
       "      <td>1.034068</td>\n",
       "      <td>0.944205</td>\n",
       "      <td>1.006444</td>\n",
       "      <td>1.009008</td>\n",
       "      <td>1.057795</td>\n",
       "      <td>1.014501</td>\n",
       "    </tr>\n",
       "    <tr>\n",
       "      <th>4</th>\n",
       "      <td>5</td>\n",
       "      <td>9.4</td>\n",
       "      <td>8.0</td>\n",
       "      <td>0.958808</td>\n",
       "      <td>0.896994</td>\n",
       "      <td>1.016508</td>\n",
       "      <td>0.988828</td>\n",
       "      <td>1.026061</td>\n",
       "      <td>0.963776</td>\n",
       "    </tr>\n",
       "  </tbody>\n",
       "</table>\n",
       "</div>"
      ],
      "text/plain": [
       "   index   US   TX       CVX       XOM        CL        PG       PEP     SP500\n",
       "0      1  9.8  8.3  1.002496  1.010000  1.050000  1.040000  1.050000  1.030000\n",
       "1      2  9.9  8.3  1.061506  1.050400  1.081500  1.040000  1.113000  1.091800\n",
       "2      3  9.9  8.2  1.140037  1.060904  1.070685  1.019200  1.101870  1.102718\n",
       "3      4  9.6  8.1  1.034068  0.944205  1.006444  1.009008  1.057795  1.014501\n",
       "4      5  9.4  8.0  0.958808  0.896994  1.016508  0.988828  1.026061  0.963776"
      ]
     },
     "execution_count": 87,
     "metadata": {},
     "output_type": "execute_result"
    }
   ],
   "source": [
    "CumRet_MulReg.head()"
   ]
  },
  {
   "cell_type": "code",
   "execution_count": 88,
   "metadata": {},
   "outputs": [
    {
     "data": {
      "text/plain": [
       "LinearRegression(copy_X=True, fit_intercept=True, n_jobs=None, normalize=False)"
      ]
     },
     "execution_count": 88,
     "metadata": {},
     "output_type": "execute_result"
    }
   ],
   "source": [
    "y = CumRet_MulReg[\"CVX\"]\n",
    "x = CumRet_MulReg[[\"index\",\"US\"]]\n",
    "linear_regression = LinearRegression()\n",
    "linear_regression.fit(x,y)"
   ]
  },
  {
   "cell_type": "code",
   "execution_count": 89,
   "metadata": {},
   "outputs": [],
   "source": [
    "y_pred =linear_regression.predict(x)\n",
    "#y_pred"
   ]
  },
  {
   "cell_type": "code",
   "execution_count": 90,
   "metadata": {},
   "outputs": [
    {
     "data": {
      "text/plain": [
       "array([0.01791146, 0.15249261])"
      ]
     },
     "execution_count": 90,
     "metadata": {},
     "output_type": "execute_result"
    }
   ],
   "source": [
    "Coefficients = linear_regression.coef_\n",
    "Coefficients"
   ]
  },
  {
   "cell_type": "code",
   "execution_count": 91,
   "metadata": {},
   "outputs": [
    {
     "data": {
      "text/plain": [
       "-0.20693857487707157"
      ]
     },
     "execution_count": 91,
     "metadata": {},
     "output_type": "execute_result"
    }
   ],
   "source": [
    "Intercepts = linear_regression.intercept_\n",
    "Intercepts"
   ]
  },
  {
   "cell_type": "code",
   "execution_count": 92,
   "metadata": {},
   "outputs": [
    {
     "name": "stdout",
     "output_type": "stream",
     "text": [
      "The r-squared is: 0.6463075189290788\n"
     ]
    },
    {
     "data": {
      "text/plain": [
       "<function matplotlib.pyplot.show(*args, **kw)>"
      ]
     },
     "execution_count": 92,
     "metadata": {},
     "output_type": "execute_result"
    },
    {
     "data": {
      "image/png": "[encoded data removed]",
      "text/plain": [
       "<Figure size 432x288 with 1 Axes>"
      ]
     },
     "metadata": {
      "needs_background": "light"
     },
     "output_type": "display_data"
    }
   ],
   "source": [
    "x_values =CumRet_MulReg[\"US\"]\n",
    "y_values = CumRet_MulReg[\"CVX\"]\n",
    "(slope, intercept, rvalue, pvalue, stderr) = linregress(x_values, y_values)\n",
    "regress_values = x_values * slope + intercept\n",
    "line_eq = \"cvcum_usemp = \" + str(round(slope,6)) + \"x + \" + str(round(intercept,6))\n",
    "plt.scatter(x_values,y_values)\n",
    "plt.plot(x_values,regress_values,\"r-\")\n",
    "plt.annotate(line_eq, (4.5,2.4),fontsize=15,color=\"red\")\n",
    "plt.xlabel(\"Time: Jan 2010 to Dec 2019\")\n",
    "plt.ylabel(\"CVX Cummulative Returns with Emp\")\n",
    "plt.title(\"CVX Cummulative Return Vs US Unemploy\")\n",
    "print(f\"The r-squared is: {rvalue**2}\")\n",
    "plt.savefig(\"Images/CVXCumUSemp_ScatterPlot.png\")\n",
    "plt.show"
   ]
  },
  {
   "cell_type": "code",
   "execution_count": 93,
   "metadata": {},
   "outputs": [
    {
     "name": "stdout",
     "output_type": "stream",
     "text": [
      "The r-squared is: 0.6288135271943884\n"
     ]
    },
    {
     "data": {
      "text/plain": [
       "<function matplotlib.pyplot.show(*args, **kw)>"
      ]
     },
     "execution_count": 93,
     "metadata": {},
     "output_type": "execute_result"
    },
    {
     "data": {
      "image/png": "[encoded data removed]",
      "text/plain": [
       "<Figure size 432x288 with 1 Axes>"
      ]
     },
     "metadata": {
      "needs_background": "light"
     },
     "output_type": "display_data"
    }
   ],
   "source": [
    "x_values =CumRet_MulReg[\"TX\"]\n",
    "y_values = CumRet_MulReg[\"CVX\"]\n",
    "(slope, intercept, rvalue, pvalue, stderr) = linregress(x_values, y_values)\n",
    "regress_values = x_values * slope + intercept\n",
    "line_eq = \"cvcum_txemp = \" + str(round(slope,6)) + \"x + \" + str(round(intercept,6))\n",
    "plt.scatter(x_values,y_values)\n",
    "plt.plot(x_values,regress_values,\"r-\")\n",
    "plt.annotate(line_eq, (4,2.4),fontsize=15,color=\"red\")\n",
    "plt.xlabel(\"Time: Jan 2010 to Dec 2019\")\n",
    "plt.ylabel(\"CVX Cummulative Returns with Emp\")\n",
    "plt.title(\"CVX Cummulative Return Vs TX Unemploy\")\n",
    "print(f\"The r-squared is: {rvalue**2}\")\n",
    "plt.savefig(\"Images/CVXCumTXemp_ScatterPlot.png\")\n",
    "plt.show"
   ]
  },
  {
   "cell_type": "code",
   "execution_count": 94,
   "metadata": {},
   "outputs": [
    {
     "data": {
      "text/html": [
       "<div>\n",
       "<style scoped>\n",
       "    .dataframe tbody tr th:only-of-type {\n",
       "        vertical-align: middle;\n",
       "    }\n",
       "\n",
       "    .dataframe tbody tr th {\n",
       "        vertical-align: top;\n",
       "    }\n",
       "\n",
       "    .dataframe thead th {\n",
       "        text-align: right;\n",
       "    }\n",
       "</style>\n",
       "<table border=\"1\" class=\"dataframe\">\n",
       "  <thead>\n",
       "    <tr style=\"text-align: right;\">\n",
       "      <th></th>\n",
       "      <th>index</th>\n",
       "      <th>CVX</th>\n",
       "      <th>XOM</th>\n",
       "      <th>CL</th>\n",
       "      <th>PG</th>\n",
       "      <th>SP500</th>\n",
       "      <th>PEP</th>\n",
       "    </tr>\n",
       "  </thead>\n",
       "  <tbody>\n",
       "    <tr>\n",
       "      <th>0</th>\n",
       "      <td>0</td>\n",
       "      <td>48.390926</td>\n",
       "      <td>45.100105</td>\n",
       "      <td>28.585510</td>\n",
       "      <td>44.368778</td>\n",
       "      <td>1073.869995</td>\n",
       "      <td>43.419220</td>\n",
       "    </tr>\n",
       "    <tr>\n",
       "      <th>1</th>\n",
       "      <td>1</td>\n",
       "      <td>48.511700</td>\n",
       "      <td>45.499088</td>\n",
       "      <td>29.957729</td>\n",
       "      <td>45.943375</td>\n",
       "      <td>1104.489990</td>\n",
       "      <td>45.494766</td>\n",
       "    </tr>\n",
       "    <tr>\n",
       "      <th>2</th>\n",
       "      <td>2</td>\n",
       "      <td>51.367226</td>\n",
       "      <td>47.190937</td>\n",
       "      <td>30.795710</td>\n",
       "      <td>45.936111</td>\n",
       "      <td>1169.430054</td>\n",
       "      <td>48.182087</td>\n",
       "    </tr>\n",
       "    <tr>\n",
       "      <th>3</th>\n",
       "      <td>3</td>\n",
       "      <td>55.167446</td>\n",
       "      <td>47.747517</td>\n",
       "      <td>30.376711</td>\n",
       "      <td>45.130230</td>\n",
       "      <td>1186.689941</td>\n",
       "      <td>47.834911</td>\n",
       "    </tr>\n",
       "    <tr>\n",
       "      <th>4</th>\n",
       "      <td>4</td>\n",
       "      <td>50.039509</td>\n",
       "      <td>42.597256</td>\n",
       "      <td>28.563391</td>\n",
       "      <td>44.694584</td>\n",
       "      <td>1089.410034</td>\n",
       "      <td>46.125996</td>\n",
       "    </tr>\n",
       "  </tbody>\n",
       "</table>\n",
       "</div>"
      ],
      "text/plain": [
       "   index        CVX        XOM         CL         PG        SP500        PEP\n",
       "0      0  48.390926  45.100105  28.585510  44.368778  1073.869995  43.419220\n",
       "1      1  48.511700  45.499088  29.957729  45.943375  1104.489990  45.494766\n",
       "2      2  51.367226  47.190937  30.795710  45.936111  1169.430054  48.182087\n",
       "3      3  55.167446  47.747517  30.376711  45.130230  1186.689941  47.834911\n",
       "4      4  50.039509  42.597256  28.563391  44.694584  1089.410034  46.125996"
      ]
     },
     "execution_count": 94,
     "metadata": {},
     "output_type": "execute_result"
    }
   ],
   "source": [
    "PriOnly_df = (Tunde_finalMerged_df.drop([\"Date\"], axis=1)).reset_index()\n",
    "PriOnly_df.head()"
   ]
  },
  {
   "cell_type": "code",
   "execution_count": 95,
   "metadata": {},
   "outputs": [
    {
     "data": {
      "text/html": [
       "<div>\n",
       "<style scoped>\n",
       "    .dataframe tbody tr th:only-of-type {\n",
       "        vertical-align: middle;\n",
       "    }\n",
       "\n",
       "    .dataframe tbody tr th {\n",
       "        vertical-align: top;\n",
       "    }\n",
       "\n",
       "    .dataframe thead th {\n",
       "        text-align: right;\n",
       "    }\n",
       "</style>\n",
       "<table border=\"1\" class=\"dataframe\">\n",
       "  <thead>\n",
       "    <tr style=\"text-align: right;\">\n",
       "      <th></th>\n",
       "      <th>index</th>\n",
       "      <th>CVX</th>\n",
       "      <th>XOM</th>\n",
       "      <th>CL</th>\n",
       "      <th>PG</th>\n",
       "      <th>SP500</th>\n",
       "      <th>PEP</th>\n",
       "    </tr>\n",
       "  </thead>\n",
       "  <tbody>\n",
       "    <tr>\n",
       "      <th>0</th>\n",
       "      <td>0</td>\n",
       "      <td>48.390926</td>\n",
       "      <td>45.100105</td>\n",
       "      <td>28.585510</td>\n",
       "      <td>44.368778</td>\n",
       "      <td>1073.869995</td>\n",
       "      <td>43.419220</td>\n",
       "    </tr>\n",
       "    <tr>\n",
       "      <th>1</th>\n",
       "      <td>1</td>\n",
       "      <td>48.511700</td>\n",
       "      <td>45.499088</td>\n",
       "      <td>29.957729</td>\n",
       "      <td>45.943375</td>\n",
       "      <td>1104.489990</td>\n",
       "      <td>45.494766</td>\n",
       "    </tr>\n",
       "    <tr>\n",
       "      <th>2</th>\n",
       "      <td>2</td>\n",
       "      <td>51.367226</td>\n",
       "      <td>47.190937</td>\n",
       "      <td>30.795710</td>\n",
       "      <td>45.936111</td>\n",
       "      <td>1169.430054</td>\n",
       "      <td>48.182087</td>\n",
       "    </tr>\n",
       "    <tr>\n",
       "      <th>3</th>\n",
       "      <td>3</td>\n",
       "      <td>55.167446</td>\n",
       "      <td>47.747517</td>\n",
       "      <td>30.376711</td>\n",
       "      <td>45.130230</td>\n",
       "      <td>1186.689941</td>\n",
       "      <td>47.834911</td>\n",
       "    </tr>\n",
       "    <tr>\n",
       "      <th>4</th>\n",
       "      <td>4</td>\n",
       "      <td>50.039509</td>\n",
       "      <td>42.597256</td>\n",
       "      <td>28.563391</td>\n",
       "      <td>44.694584</td>\n",
       "      <td>1089.410034</td>\n",
       "      <td>46.125996</td>\n",
       "    </tr>\n",
       "    <tr>\n",
       "      <th>...</th>\n",
       "      <td>...</td>\n",
       "      <td>...</td>\n",
       "      <td>...</td>\n",
       "      <td>...</td>\n",
       "      <td>...</td>\n",
       "      <td>...</td>\n",
       "      <td>...</td>\n",
       "    </tr>\n",
       "    <tr>\n",
       "      <th>115</th>\n",
       "      <td>115</td>\n",
       "      <td>112.402039</td>\n",
       "      <td>64.633873</td>\n",
       "      <td>72.796333</td>\n",
       "      <td>117.974602</td>\n",
       "      <td>2926.459961</td>\n",
       "      <td>132.911026</td>\n",
       "    </tr>\n",
       "    <tr>\n",
       "      <th>116</th>\n",
       "      <td>116</td>\n",
       "      <td>114.406403</td>\n",
       "      <td>67.472893</td>\n",
       "      <td>72.168015</td>\n",
       "      <td>122.046753</td>\n",
       "      <td>2976.739990</td>\n",
       "      <td>133.270691</td>\n",
       "    </tr>\n",
       "    <tr>\n",
       "      <th>117</th>\n",
       "      <td>117</td>\n",
       "      <td>112.033386</td>\n",
       "      <td>64.567955</td>\n",
       "      <td>67.347649</td>\n",
       "      <td>122.174316</td>\n",
       "      <td>3037.560059</td>\n",
       "      <td>134.260178</td>\n",
       "    </tr>\n",
       "    <tr>\n",
       "      <th>118</th>\n",
       "      <td>118</td>\n",
       "      <td>112.988373</td>\n",
       "      <td>65.103073</td>\n",
       "      <td>67.003723</td>\n",
       "      <td>120.535347</td>\n",
       "      <td>3140.979980</td>\n",
       "      <td>132.948608</td>\n",
       "    </tr>\n",
       "    <tr>\n",
       "      <th>119</th>\n",
       "      <td>119</td>\n",
       "      <td>117.394318</td>\n",
       "      <td>67.483917</td>\n",
       "      <td>68.011444</td>\n",
       "      <td>123.339874</td>\n",
       "      <td>3230.780029</td>\n",
       "      <td>133.770782</td>\n",
       "    </tr>\n",
       "  </tbody>\n",
       "</table>\n",
       "<p>120 rows × 7 columns</p>\n",
       "</div>"
      ],
      "text/plain": [
       "     index         CVX        XOM         CL          PG        SP500  \\\n",
       "0        0   48.390926  45.100105  28.585510   44.368778  1073.869995   \n",
       "1        1   48.511700  45.499088  29.957729   45.943375  1104.489990   \n",
       "2        2   51.367226  47.190937  30.795710   45.936111  1169.430054   \n",
       "3        3   55.167446  47.747517  30.376711   45.130230  1186.689941   \n",
       "4        4   50.039509  42.597256  28.563391   44.694584  1089.410034   \n",
       "..     ...         ...        ...        ...         ...          ...   \n",
       "115    115  112.402039  64.633873  72.796333  117.974602  2926.459961   \n",
       "116    116  114.406403  67.472893  72.168015  122.046753  2976.739990   \n",
       "117    117  112.033386  64.567955  67.347649  122.174316  3037.560059   \n",
       "118    118  112.988373  65.103073  67.003723  120.535347  3140.979980   \n",
       "119    119  117.394318  67.483917  68.011444  123.339874  3230.780029   \n",
       "\n",
       "            PEP  \n",
       "0     43.419220  \n",
       "1     45.494766  \n",
       "2     48.182087  \n",
       "3     47.834911  \n",
       "4     46.125996  \n",
       "..          ...  \n",
       "115  132.911026  \n",
       "116  133.270691  \n",
       "117  134.260178  \n",
       "118  132.948608  \n",
       "119  133.770782  \n",
       "\n",
       "[120 rows x 7 columns]"
      ]
     },
     "execution_count": 95,
     "metadata": {},
     "output_type": "execute_result"
    }
   ],
   "source": [
    "PriOnly_df"
   ]
  },
  {
   "cell_type": "code",
   "execution_count": 119,
   "metadata": {},
   "outputs": [],
   "source": [
    "Unemp_df[\"index\"]=Unemp_df.index\n",
    "Unemp_df = Unemp_df[[\"index\",\"US\",\"TX\"]]"
   ]
  },
  {
   "cell_type": "code",
   "execution_count": 120,
   "metadata": {},
   "outputs": [
    {
     "data": {
      "text/html": [
       "<div>\n",
       "<style scoped>\n",
       "    .dataframe tbody tr th:only-of-type {\n",
       "        vertical-align: middle;\n",
       "    }\n",
       "\n",
       "    .dataframe tbody tr th {\n",
       "        vertical-align: top;\n",
       "    }\n",
       "\n",
       "    .dataframe thead th {\n",
       "        text-align: right;\n",
       "    }\n",
       "</style>\n",
       "<table border=\"1\" class=\"dataframe\">\n",
       "  <thead>\n",
       "    <tr style=\"text-align: right;\">\n",
       "      <th></th>\n",
       "      <th>index</th>\n",
       "      <th>US</th>\n",
       "      <th>TX</th>\n",
       "    </tr>\n",
       "  </thead>\n",
       "  <tbody>\n",
       "    <tr>\n",
       "      <th>0</th>\n",
       "      <td>0</td>\n",
       "      <td>9.8</td>\n",
       "      <td>8.3</td>\n",
       "    </tr>\n",
       "    <tr>\n",
       "      <th>1</th>\n",
       "      <td>1</td>\n",
       "      <td>9.8</td>\n",
       "      <td>8.3</td>\n",
       "    </tr>\n",
       "    <tr>\n",
       "      <th>2</th>\n",
       "      <td>2</td>\n",
       "      <td>9.9</td>\n",
       "      <td>8.3</td>\n",
       "    </tr>\n",
       "    <tr>\n",
       "      <th>3</th>\n",
       "      <td>3</td>\n",
       "      <td>9.9</td>\n",
       "      <td>8.2</td>\n",
       "    </tr>\n",
       "    <tr>\n",
       "      <th>4</th>\n",
       "      <td>4</td>\n",
       "      <td>9.6</td>\n",
       "      <td>8.1</td>\n",
       "    </tr>\n",
       "    <tr>\n",
       "      <th>...</th>\n",
       "      <td>...</td>\n",
       "      <td>...</td>\n",
       "      <td>...</td>\n",
       "    </tr>\n",
       "    <tr>\n",
       "      <th>115</th>\n",
       "      <td>115</td>\n",
       "      <td>3.7</td>\n",
       "      <td>3.5</td>\n",
       "    </tr>\n",
       "    <tr>\n",
       "      <th>116</th>\n",
       "      <td>116</td>\n",
       "      <td>3.5</td>\n",
       "      <td>3.5</td>\n",
       "    </tr>\n",
       "    <tr>\n",
       "      <th>117</th>\n",
       "      <td>117</td>\n",
       "      <td>3.6</td>\n",
       "      <td>3.5</td>\n",
       "    </tr>\n",
       "    <tr>\n",
       "      <th>118</th>\n",
       "      <td>118</td>\n",
       "      <td>3.5</td>\n",
       "      <td>3.5</td>\n",
       "    </tr>\n",
       "    <tr>\n",
       "      <th>119</th>\n",
       "      <td>119</td>\n",
       "      <td>3.5</td>\n",
       "      <td>3.5</td>\n",
       "    </tr>\n",
       "  </tbody>\n",
       "</table>\n",
       "<p>120 rows × 3 columns</p>\n",
       "</div>"
      ],
      "text/plain": [
       "     index   US   TX\n",
       "0        0  9.8  8.3\n",
       "1        1  9.8  8.3\n",
       "2        2  9.9  8.3\n",
       "3        3  9.9  8.2\n",
       "4        4  9.6  8.1\n",
       "..     ...  ...  ...\n",
       "115    115  3.7  3.5\n",
       "116    116  3.5  3.5\n",
       "117    117  3.6  3.5\n",
       "118    118  3.5  3.5\n",
       "119    119  3.5  3.5\n",
       "\n",
       "[120 rows x 3 columns]"
      ]
     },
     "execution_count": 120,
     "metadata": {},
     "output_type": "execute_result"
    }
   ],
   "source": [
    "Unemp_df"
   ]
  },
  {
   "cell_type": "code",
   "execution_count": 148,
   "metadata": {},
   "outputs": [],
   "source": [
    "PriAndUnem_df = pd.merge(Unemp_df,PriOnly_df, on=\"index\")"
   ]
  },
  {
   "cell_type": "code",
   "execution_count": 150,
   "metadata": {},
   "outputs": [
    {
     "data": {
      "text/html": [
       "<div>\n",
       "<style scoped>\n",
       "    .dataframe tbody tr th:only-of-type {\n",
       "        vertical-align: middle;\n",
       "    }\n",
       "\n",
       "    .dataframe tbody tr th {\n",
       "        vertical-align: top;\n",
       "    }\n",
       "\n",
       "    .dataframe thead th {\n",
       "        text-align: right;\n",
       "    }\n",
       "</style>\n",
       "<table border=\"1\" class=\"dataframe\">\n",
       "  <thead>\n",
       "    <tr style=\"text-align: right;\">\n",
       "      <th></th>\n",
       "      <th>Time</th>\n",
       "      <th>US_Unemp</th>\n",
       "      <th>TX_Unemp</th>\n",
       "      <th>CVX</th>\n",
       "      <th>XOM</th>\n",
       "      <th>CL</th>\n",
       "      <th>PG</th>\n",
       "      <th>SP500</th>\n",
       "      <th>PEP</th>\n",
       "    </tr>\n",
       "  </thead>\n",
       "  <tbody>\n",
       "    <tr>\n",
       "      <th>0</th>\n",
       "      <td>0</td>\n",
       "      <td>9.8</td>\n",
       "      <td>8.3</td>\n",
       "      <td>48.390926</td>\n",
       "      <td>45.100105</td>\n",
       "      <td>28.585510</td>\n",
       "      <td>44.368778</td>\n",
       "      <td>1073.869995</td>\n",
       "      <td>43.419220</td>\n",
       "    </tr>\n",
       "    <tr>\n",
       "      <th>1</th>\n",
       "      <td>1</td>\n",
       "      <td>9.8</td>\n",
       "      <td>8.3</td>\n",
       "      <td>48.511700</td>\n",
       "      <td>45.499088</td>\n",
       "      <td>29.957729</td>\n",
       "      <td>45.943375</td>\n",
       "      <td>1104.489990</td>\n",
       "      <td>45.494766</td>\n",
       "    </tr>\n",
       "    <tr>\n",
       "      <th>2</th>\n",
       "      <td>2</td>\n",
       "      <td>9.9</td>\n",
       "      <td>8.3</td>\n",
       "      <td>51.367226</td>\n",
       "      <td>47.190937</td>\n",
       "      <td>30.795710</td>\n",
       "      <td>45.936111</td>\n",
       "      <td>1169.430054</td>\n",
       "      <td>48.182087</td>\n",
       "    </tr>\n",
       "    <tr>\n",
       "      <th>3</th>\n",
       "      <td>3</td>\n",
       "      <td>9.9</td>\n",
       "      <td>8.2</td>\n",
       "      <td>55.167446</td>\n",
       "      <td>47.747517</td>\n",
       "      <td>30.376711</td>\n",
       "      <td>45.130230</td>\n",
       "      <td>1186.689941</td>\n",
       "      <td>47.834911</td>\n",
       "    </tr>\n",
       "    <tr>\n",
       "      <th>4</th>\n",
       "      <td>4</td>\n",
       "      <td>9.6</td>\n",
       "      <td>8.1</td>\n",
       "      <td>50.039509</td>\n",
       "      <td>42.597256</td>\n",
       "      <td>28.563391</td>\n",
       "      <td>44.694584</td>\n",
       "      <td>1089.410034</td>\n",
       "      <td>46.125996</td>\n",
       "    </tr>\n",
       "    <tr>\n",
       "      <th>...</th>\n",
       "      <td>...</td>\n",
       "      <td>...</td>\n",
       "      <td>...</td>\n",
       "      <td>...</td>\n",
       "      <td>...</td>\n",
       "      <td>...</td>\n",
       "      <td>...</td>\n",
       "      <td>...</td>\n",
       "      <td>...</td>\n",
       "    </tr>\n",
       "    <tr>\n",
       "      <th>115</th>\n",
       "      <td>115</td>\n",
       "      <td>3.7</td>\n",
       "      <td>3.5</td>\n",
       "      <td>112.402039</td>\n",
       "      <td>64.633873</td>\n",
       "      <td>72.796333</td>\n",
       "      <td>117.974602</td>\n",
       "      <td>2926.459961</td>\n",
       "      <td>132.911026</td>\n",
       "    </tr>\n",
       "    <tr>\n",
       "      <th>116</th>\n",
       "      <td>116</td>\n",
       "      <td>3.5</td>\n",
       "      <td>3.5</td>\n",
       "      <td>114.406403</td>\n",
       "      <td>67.472893</td>\n",
       "      <td>72.168015</td>\n",
       "      <td>122.046753</td>\n",
       "      <td>2976.739990</td>\n",
       "      <td>133.270691</td>\n",
       "    </tr>\n",
       "    <tr>\n",
       "      <th>117</th>\n",
       "      <td>117</td>\n",
       "      <td>3.6</td>\n",
       "      <td>3.5</td>\n",
       "      <td>112.033386</td>\n",
       "      <td>64.567955</td>\n",
       "      <td>67.347649</td>\n",
       "      <td>122.174316</td>\n",
       "      <td>3037.560059</td>\n",
       "      <td>134.260178</td>\n",
       "    </tr>\n",
       "    <tr>\n",
       "      <th>118</th>\n",
       "      <td>118</td>\n",
       "      <td>3.5</td>\n",
       "      <td>3.5</td>\n",
       "      <td>112.988373</td>\n",
       "      <td>65.103073</td>\n",
       "      <td>67.003723</td>\n",
       "      <td>120.535347</td>\n",
       "      <td>3140.979980</td>\n",
       "      <td>132.948608</td>\n",
       "    </tr>\n",
       "    <tr>\n",
       "      <th>119</th>\n",
       "      <td>119</td>\n",
       "      <td>3.5</td>\n",
       "      <td>3.5</td>\n",
       "      <td>117.394318</td>\n",
       "      <td>67.483917</td>\n",
       "      <td>68.011444</td>\n",
       "      <td>123.339874</td>\n",
       "      <td>3230.780029</td>\n",
       "      <td>133.770782</td>\n",
       "    </tr>\n",
       "  </tbody>\n",
       "</table>\n",
       "<p>120 rows × 9 columns</p>\n",
       "</div>"
      ],
      "text/plain": [
       "     Time  US_Unemp  TX_Unemp         CVX        XOM         CL          PG  \\\n",
       "0       0       9.8       8.3   48.390926  45.100105  28.585510   44.368778   \n",
       "1       1       9.8       8.3   48.511700  45.499088  29.957729   45.943375   \n",
       "2       2       9.9       8.3   51.367226  47.190937  30.795710   45.936111   \n",
       "3       3       9.9       8.2   55.167446  47.747517  30.376711   45.130230   \n",
       "4       4       9.6       8.1   50.039509  42.597256  28.563391   44.694584   \n",
       "..    ...       ...       ...         ...        ...        ...         ...   \n",
       "115   115       3.7       3.5  112.402039  64.633873  72.796333  117.974602   \n",
       "116   116       3.5       3.5  114.406403  67.472893  72.168015  122.046753   \n",
       "117   117       3.6       3.5  112.033386  64.567955  67.347649  122.174316   \n",
       "118   118       3.5       3.5  112.988373  65.103073  67.003723  120.535347   \n",
       "119   119       3.5       3.5  117.394318  67.483917  68.011444  123.339874   \n",
       "\n",
       "           SP500         PEP  \n",
       "0    1073.869995   43.419220  \n",
       "1    1104.489990   45.494766  \n",
       "2    1169.430054   48.182087  \n",
       "3    1186.689941   47.834911  \n",
       "4    1089.410034   46.125996  \n",
       "..           ...         ...  \n",
       "115  2926.459961  132.911026  \n",
       "116  2976.739990  133.270691  \n",
       "117  3037.560059  134.260178  \n",
       "118  3140.979980  132.948608  \n",
       "119  3230.780029  133.770782  \n",
       "\n",
       "[120 rows x 9 columns]"
      ]
     },
     "execution_count": 150,
     "metadata": {},
     "output_type": "execute_result"
    }
   ],
   "source": [
    "PriAndUnem_df= PriAndUnem_df.rename(columns={\"index\":\"Time\",\"US\":\"US_Unemp\",\"TX\":\"TX_Unemp\"})\n",
    "\n",
    "PriAndUnem_df\n"
   ]
  },
  {
   "cell_type": "code",
   "execution_count": 130,
   "metadata": {},
   "outputs": [
    {
     "name": "stdout",
     "output_type": "stream",
     "text": [
      "The r-squared is: 0.6553337700976753\n"
     ]
    },
    {
     "data": {
      "text/plain": [
       "<function matplotlib.pyplot.show(*args, **kw)>"
      ]
     },
     "execution_count": 130,
     "metadata": {},
     "output_type": "execute_result"
    },
    {
     "data": {
      "image/png": "[encoded data removed]",
      "text/plain": [
       "<Figure size 432x288 with 1 Axes>"
      ]
     },
     "metadata": {
      "needs_background": "light"
     },
     "output_type": "display_data"
    }
   ],
   "source": [
    "f_regression(PriAndUnem_df[\"US_Unemp\"], PriAndUnem_df[\"CVX\"],4,50)\n",
    "plt.xlabel(\"US Unemployment Rate 2010 to 2019\")\n",
    "plt.ylabel(\"CVX Monthly Price ($)\")\n",
    "plt.title(\"CVX Monthly Price Vs US Unemploy Rate\")\n",
    "# print(f\"The r-squared is: {rvalue**2}\")\n",
    "plt.savefig(\"Images/CVXPrice_USuemp_ScatterPlot.png\")\n",
    "plt.show"
   ]
  },
  {
   "cell_type": "code",
   "execution_count": null,
   "metadata": {},
   "outputs": [],
   "source": []
  },
  {
   "cell_type": "code",
   "execution_count": 138,
   "metadata": {},
   "outputs": [
    {
     "name": "stdout",
     "output_type": "stream",
     "text": [
      "-9.567894331153013\n",
      "[0.86705591 7.28598621]\n"
     ]
    }
   ],
   "source": [
    "cvx_price_time_usemp = LinearRegression()\n",
    "cvx_price_time_usemp.fit(PriAndUnem_df[[\"Time\", \"US_Unemp\"]], PriAndUnem_df[\"CVX\"])\n",
    "print(cvx_price_time_usemp.intercept_)\n",
    "print(cvx_price_time_usemp.coef_)"
   ]
  },
  {
   "cell_type": "code",
   "execution_count": 144,
   "metadata": {},
   "outputs": [],
   "source": [
    "Jan = -9.568 + (0.867*121) + (7.286*0.036)\n",
    "Feb = -9.568 + (0.867*122) + (7.286*0.035)"
   ]
  },
  {
   "cell_type": "code",
   "execution_count": 145,
   "metadata": {},
   "outputs": [
    {
     "name": "stdout",
     "output_type": "stream",
     "text": [
      "95.601296\n",
      "96.46101\n"
     ]
    }
   ],
   "source": [
    "print(f\"{Jan}\")\n",
    "print(f\"{Feb}\")"
   ]
  },
  {
   "cell_type": "code",
   "execution_count": null,
   "metadata": {},
   "outputs": [],
   "source": []
  }
 ],
 "metadata": {
  "kernelspec": {
   "display_name": "Python [conda env:PythonData] *",
   "language": "python",
   "name": "conda-env-PythonData-py"
  },
  "language_info": {
   "codemirror_mode": {
    "name": "ipython",
    "version": 3
   },
   "file_extension": ".py",
   "mimetype": "text/x-python",
   "name": "python",
   "nbconvert_exporter": "python",
   "pygments_lexer": "ipython3",
   "version": "3.8.3"
  }
 },
 "nbformat": 4,
 "nbformat_minor": 4
}

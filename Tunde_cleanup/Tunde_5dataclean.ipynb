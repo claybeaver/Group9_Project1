{
 "cells": [
  {
   "cell_type": "code",
   "execution_count": 78,
   "metadata": {},
   "outputs": [],
   "source": [
    "import pandas as pd\n",
    "import numpy as np\n",
    "# from matplotlib import pyplpt as plt\n",
    "from matplotlib import pyplot as plt"
   ]
  },
  {
   "cell_type": "code",
   "execution_count": 79,
   "metadata": {},
   "outputs": [],
   "source": [
    "cl_path = \"CL.csv\"\n",
    "cvx_path = \"CVX.csv\"\n",
    "pep_path = \"PEP.csv\"\n",
    "pg_path = \"PG.csv\"\n",
    "xom_path = \"XOM.csv\"\n"
   ]
  },
  {
   "cell_type": "code",
   "execution_count": 80,
   "metadata": {},
   "outputs": [],
   "source": [
    "cl_df= pd.read_csv(cl_path)\n",
    "cvx_df= pd.read_csv(cvx_path)\n",
    "pep_df= pd.read_csv(pep_path)\n",
    "pg_df= pd.read_csv(pg_path)\n",
    "xom_df= pd.read_csv(xom_path)"
   ]
  },
  {
   "cell_type": "code",
   "execution_count": 81,
   "metadata": {},
   "outputs": [
    {
     "data": {
      "text/html": [
       "<div>\n",
       "<style scoped>\n",
       "    .dataframe tbody tr th:only-of-type {\n",
       "        vertical-align: middle;\n",
       "    }\n",
       "\n",
       "    .dataframe tbody tr th {\n",
       "        vertical-align: top;\n",
       "    }\n",
       "\n",
       "    .dataframe thead th {\n",
       "        text-align: right;\n",
       "    }\n",
       "</style>\n",
       "<table border=\"1\" class=\"dataframe\">\n",
       "  <thead>\n",
       "    <tr style=\"text-align: right;\">\n",
       "      <th></th>\n",
       "      <th>Date</th>\n",
       "      <th>Open</th>\n",
       "      <th>High</th>\n",
       "      <th>Low</th>\n",
       "      <th>Close</th>\n",
       "      <th>Adj Close</th>\n",
       "      <th>Volume</th>\n",
       "    </tr>\n",
       "  </thead>\n",
       "  <tbody>\n",
       "    <tr>\n",
       "      <th>0</th>\n",
       "      <td>2010-01-01</td>\n",
       "      <td>61.110001</td>\n",
       "      <td>63.310001</td>\n",
       "      <td>59.009998</td>\n",
       "      <td>61.549999</td>\n",
       "      <td>44.368778</td>\n",
       "      <td>254369600</td>\n",
       "    </tr>\n",
       "    <tr>\n",
       "      <th>1</th>\n",
       "      <td>2010-02-01</td>\n",
       "      <td>61.849998</td>\n",
       "      <td>63.959999</td>\n",
       "      <td>60.430000</td>\n",
       "      <td>63.279999</td>\n",
       "      <td>45.943375</td>\n",
       "      <td>241531900</td>\n",
       "    </tr>\n",
       "    <tr>\n",
       "      <th>2</th>\n",
       "      <td>2010-03-01</td>\n",
       "      <td>63.459999</td>\n",
       "      <td>64.580002</td>\n",
       "      <td>62.509998</td>\n",
       "      <td>63.270000</td>\n",
       "      <td>45.936111</td>\n",
       "      <td>216997300</td>\n",
       "    </tr>\n",
       "    <tr>\n",
       "      <th>3</th>\n",
       "      <td>2010-04-01</td>\n",
       "      <td>63.470001</td>\n",
       "      <td>64.000000</td>\n",
       "      <td>60.830002</td>\n",
       "      <td>62.160000</td>\n",
       "      <td>45.130230</td>\n",
       "      <td>239535800</td>\n",
       "    </tr>\n",
       "    <tr>\n",
       "      <th>4</th>\n",
       "      <td>2010-05-01</td>\n",
       "      <td>62.419998</td>\n",
       "      <td>63.950001</td>\n",
       "      <td>39.369999</td>\n",
       "      <td>61.090000</td>\n",
       "      <td>44.694584</td>\n",
       "      <td>320836100</td>\n",
       "    </tr>\n",
       "  </tbody>\n",
       "</table>\n",
       "</div>"
      ],
      "text/plain": [
       "         Date       Open       High        Low      Close  Adj Close  \\\n",
       "0  2010-01-01  61.110001  63.310001  59.009998  61.549999  44.368778   \n",
       "1  2010-02-01  61.849998  63.959999  60.430000  63.279999  45.943375   \n",
       "2  2010-03-01  63.459999  64.580002  62.509998  63.270000  45.936111   \n",
       "3  2010-04-01  63.470001  64.000000  60.830002  62.160000  45.130230   \n",
       "4  2010-05-01  62.419998  63.950001  39.369999  61.090000  44.694584   \n",
       "\n",
       "      Volume  \n",
       "0  254369600  \n",
       "1  241531900  \n",
       "2  216997300  \n",
       "3  239535800  \n",
       "4  320836100  "
      ]
     },
     "execution_count": 81,
     "metadata": {},
     "output_type": "execute_result"
    }
   ],
   "source": [
    "pg_df.head()"
   ]
  },
  {
   "cell_type": "code",
   "execution_count": 82,
   "metadata": {},
   "outputs": [],
   "source": [
    "cl_df = cl_df.rename(columns = {\"Adj Close\": \"CL\"})\n",
    "cvx_df = cvx_df.rename(columns = {\"Adj Close\": \"CVX\"})\n",
    "pep_df = pep_df.rename(columns = {\"Adj Close\": \"PEP\"})\n",
    "pg_df = pg_df.rename(columns = {\"Adj Close\": \"PG\"})\n",
    "xom_df =xom_df.rename(columns = {\"Adj Close\": \"XOM\"})"
   ]
  },
  {
   "cell_type": "code",
   "execution_count": 83,
   "metadata": {},
   "outputs": [
    {
     "data": {
      "text/html": [
       "<div>\n",
       "<style scoped>\n",
       "    .dataframe tbody tr th:only-of-type {\n",
       "        vertical-align: middle;\n",
       "    }\n",
       "\n",
       "    .dataframe tbody tr th {\n",
       "        vertical-align: top;\n",
       "    }\n",
       "\n",
       "    .dataframe thead th {\n",
       "        text-align: right;\n",
       "    }\n",
       "</style>\n",
       "<table border=\"1\" class=\"dataframe\">\n",
       "  <thead>\n",
       "    <tr style=\"text-align: right;\">\n",
       "      <th></th>\n",
       "      <th>Date</th>\n",
       "      <th>Open</th>\n",
       "      <th>High</th>\n",
       "      <th>Low</th>\n",
       "      <th>Close</th>\n",
       "      <th>CVX</th>\n",
       "      <th>Volume</th>\n",
       "    </tr>\n",
       "  </thead>\n",
       "  <tbody>\n",
       "    <tr>\n",
       "      <th>0</th>\n",
       "      <td>2010-01-01</td>\n",
       "      <td>78.199997</td>\n",
       "      <td>81.089996</td>\n",
       "      <td>71.750000</td>\n",
       "      <td>72.120003</td>\n",
       "      <td>48.390926</td>\n",
       "      <td>207150500</td>\n",
       "    </tr>\n",
       "    <tr>\n",
       "      <th>1</th>\n",
       "      <td>2010-02-01</td>\n",
       "      <td>72.699997</td>\n",
       "      <td>74.580002</td>\n",
       "      <td>69.550003</td>\n",
       "      <td>72.300003</td>\n",
       "      <td>48.511700</td>\n",
       "      <td>229392800</td>\n",
       "    </tr>\n",
       "    <tr>\n",
       "      <th>2</th>\n",
       "      <td>2010-03-01</td>\n",
       "      <td>72.629997</td>\n",
       "      <td>76.139999</td>\n",
       "      <td>72.389999</td>\n",
       "      <td>75.830002</td>\n",
       "      <td>51.367226</td>\n",
       "      <td>215133500</td>\n",
       "    </tr>\n",
       "    <tr>\n",
       "      <th>3</th>\n",
       "      <td>2010-04-01</td>\n",
       "      <td>76.400002</td>\n",
       "      <td>83.139999</td>\n",
       "      <td>76.339996</td>\n",
       "      <td>81.440002</td>\n",
       "      <td>55.167446</td>\n",
       "      <td>207104600</td>\n",
       "    </tr>\n",
       "    <tr>\n",
       "      <th>4</th>\n",
       "      <td>2010-05-01</td>\n",
       "      <td>81.959999</td>\n",
       "      <td>83.410004</td>\n",
       "      <td>70.800003</td>\n",
       "      <td>73.870003</td>\n",
       "      <td>50.039509</td>\n",
       "      <td>298278800</td>\n",
       "    </tr>\n",
       "  </tbody>\n",
       "</table>\n",
       "</div>"
      ],
      "text/plain": [
       "         Date       Open       High        Low      Close        CVX  \\\n",
       "0  2010-01-01  78.199997  81.089996  71.750000  72.120003  48.390926   \n",
       "1  2010-02-01  72.699997  74.580002  69.550003  72.300003  48.511700   \n",
       "2  2010-03-01  72.629997  76.139999  72.389999  75.830002  51.367226   \n",
       "3  2010-04-01  76.400002  83.139999  76.339996  81.440002  55.167446   \n",
       "4  2010-05-01  81.959999  83.410004  70.800003  73.870003  50.039509   \n",
       "\n",
       "      Volume  \n",
       "0  207150500  \n",
       "1  229392800  \n",
       "2  215133500  \n",
       "3  207104600  \n",
       "4  298278800  "
      ]
     },
     "execution_count": 83,
     "metadata": {},
     "output_type": "execute_result"
    }
   ],
   "source": [
    "cvx_df.head()"
   ]
  },
  {
   "cell_type": "code",
   "execution_count": 84,
   "metadata": {},
   "outputs": [],
   "source": [
    "cvx_clean_df = cvx_df.drop([\"Open\", \"High\", \"Low\", \"Close\", \"Volume\"], axis=1)"
   ]
  },
  {
   "cell_type": "code",
   "execution_count": 85,
   "metadata": {},
   "outputs": [
    {
     "data": {
      "text/html": [
       "<div>\n",
       "<style scoped>\n",
       "    .dataframe tbody tr th:only-of-type {\n",
       "        vertical-align: middle;\n",
       "    }\n",
       "\n",
       "    .dataframe tbody tr th {\n",
       "        vertical-align: top;\n",
       "    }\n",
       "\n",
       "    .dataframe thead th {\n",
       "        text-align: right;\n",
       "    }\n",
       "</style>\n",
       "<table border=\"1\" class=\"dataframe\">\n",
       "  <thead>\n",
       "    <tr style=\"text-align: right;\">\n",
       "      <th></th>\n",
       "      <th>Date</th>\n",
       "      <th>CVX</th>\n",
       "    </tr>\n",
       "  </thead>\n",
       "  <tbody>\n",
       "    <tr>\n",
       "      <th>0</th>\n",
       "      <td>2010-01-01</td>\n",
       "      <td>48.390926</td>\n",
       "    </tr>\n",
       "    <tr>\n",
       "      <th>1</th>\n",
       "      <td>2010-02-01</td>\n",
       "      <td>48.511700</td>\n",
       "    </tr>\n",
       "    <tr>\n",
       "      <th>2</th>\n",
       "      <td>2010-03-01</td>\n",
       "      <td>51.367226</td>\n",
       "    </tr>\n",
       "    <tr>\n",
       "      <th>3</th>\n",
       "      <td>2010-04-01</td>\n",
       "      <td>55.167446</td>\n",
       "    </tr>\n",
       "    <tr>\n",
       "      <th>4</th>\n",
       "      <td>2010-05-01</td>\n",
       "      <td>50.039509</td>\n",
       "    </tr>\n",
       "  </tbody>\n",
       "</table>\n",
       "</div>"
      ],
      "text/plain": [
       "         Date        CVX\n",
       "0  2010-01-01  48.390926\n",
       "1  2010-02-01  48.511700\n",
       "2  2010-03-01  51.367226\n",
       "3  2010-04-01  55.167446\n",
       "4  2010-05-01  50.039509"
      ]
     },
     "execution_count": 85,
     "metadata": {},
     "output_type": "execute_result"
    }
   ],
   "source": [
    "cvx_clean_df.head()"
   ]
  },
  {
   "cell_type": "code",
   "execution_count": 86,
   "metadata": {},
   "outputs": [],
   "source": [
    "cl_clean_df = cl_df.drop([\"Open\", \"High\", \"Low\", \"Close\", \"Volume\"], axis=1)\n",
    "pep_clean_df = pep_df.drop([\"Open\", \"High\", \"Low\", \"Close\", \"Volume\"], axis=1)\n",
    "pg_clean_df = pg_df.drop([\"Open\", \"High\", \"Low\", \"Close\", \"Volume\"], axis=1)\n",
    "xom_clean_df = xom_df.drop([\"Open\", \"High\", \"Low\", \"Close\", \"Volume\"], axis=1)"
   ]
  },
  {
   "cell_type": "code",
   "execution_count": 87,
   "metadata": {},
   "outputs": [
    {
     "data": {
      "text/html": [
       "<div>\n",
       "<style scoped>\n",
       "    .dataframe tbody tr th:only-of-type {\n",
       "        vertical-align: middle;\n",
       "    }\n",
       "\n",
       "    .dataframe tbody tr th {\n",
       "        vertical-align: top;\n",
       "    }\n",
       "\n",
       "    .dataframe thead th {\n",
       "        text-align: right;\n",
       "    }\n",
       "</style>\n",
       "<table border=\"1\" class=\"dataframe\">\n",
       "  <thead>\n",
       "    <tr style=\"text-align: right;\">\n",
       "      <th></th>\n",
       "      <th>Date</th>\n",
       "      <th>XOM</th>\n",
       "    </tr>\n",
       "  </thead>\n",
       "  <tbody>\n",
       "    <tr>\n",
       "      <th>0</th>\n",
       "      <td>2010-01-01</td>\n",
       "      <td>45.100105</td>\n",
       "    </tr>\n",
       "    <tr>\n",
       "      <th>1</th>\n",
       "      <td>2010-02-01</td>\n",
       "      <td>45.499088</td>\n",
       "    </tr>\n",
       "    <tr>\n",
       "      <th>2</th>\n",
       "      <td>2010-03-01</td>\n",
       "      <td>47.190937</td>\n",
       "    </tr>\n",
       "    <tr>\n",
       "      <th>3</th>\n",
       "      <td>2010-04-01</td>\n",
       "      <td>47.747517</td>\n",
       "    </tr>\n",
       "    <tr>\n",
       "      <th>4</th>\n",
       "      <td>2010-05-01</td>\n",
       "      <td>42.597256</td>\n",
       "    </tr>\n",
       "  </tbody>\n",
       "</table>\n",
       "</div>"
      ],
      "text/plain": [
       "         Date        XOM\n",
       "0  2010-01-01  45.100105\n",
       "1  2010-02-01  45.499088\n",
       "2  2010-03-01  47.190937\n",
       "3  2010-04-01  47.747517\n",
       "4  2010-05-01  42.597256"
      ]
     },
     "execution_count": 87,
     "metadata": {},
     "output_type": "execute_result"
    }
   ],
   "source": [
    "xom_clean_df.head()"
   ]
  },
  {
   "cell_type": "code",
   "execution_count": 88,
   "metadata": {},
   "outputs": [],
   "source": [
    "#merge all the 5 df\n",
    "Tunde_merged_df1 = pd.merge(cvx_clean_df,xom_clean_df, on=\"Date\")"
   ]
  },
  {
   "cell_type": "code",
   "execution_count": 89,
   "metadata": {},
   "outputs": [
    {
     "data": {
      "text/html": [
       "<div>\n",
       "<style scoped>\n",
       "    .dataframe tbody tr th:only-of-type {\n",
       "        vertical-align: middle;\n",
       "    }\n",
       "\n",
       "    .dataframe tbody tr th {\n",
       "        vertical-align: top;\n",
       "    }\n",
       "\n",
       "    .dataframe thead th {\n",
       "        text-align: right;\n",
       "    }\n",
       "</style>\n",
       "<table border=\"1\" class=\"dataframe\">\n",
       "  <thead>\n",
       "    <tr style=\"text-align: right;\">\n",
       "      <th></th>\n",
       "      <th>Date</th>\n",
       "      <th>CVX</th>\n",
       "      <th>XOM</th>\n",
       "    </tr>\n",
       "  </thead>\n",
       "  <tbody>\n",
       "    <tr>\n",
       "      <th>0</th>\n",
       "      <td>2010-01-01</td>\n",
       "      <td>48.390926</td>\n",
       "      <td>45.100105</td>\n",
       "    </tr>\n",
       "    <tr>\n",
       "      <th>1</th>\n",
       "      <td>2010-02-01</td>\n",
       "      <td>48.511700</td>\n",
       "      <td>45.499088</td>\n",
       "    </tr>\n",
       "    <tr>\n",
       "      <th>2</th>\n",
       "      <td>2010-03-01</td>\n",
       "      <td>51.367226</td>\n",
       "      <td>47.190937</td>\n",
       "    </tr>\n",
       "    <tr>\n",
       "      <th>3</th>\n",
       "      <td>2010-04-01</td>\n",
       "      <td>55.167446</td>\n",
       "      <td>47.747517</td>\n",
       "    </tr>\n",
       "    <tr>\n",
       "      <th>4</th>\n",
       "      <td>2010-05-01</td>\n",
       "      <td>50.039509</td>\n",
       "      <td>42.597256</td>\n",
       "    </tr>\n",
       "  </tbody>\n",
       "</table>\n",
       "</div>"
      ],
      "text/plain": [
       "         Date        CVX        XOM\n",
       "0  2010-01-01  48.390926  45.100105\n",
       "1  2010-02-01  48.511700  45.499088\n",
       "2  2010-03-01  51.367226  47.190937\n",
       "3  2010-04-01  55.167446  47.747517\n",
       "4  2010-05-01  50.039509  42.597256"
      ]
     },
     "execution_count": 89,
     "metadata": {},
     "output_type": "execute_result"
    }
   ],
   "source": [
    "Tunde_merged_df1.head()"
   ]
  },
  {
   "cell_type": "code",
   "execution_count": 90,
   "metadata": {},
   "outputs": [],
   "source": [
    "Tunde_merged_df2 = pd.merge(cl_clean_df,pg_clean_df, on=\"Date\")"
   ]
  },
  {
   "cell_type": "code",
   "execution_count": 91,
   "metadata": {},
   "outputs": [],
   "source": [
    "Tunde_merged_df3 = pd.merge(Tunde_merged_df1,Tunde_merged_df2, on=\"Date\")"
   ]
  },
  {
   "cell_type": "code",
   "execution_count": 92,
   "metadata": {},
   "outputs": [
    {
     "data": {
      "text/html": [
       "<div>\n",
       "<style scoped>\n",
       "    .dataframe tbody tr th:only-of-type {\n",
       "        vertical-align: middle;\n",
       "    }\n",
       "\n",
       "    .dataframe tbody tr th {\n",
       "        vertical-align: top;\n",
       "    }\n",
       "\n",
       "    .dataframe thead th {\n",
       "        text-align: right;\n",
       "    }\n",
       "</style>\n",
       "<table border=\"1\" class=\"dataframe\">\n",
       "  <thead>\n",
       "    <tr style=\"text-align: right;\">\n",
       "      <th></th>\n",
       "      <th>Date</th>\n",
       "      <th>CVX</th>\n",
       "      <th>XOM</th>\n",
       "      <th>CL</th>\n",
       "      <th>PG</th>\n",
       "    </tr>\n",
       "  </thead>\n",
       "  <tbody>\n",
       "    <tr>\n",
       "      <th>0</th>\n",
       "      <td>2010-01-01</td>\n",
       "      <td>48.390926</td>\n",
       "      <td>45.100105</td>\n",
       "      <td>28.585510</td>\n",
       "      <td>44.368778</td>\n",
       "    </tr>\n",
       "    <tr>\n",
       "      <th>1</th>\n",
       "      <td>2010-02-01</td>\n",
       "      <td>48.511700</td>\n",
       "      <td>45.499088</td>\n",
       "      <td>29.957729</td>\n",
       "      <td>45.943375</td>\n",
       "    </tr>\n",
       "    <tr>\n",
       "      <th>2</th>\n",
       "      <td>2010-03-01</td>\n",
       "      <td>51.367226</td>\n",
       "      <td>47.190937</td>\n",
       "      <td>30.795710</td>\n",
       "      <td>45.936111</td>\n",
       "    </tr>\n",
       "    <tr>\n",
       "      <th>3</th>\n",
       "      <td>2010-04-01</td>\n",
       "      <td>55.167446</td>\n",
       "      <td>47.747517</td>\n",
       "      <td>30.376711</td>\n",
       "      <td>45.130230</td>\n",
       "    </tr>\n",
       "    <tr>\n",
       "      <th>4</th>\n",
       "      <td>2010-05-01</td>\n",
       "      <td>50.039509</td>\n",
       "      <td>42.597256</td>\n",
       "      <td>28.563391</td>\n",
       "      <td>44.694584</td>\n",
       "    </tr>\n",
       "  </tbody>\n",
       "</table>\n",
       "</div>"
      ],
      "text/plain": [
       "         Date        CVX        XOM         CL         PG\n",
       "0  2010-01-01  48.390926  45.100105  28.585510  44.368778\n",
       "1  2010-02-01  48.511700  45.499088  29.957729  45.943375\n",
       "2  2010-03-01  51.367226  47.190937  30.795710  45.936111\n",
       "3  2010-04-01  55.167446  47.747517  30.376711  45.130230\n",
       "4  2010-05-01  50.039509  42.597256  28.563391  44.694584"
      ]
     },
     "execution_count": 92,
     "metadata": {},
     "output_type": "execute_result"
    }
   ],
   "source": [
    "Tunde_merged_df3.head()"
   ]
  },
  {
   "cell_type": "code",
   "execution_count": 93,
   "metadata": {},
   "outputs": [],
   "source": [
    "Tunde_finalMerged_df = pd.merge(Tunde_merged_df3,pep_clean_df,on=\"Date\")"
   ]
  },
  {
   "cell_type": "code",
   "execution_count": 94,
   "metadata": {},
   "outputs": [
    {
     "data": {
      "text/html": [
       "<div>\n",
       "<style scoped>\n",
       "    .dataframe tbody tr th:only-of-type {\n",
       "        vertical-align: middle;\n",
       "    }\n",
       "\n",
       "    .dataframe tbody tr th {\n",
       "        vertical-align: top;\n",
       "    }\n",
       "\n",
       "    .dataframe thead th {\n",
       "        text-align: right;\n",
       "    }\n",
       "</style>\n",
       "<table border=\"1\" class=\"dataframe\">\n",
       "  <thead>\n",
       "    <tr style=\"text-align: right;\">\n",
       "      <th></th>\n",
       "      <th>Date</th>\n",
       "      <th>CVX</th>\n",
       "      <th>XOM</th>\n",
       "      <th>CL</th>\n",
       "      <th>PG</th>\n",
       "      <th>PEP</th>\n",
       "    </tr>\n",
       "  </thead>\n",
       "  <tbody>\n",
       "    <tr>\n",
       "      <th>0</th>\n",
       "      <td>2010-01-01</td>\n",
       "      <td>48.390926</td>\n",
       "      <td>45.100105</td>\n",
       "      <td>28.585510</td>\n",
       "      <td>44.368778</td>\n",
       "      <td>43.419220</td>\n",
       "    </tr>\n",
       "    <tr>\n",
       "      <th>1</th>\n",
       "      <td>2010-02-01</td>\n",
       "      <td>48.511700</td>\n",
       "      <td>45.499088</td>\n",
       "      <td>29.957729</td>\n",
       "      <td>45.943375</td>\n",
       "      <td>45.494766</td>\n",
       "    </tr>\n",
       "    <tr>\n",
       "      <th>2</th>\n",
       "      <td>2010-03-01</td>\n",
       "      <td>51.367226</td>\n",
       "      <td>47.190937</td>\n",
       "      <td>30.795710</td>\n",
       "      <td>45.936111</td>\n",
       "      <td>48.182087</td>\n",
       "    </tr>\n",
       "    <tr>\n",
       "      <th>3</th>\n",
       "      <td>2010-04-01</td>\n",
       "      <td>55.167446</td>\n",
       "      <td>47.747517</td>\n",
       "      <td>30.376711</td>\n",
       "      <td>45.130230</td>\n",
       "      <td>47.834911</td>\n",
       "    </tr>\n",
       "    <tr>\n",
       "      <th>4</th>\n",
       "      <td>2010-05-01</td>\n",
       "      <td>50.039509</td>\n",
       "      <td>42.597256</td>\n",
       "      <td>28.563391</td>\n",
       "      <td>44.694584</td>\n",
       "      <td>46.125996</td>\n",
       "    </tr>\n",
       "  </tbody>\n",
       "</table>\n",
       "</div>"
      ],
      "text/plain": [
       "         Date        CVX        XOM         CL         PG        PEP\n",
       "0  2010-01-01  48.390926  45.100105  28.585510  44.368778  43.419220\n",
       "1  2010-02-01  48.511700  45.499088  29.957729  45.943375  45.494766\n",
       "2  2010-03-01  51.367226  47.190937  30.795710  45.936111  48.182087\n",
       "3  2010-04-01  55.167446  47.747517  30.376711  45.130230  47.834911\n",
       "4  2010-05-01  50.039509  42.597256  28.563391  44.694584  46.125996"
      ]
     },
     "execution_count": 94,
     "metadata": {},
     "output_type": "execute_result"
    }
   ],
   "source": [
    "Tunde_finalMerged_df.head()"
   ]
  },
  {
   "cell_type": "code",
   "execution_count": 95,
   "metadata": {},
   "outputs": [
    {
     "data": {
      "text/plain": [
       "120"
      ]
     },
     "execution_count": 95,
     "metadata": {},
     "output_type": "execute_result"
    }
   ],
   "source": [
    "len(Tunde_finalMerged_df)"
   ]
  },
  {
   "cell_type": "code",
   "execution_count": 96,
   "metadata": {},
   "outputs": [],
   "source": [
    "#export data into csv\n",
    "Tunde_finalMerged_df.to_csv('Tunde_dataclean.csv', encoding=\"utf-8\", index=False)"
   ]
  },
  {
   "cell_type": "code",
   "execution_count": null,
   "metadata": {},
   "outputs": [],
   "source": []
  }
 ],
 "metadata": {
  "kernelspec": {
   "display_name": "Python [conda env:PythonData] *",
   "language": "python",
   "name": "conda-env-PythonData-py"
  },
  "language_info": {
   "codemirror_mode": {
    "name": "ipython",
    "version": 3
   },
   "file_extension": ".py",
   "mimetype": "text/x-python",
   "name": "python",
   "nbconvert_exporter": "python",
   "pygments_lexer": "ipython3",
   "version": "3.8.2"
  }
 },
 "nbformat": 4,
 "nbformat_minor": 4
}

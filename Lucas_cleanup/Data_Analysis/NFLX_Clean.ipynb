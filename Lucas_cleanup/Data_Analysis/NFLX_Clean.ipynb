{
 "cells": [
  {
   "cell_type": "code",
   "execution_count": 1,
   "metadata": {},
   "outputs": [],
   "source": [
    "import pandas as pd"
   ]
  },
  {
   "cell_type": "code",
   "execution_count": 2,
   "metadata": {},
   "outputs": [],
   "source": [
    "NFLX_df = pd.read_csv('NFLX.csv')"
   ]
  },
  {
   "cell_type": "code",
   "execution_count": 3,
   "metadata": {},
   "outputs": [
    {
     "data": {
      "text/html": [
       "<div>\n",
       "<style scoped>\n",
       "    .dataframe tbody tr th:only-of-type {\n",
       "        vertical-align: middle;\n",
       "    }\n",
       "\n",
       "    .dataframe tbody tr th {\n",
       "        vertical-align: top;\n",
       "    }\n",
       "\n",
       "    .dataframe thead th {\n",
       "        text-align: right;\n",
       "    }\n",
       "</style>\n",
       "<table border=\"1\" class=\"dataframe\">\n",
       "  <thead>\n",
       "    <tr style=\"text-align: right;\">\n",
       "      <th></th>\n",
       "      <th>Date</th>\n",
       "      <th>Open</th>\n",
       "      <th>High</th>\n",
       "      <th>Low</th>\n",
       "      <th>Close</th>\n",
       "      <th>Adj Close</th>\n",
       "      <th>Volume</th>\n",
       "    </tr>\n",
       "  </thead>\n",
       "  <tbody>\n",
       "    <tr>\n",
       "      <th>0</th>\n",
       "      <td>2010-01-01</td>\n",
       "      <td>7.931428</td>\n",
       "      <td>9.224286</td>\n",
       "      <td>6.931428</td>\n",
       "      <td>8.892858</td>\n",
       "      <td>8.892858</td>\n",
       "      <td>324109100</td>\n",
       "    </tr>\n",
       "    <tr>\n",
       "      <th>1</th>\n",
       "      <td>2010-02-01</td>\n",
       "      <td>8.830000</td>\n",
       "      <td>9.614285</td>\n",
       "      <td>8.468572</td>\n",
       "      <td>9.435715</td>\n",
       "      <td>9.435715</td>\n",
       "      <td>214988200</td>\n",
       "    </tr>\n",
       "    <tr>\n",
       "      <th>2</th>\n",
       "      <td>2010-03-01</td>\n",
       "      <td>9.431429</td>\n",
       "      <td>10.807143</td>\n",
       "      <td>9.374286</td>\n",
       "      <td>10.534286</td>\n",
       "      <td>10.534286</td>\n",
       "      <td>190620500</td>\n",
       "    </tr>\n",
       "    <tr>\n",
       "      <th>3</th>\n",
       "      <td>2010-04-01</td>\n",
       "      <td>10.517143</td>\n",
       "      <td>15.671429</td>\n",
       "      <td>10.517143</td>\n",
       "      <td>14.128572</td>\n",
       "      <td>14.128572</td>\n",
       "      <td>482079500</td>\n",
       "    </tr>\n",
       "    <tr>\n",
       "      <th>4</th>\n",
       "      <td>2010-05-01</td>\n",
       "      <td>14.280000</td>\n",
       "      <td>17.071428</td>\n",
       "      <td>12.857142</td>\n",
       "      <td>15.878572</td>\n",
       "      <td>15.878572</td>\n",
       "      <td>533838900</td>\n",
       "    </tr>\n",
       "  </tbody>\n",
       "</table>\n",
       "</div>"
      ],
      "text/plain": [
       "         Date       Open       High        Low      Close  Adj Close  \\\n",
       "0  2010-01-01   7.931428   9.224286   6.931428   8.892858   8.892858   \n",
       "1  2010-02-01   8.830000   9.614285   8.468572   9.435715   9.435715   \n",
       "2  2010-03-01   9.431429  10.807143   9.374286  10.534286  10.534286   \n",
       "3  2010-04-01  10.517143  15.671429  10.517143  14.128572  14.128572   \n",
       "4  2010-05-01  14.280000  17.071428  12.857142  15.878572  15.878572   \n",
       "\n",
       "      Volume  \n",
       "0  324109100  \n",
       "1  214988200  \n",
       "2  190620500  \n",
       "3  482079500  \n",
       "4  533838900  "
      ]
     },
     "execution_count": 3,
     "metadata": {},
     "output_type": "execute_result"
    }
   ],
   "source": [
    "NFLX_df.head()"
   ]
  },
  {
   "cell_type": "code",
   "execution_count": 4,
   "metadata": {},
   "outputs": [
    {
     "data": {
      "text/html": [
       "<div>\n",
       "<style scoped>\n",
       "    .dataframe tbody tr th:only-of-type {\n",
       "        vertical-align: middle;\n",
       "    }\n",
       "\n",
       "    .dataframe tbody tr th {\n",
       "        vertical-align: top;\n",
       "    }\n",
       "\n",
       "    .dataframe thead th {\n",
       "        text-align: right;\n",
       "    }\n",
       "</style>\n",
       "<table border=\"1\" class=\"dataframe\">\n",
       "  <thead>\n",
       "    <tr style=\"text-align: right;\">\n",
       "      <th></th>\n",
       "      <th>Date</th>\n",
       "      <th>Open</th>\n",
       "      <th>High</th>\n",
       "      <th>Low</th>\n",
       "      <th>Close</th>\n",
       "      <th>NFLX</th>\n",
       "      <th>Volume</th>\n",
       "    </tr>\n",
       "  </thead>\n",
       "  <tbody>\n",
       "    <tr>\n",
       "      <th>0</th>\n",
       "      <td>2010-01-01</td>\n",
       "      <td>7.931428</td>\n",
       "      <td>9.224286</td>\n",
       "      <td>6.931428</td>\n",
       "      <td>8.892858</td>\n",
       "      <td>8.892858</td>\n",
       "      <td>324109100</td>\n",
       "    </tr>\n",
       "    <tr>\n",
       "      <th>1</th>\n",
       "      <td>2010-02-01</td>\n",
       "      <td>8.830000</td>\n",
       "      <td>9.614285</td>\n",
       "      <td>8.468572</td>\n",
       "      <td>9.435715</td>\n",
       "      <td>9.435715</td>\n",
       "      <td>214988200</td>\n",
       "    </tr>\n",
       "    <tr>\n",
       "      <th>2</th>\n",
       "      <td>2010-03-01</td>\n",
       "      <td>9.431429</td>\n",
       "      <td>10.807143</td>\n",
       "      <td>9.374286</td>\n",
       "      <td>10.534286</td>\n",
       "      <td>10.534286</td>\n",
       "      <td>190620500</td>\n",
       "    </tr>\n",
       "    <tr>\n",
       "      <th>3</th>\n",
       "      <td>2010-04-01</td>\n",
       "      <td>10.517143</td>\n",
       "      <td>15.671429</td>\n",
       "      <td>10.517143</td>\n",
       "      <td>14.128572</td>\n",
       "      <td>14.128572</td>\n",
       "      <td>482079500</td>\n",
       "    </tr>\n",
       "    <tr>\n",
       "      <th>4</th>\n",
       "      <td>2010-05-01</td>\n",
       "      <td>14.280000</td>\n",
       "      <td>17.071428</td>\n",
       "      <td>12.857142</td>\n",
       "      <td>15.878572</td>\n",
       "      <td>15.878572</td>\n",
       "      <td>533838900</td>\n",
       "    </tr>\n",
       "  </tbody>\n",
       "</table>\n",
       "</div>"
      ],
      "text/plain": [
       "         Date       Open       High        Low      Close       NFLX  \\\n",
       "0  2010-01-01   7.931428   9.224286   6.931428   8.892858   8.892858   \n",
       "1  2010-02-01   8.830000   9.614285   8.468572   9.435715   9.435715   \n",
       "2  2010-03-01   9.431429  10.807143   9.374286  10.534286  10.534286   \n",
       "3  2010-04-01  10.517143  15.671429  10.517143  14.128572  14.128572   \n",
       "4  2010-05-01  14.280000  17.071428  12.857142  15.878572  15.878572   \n",
       "\n",
       "      Volume  \n",
       "0  324109100  \n",
       "1  214988200  \n",
       "2  190620500  \n",
       "3  482079500  \n",
       "4  533838900  "
      ]
     },
     "execution_count": 4,
     "metadata": {},
     "output_type": "execute_result"
    }
   ],
   "source": [
    "NFLX_df = NFLX_df.rename(columns = {'Adj Close': 'NFLX'})\n",
    "NFLX_df.head()"
   ]
  },
  {
   "cell_type": "code",
   "execution_count": 5,
   "metadata": {},
   "outputs": [
    {
     "data": {
      "text/html": [
       "<div>\n",
       "<style scoped>\n",
       "    .dataframe tbody tr th:only-of-type {\n",
       "        vertical-align: middle;\n",
       "    }\n",
       "\n",
       "    .dataframe tbody tr th {\n",
       "        vertical-align: top;\n",
       "    }\n",
       "\n",
       "    .dataframe thead th {\n",
       "        text-align: right;\n",
       "    }\n",
       "</style>\n",
       "<table border=\"1\" class=\"dataframe\">\n",
       "  <thead>\n",
       "    <tr style=\"text-align: right;\">\n",
       "      <th></th>\n",
       "      <th>Date</th>\n",
       "      <th>NFLX</th>\n",
       "    </tr>\n",
       "  </thead>\n",
       "  <tbody>\n",
       "    <tr>\n",
       "      <th>0</th>\n",
       "      <td>2010-01-01</td>\n",
       "      <td>8.892858</td>\n",
       "    </tr>\n",
       "    <tr>\n",
       "      <th>1</th>\n",
       "      <td>2010-02-01</td>\n",
       "      <td>9.435715</td>\n",
       "    </tr>\n",
       "    <tr>\n",
       "      <th>2</th>\n",
       "      <td>2010-03-01</td>\n",
       "      <td>10.534286</td>\n",
       "    </tr>\n",
       "    <tr>\n",
       "      <th>3</th>\n",
       "      <td>2010-04-01</td>\n",
       "      <td>14.128572</td>\n",
       "    </tr>\n",
       "    <tr>\n",
       "      <th>4</th>\n",
       "      <td>2010-05-01</td>\n",
       "      <td>15.878572</td>\n",
       "    </tr>\n",
       "  </tbody>\n",
       "</table>\n",
       "</div>"
      ],
      "text/plain": [
       "         Date       NFLX\n",
       "0  2010-01-01   8.892858\n",
       "1  2010-02-01   9.435715\n",
       "2  2010-03-01  10.534286\n",
       "3  2010-04-01  14.128572\n",
       "4  2010-05-01  15.878572"
      ]
     },
     "execution_count": 5,
     "metadata": {},
     "output_type": "execute_result"
    }
   ],
   "source": [
    "NFLX_clean = NFLX_df[['Date','NFLX']]\n",
    "NFLX_clean.head()"
   ]
  },
  {
   "cell_type": "code",
   "execution_count": 6,
   "metadata": {},
   "outputs": [
    {
     "data": {
      "text/plain": [
       "120"
      ]
     },
     "execution_count": 6,
     "metadata": {},
     "output_type": "execute_result"
    }
   ],
   "source": [
    "len(NFLX_clean)"
   ]
  },
  {
   "cell_type": "code",
   "execution_count": 7,
   "metadata": {},
   "outputs": [
    {
     "data": {
      "text/plain": [
       "120"
      ]
     },
     "execution_count": 7,
     "metadata": {},
     "output_type": "execute_result"
    }
   ],
   "source": [
    "len(NFLX_clean.dropna())"
   ]
  },
  {
   "cell_type": "code",
   "execution_count": null,
   "metadata": {},
   "outputs": [],
   "source": []
  }
 ],
 "metadata": {
  "kernelspec": {
   "display_name": "Python [conda env:PythonData] *",
   "language": "python",
   "name": "conda-env-PythonData-py"
  },
  "language_info": {
   "codemirror_mode": {
    "name": "ipython",
    "version": 3
   },
   "file_extension": ".py",
   "mimetype": "text/x-python",
   "name": "python",
   "nbconvert_exporter": "python",
   "pygments_lexer": "ipython3",
   "version": "3.8.2"
  }
 },
 "nbformat": 4,
 "nbformat_minor": 4
}

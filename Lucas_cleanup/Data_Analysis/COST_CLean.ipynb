{
 "cells": [
  {
   "cell_type": "code",
   "execution_count": 1,
   "metadata": {},
   "outputs": [],
   "source": [
    "import pandas as pd"
   ]
  },
  {
   "cell_type": "code",
   "execution_count": 3,
   "metadata": {},
   "outputs": [],
   "source": [
    "COST_df = pd.read_csv('COST.csv')"
   ]
  },
  {
   "cell_type": "code",
   "execution_count": 4,
   "metadata": {},
   "outputs": [
    {
     "data": {
      "text/html": [
       "<div>\n",
       "<style scoped>\n",
       "    .dataframe tbody tr th:only-of-type {\n",
       "        vertical-align: middle;\n",
       "    }\n",
       "\n",
       "    .dataframe tbody tr th {\n",
       "        vertical-align: top;\n",
       "    }\n",
       "\n",
       "    .dataframe thead th {\n",
       "        text-align: right;\n",
       "    }\n",
       "</style>\n",
       "<table border=\"1\" class=\"dataframe\">\n",
       "  <thead>\n",
       "    <tr style=\"text-align: right;\">\n",
       "      <th></th>\n",
       "      <th>Date</th>\n",
       "      <th>Open</th>\n",
       "      <th>High</th>\n",
       "      <th>Low</th>\n",
       "      <th>Close</th>\n",
       "      <th>Adj Close</th>\n",
       "      <th>Volume</th>\n",
       "    </tr>\n",
       "  </thead>\n",
       "  <tbody>\n",
       "    <tr>\n",
       "      <th>0</th>\n",
       "      <td>2010-01-01</td>\n",
       "      <td>59.130001</td>\n",
       "      <td>60.439999</td>\n",
       "      <td>56.750000</td>\n",
       "      <td>57.430000</td>\n",
       "      <td>44.383762</td>\n",
       "      <td>61205800</td>\n",
       "    </tr>\n",
       "    <tr>\n",
       "      <th>1</th>\n",
       "      <td>2010-02-01</td>\n",
       "      <td>57.799999</td>\n",
       "      <td>61.520000</td>\n",
       "      <td>57.360001</td>\n",
       "      <td>60.970001</td>\n",
       "      <td>47.119598</td>\n",
       "      <td>72957800</td>\n",
       "    </tr>\n",
       "    <tr>\n",
       "      <th>2</th>\n",
       "      <td>2010-03-01</td>\n",
       "      <td>61.000000</td>\n",
       "      <td>62.119999</td>\n",
       "      <td>59.639999</td>\n",
       "      <td>59.709999</td>\n",
       "      <td>46.287605</td>\n",
       "      <td>78643100</td>\n",
       "    </tr>\n",
       "    <tr>\n",
       "      <th>3</th>\n",
       "      <td>2010-04-01</td>\n",
       "      <td>59.730000</td>\n",
       "      <td>61.959999</td>\n",
       "      <td>58.610001</td>\n",
       "      <td>59.080002</td>\n",
       "      <td>45.799232</td>\n",
       "      <td>83104700</td>\n",
       "    </tr>\n",
       "    <tr>\n",
       "      <th>4</th>\n",
       "      <td>2010-05-01</td>\n",
       "      <td>59.029999</td>\n",
       "      <td>60.830002</td>\n",
       "      <td>55.000000</td>\n",
       "      <td>58.250000</td>\n",
       "      <td>45.155804</td>\n",
       "      <td>118287900</td>\n",
       "    </tr>\n",
       "  </tbody>\n",
       "</table>\n",
       "</div>"
      ],
      "text/plain": [
       "         Date       Open       High        Low      Close  Adj Close  \\\n",
       "0  2010-01-01  59.130001  60.439999  56.750000  57.430000  44.383762   \n",
       "1  2010-02-01  57.799999  61.520000  57.360001  60.970001  47.119598   \n",
       "2  2010-03-01  61.000000  62.119999  59.639999  59.709999  46.287605   \n",
       "3  2010-04-01  59.730000  61.959999  58.610001  59.080002  45.799232   \n",
       "4  2010-05-01  59.029999  60.830002  55.000000  58.250000  45.155804   \n",
       "\n",
       "      Volume  \n",
       "0   61205800  \n",
       "1   72957800  \n",
       "2   78643100  \n",
       "3   83104700  \n",
       "4  118287900  "
      ]
     },
     "execution_count": 4,
     "metadata": {},
     "output_type": "execute_result"
    }
   ],
   "source": [
    "COST_df.head()"
   ]
  },
  {
   "cell_type": "code",
   "execution_count": 6,
   "metadata": {},
   "outputs": [
    {
     "data": {
      "text/html": [
       "<div>\n",
       "<style scoped>\n",
       "    .dataframe tbody tr th:only-of-type {\n",
       "        vertical-align: middle;\n",
       "    }\n",
       "\n",
       "    .dataframe tbody tr th {\n",
       "        vertical-align: top;\n",
       "    }\n",
       "\n",
       "    .dataframe thead th {\n",
       "        text-align: right;\n",
       "    }\n",
       "</style>\n",
       "<table border=\"1\" class=\"dataframe\">\n",
       "  <thead>\n",
       "    <tr style=\"text-align: right;\">\n",
       "      <th></th>\n",
       "      <th>Date</th>\n",
       "      <th>Open</th>\n",
       "      <th>High</th>\n",
       "      <th>Low</th>\n",
       "      <th>Close</th>\n",
       "      <th>COST</th>\n",
       "      <th>Volume</th>\n",
       "    </tr>\n",
       "  </thead>\n",
       "  <tbody>\n",
       "    <tr>\n",
       "      <th>0</th>\n",
       "      <td>2010-01-01</td>\n",
       "      <td>59.130001</td>\n",
       "      <td>60.439999</td>\n",
       "      <td>56.750000</td>\n",
       "      <td>57.430000</td>\n",
       "      <td>44.383762</td>\n",
       "      <td>61205800</td>\n",
       "    </tr>\n",
       "    <tr>\n",
       "      <th>1</th>\n",
       "      <td>2010-02-01</td>\n",
       "      <td>57.799999</td>\n",
       "      <td>61.520000</td>\n",
       "      <td>57.360001</td>\n",
       "      <td>60.970001</td>\n",
       "      <td>47.119598</td>\n",
       "      <td>72957800</td>\n",
       "    </tr>\n",
       "    <tr>\n",
       "      <th>2</th>\n",
       "      <td>2010-03-01</td>\n",
       "      <td>61.000000</td>\n",
       "      <td>62.119999</td>\n",
       "      <td>59.639999</td>\n",
       "      <td>59.709999</td>\n",
       "      <td>46.287605</td>\n",
       "      <td>78643100</td>\n",
       "    </tr>\n",
       "    <tr>\n",
       "      <th>3</th>\n",
       "      <td>2010-04-01</td>\n",
       "      <td>59.730000</td>\n",
       "      <td>61.959999</td>\n",
       "      <td>58.610001</td>\n",
       "      <td>59.080002</td>\n",
       "      <td>45.799232</td>\n",
       "      <td>83104700</td>\n",
       "    </tr>\n",
       "    <tr>\n",
       "      <th>4</th>\n",
       "      <td>2010-05-01</td>\n",
       "      <td>59.029999</td>\n",
       "      <td>60.830002</td>\n",
       "      <td>55.000000</td>\n",
       "      <td>58.250000</td>\n",
       "      <td>45.155804</td>\n",
       "      <td>118287900</td>\n",
       "    </tr>\n",
       "  </tbody>\n",
       "</table>\n",
       "</div>"
      ],
      "text/plain": [
       "         Date       Open       High        Low      Close       COST  \\\n",
       "0  2010-01-01  59.130001  60.439999  56.750000  57.430000  44.383762   \n",
       "1  2010-02-01  57.799999  61.520000  57.360001  60.970001  47.119598   \n",
       "2  2010-03-01  61.000000  62.119999  59.639999  59.709999  46.287605   \n",
       "3  2010-04-01  59.730000  61.959999  58.610001  59.080002  45.799232   \n",
       "4  2010-05-01  59.029999  60.830002  55.000000  58.250000  45.155804   \n",
       "\n",
       "      Volume  \n",
       "0   61205800  \n",
       "1   72957800  \n",
       "2   78643100  \n",
       "3   83104700  \n",
       "4  118287900  "
      ]
     },
     "execution_count": 6,
     "metadata": {},
     "output_type": "execute_result"
    }
   ],
   "source": [
    "COST_df = COST_df.rename(columns = {'Adj Close': 'COST'})\n",
    "COST_df.head()"
   ]
  },
  {
   "cell_type": "code",
   "execution_count": 7,
   "metadata": {},
   "outputs": [
    {
     "data": {
      "text/html": [
       "<div>\n",
       "<style scoped>\n",
       "    .dataframe tbody tr th:only-of-type {\n",
       "        vertical-align: middle;\n",
       "    }\n",
       "\n",
       "    .dataframe tbody tr th {\n",
       "        vertical-align: top;\n",
       "    }\n",
       "\n",
       "    .dataframe thead th {\n",
       "        text-align: right;\n",
       "    }\n",
       "</style>\n",
       "<table border=\"1\" class=\"dataframe\">\n",
       "  <thead>\n",
       "    <tr style=\"text-align: right;\">\n",
       "      <th></th>\n",
       "      <th>Date</th>\n",
       "      <th>COST</th>\n",
       "    </tr>\n",
       "  </thead>\n",
       "  <tbody>\n",
       "    <tr>\n",
       "      <th>0</th>\n",
       "      <td>2010-01-01</td>\n",
       "      <td>44.383762</td>\n",
       "    </tr>\n",
       "    <tr>\n",
       "      <th>1</th>\n",
       "      <td>2010-02-01</td>\n",
       "      <td>47.119598</td>\n",
       "    </tr>\n",
       "    <tr>\n",
       "      <th>2</th>\n",
       "      <td>2010-03-01</td>\n",
       "      <td>46.287605</td>\n",
       "    </tr>\n",
       "    <tr>\n",
       "      <th>3</th>\n",
       "      <td>2010-04-01</td>\n",
       "      <td>45.799232</td>\n",
       "    </tr>\n",
       "    <tr>\n",
       "      <th>4</th>\n",
       "      <td>2010-05-01</td>\n",
       "      <td>45.155804</td>\n",
       "    </tr>\n",
       "  </tbody>\n",
       "</table>\n",
       "</div>"
      ],
      "text/plain": [
       "         Date       COST\n",
       "0  2010-01-01  44.383762\n",
       "1  2010-02-01  47.119598\n",
       "2  2010-03-01  46.287605\n",
       "3  2010-04-01  45.799232\n",
       "4  2010-05-01  45.155804"
      ]
     },
     "execution_count": 7,
     "metadata": {},
     "output_type": "execute_result"
    }
   ],
   "source": [
    "COST_clean = COST_df[['Date','COST']]\n",
    "COST_clean.head()"
   ]
  },
  {
   "cell_type": "code",
   "execution_count": 8,
   "metadata": {},
   "outputs": [
    {
     "data": {
      "text/plain": [
       "120"
      ]
     },
     "execution_count": 8,
     "metadata": {},
     "output_type": "execute_result"
    }
   ],
   "source": [
    "len(COST_clean)"
   ]
  },
  {
   "cell_type": "code",
   "execution_count": 9,
   "metadata": {},
   "outputs": [
    {
     "data": {
      "text/plain": [
       "120"
      ]
     },
     "execution_count": 9,
     "metadata": {},
     "output_type": "execute_result"
    }
   ],
   "source": [
    "len(COST_clean.dropna())"
   ]
  },
  {
   "cell_type": "code",
   "execution_count": null,
   "metadata": {},
   "outputs": [],
   "source": []
  }
 ],
 "metadata": {
  "kernelspec": {
   "display_name": "Python [conda env:PythonData] *",
   "language": "python",
   "name": "conda-env-PythonData-py"
  },
  "language_info": {
   "codemirror_mode": {
    "name": "ipython",
    "version": 3
   },
   "file_extension": ".py",
   "mimetype": "text/x-python",
   "name": "python",
   "nbconvert_exporter": "python",
   "pygments_lexer": "ipython3",
   "version": "3.8.2"
  }
 },
 "nbformat": 4,
 "nbformat_minor": 4
}

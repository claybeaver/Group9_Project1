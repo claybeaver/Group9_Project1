{
 "cells": [
  {
   "cell_type": "code",
   "execution_count": 1,
   "metadata": {},
   "outputs": [],
   "source": [
    "import pandas as pd"
   ]
  },
  {
   "cell_type": "code",
   "execution_count": 2,
   "metadata": {},
   "outputs": [],
   "source": [
    "#T Dataframe CLeaning\n",
    "T_df = pd.read_csv(\"T.csv\")"
   ]
  },
  {
   "cell_type": "code",
   "execution_count": 3,
   "metadata": {},
   "outputs": [
    {
     "data": {
      "text/html": [
       "<div>\n",
       "<style scoped>\n",
       "    .dataframe tbody tr th:only-of-type {\n",
       "        vertical-align: middle;\n",
       "    }\n",
       "\n",
       "    .dataframe tbody tr th {\n",
       "        vertical-align: top;\n",
       "    }\n",
       "\n",
       "    .dataframe thead th {\n",
       "        text-align: right;\n",
       "    }\n",
       "</style>\n",
       "<table border=\"1\" class=\"dataframe\">\n",
       "  <thead>\n",
       "    <tr style=\"text-align: right;\">\n",
       "      <th></th>\n",
       "      <th>Date</th>\n",
       "      <th>Open</th>\n",
       "      <th>High</th>\n",
       "      <th>Low</th>\n",
       "      <th>Close</th>\n",
       "      <th>Adj Close</th>\n",
       "      <th>Volume</th>\n",
       "    </tr>\n",
       "  </thead>\n",
       "  <tbody>\n",
       "    <tr>\n",
       "      <th>0</th>\n",
       "      <td>2010-01-01</td>\n",
       "      <td>28.410000</td>\n",
       "      <td>28.73</td>\n",
       "      <td>25.059999</td>\n",
       "      <td>25.360001</td>\n",
       "      <td>14.211266</td>\n",
       "      <td>729998800</td>\n",
       "    </tr>\n",
       "    <tr>\n",
       "      <th>1</th>\n",
       "      <td>2010-02-01</td>\n",
       "      <td>25.670000</td>\n",
       "      <td>25.84</td>\n",
       "      <td>24.610001</td>\n",
       "      <td>24.809999</td>\n",
       "      <td>14.111450</td>\n",
       "      <td>578886600</td>\n",
       "    </tr>\n",
       "    <tr>\n",
       "      <th>2</th>\n",
       "      <td>2010-03-01</td>\n",
       "      <td>24.910000</td>\n",
       "      <td>26.57</td>\n",
       "      <td>24.709999</td>\n",
       "      <td>25.840000</td>\n",
       "      <td>14.697299</td>\n",
       "      <td>590401700</td>\n",
       "    </tr>\n",
       "    <tr>\n",
       "      <th>3</th>\n",
       "      <td>2010-04-01</td>\n",
       "      <td>26.049999</td>\n",
       "      <td>26.75</td>\n",
       "      <td>25.480000</td>\n",
       "      <td>26.059999</td>\n",
       "      <td>14.822426</td>\n",
       "      <td>640885700</td>\n",
       "    </tr>\n",
       "    <tr>\n",
       "      <th>4</th>\n",
       "      <td>2010-05-01</td>\n",
       "      <td>26.240000</td>\n",
       "      <td>26.43</td>\n",
       "      <td>23.780001</td>\n",
       "      <td>24.299999</td>\n",
       "      <td>14.045590</td>\n",
       "      <td>746316700</td>\n",
       "    </tr>\n",
       "  </tbody>\n",
       "</table>\n",
       "</div>"
      ],
      "text/plain": [
       "         Date       Open   High        Low      Close  Adj Close     Volume\n",
       "0  2010-01-01  28.410000  28.73  25.059999  25.360001  14.211266  729998800\n",
       "1  2010-02-01  25.670000  25.84  24.610001  24.809999  14.111450  578886600\n",
       "2  2010-03-01  24.910000  26.57  24.709999  25.840000  14.697299  590401700\n",
       "3  2010-04-01  26.049999  26.75  25.480000  26.059999  14.822426  640885700\n",
       "4  2010-05-01  26.240000  26.43  23.780001  24.299999  14.045590  746316700"
      ]
     },
     "execution_count": 3,
     "metadata": {},
     "output_type": "execute_result"
    }
   ],
   "source": [
    "T_df.head()"
   ]
  },
  {
   "cell_type": "code",
   "execution_count": 5,
   "metadata": {},
   "outputs": [
    {
     "data": {
      "text/html": [
       "<div>\n",
       "<style scoped>\n",
       "    .dataframe tbody tr th:only-of-type {\n",
       "        vertical-align: middle;\n",
       "    }\n",
       "\n",
       "    .dataframe tbody tr th {\n",
       "        vertical-align: top;\n",
       "    }\n",
       "\n",
       "    .dataframe thead th {\n",
       "        text-align: right;\n",
       "    }\n",
       "</style>\n",
       "<table border=\"1\" class=\"dataframe\">\n",
       "  <thead>\n",
       "    <tr style=\"text-align: right;\">\n",
       "      <th></th>\n",
       "      <th>Date</th>\n",
       "      <th>Open</th>\n",
       "      <th>High</th>\n",
       "      <th>Low</th>\n",
       "      <th>Close</th>\n",
       "      <th>T</th>\n",
       "      <th>Volume</th>\n",
       "    </tr>\n",
       "  </thead>\n",
       "  <tbody>\n",
       "    <tr>\n",
       "      <th>0</th>\n",
       "      <td>2010-01-01</td>\n",
       "      <td>28.410000</td>\n",
       "      <td>28.73</td>\n",
       "      <td>25.059999</td>\n",
       "      <td>25.360001</td>\n",
       "      <td>14.211266</td>\n",
       "      <td>729998800</td>\n",
       "    </tr>\n",
       "    <tr>\n",
       "      <th>1</th>\n",
       "      <td>2010-02-01</td>\n",
       "      <td>25.670000</td>\n",
       "      <td>25.84</td>\n",
       "      <td>24.610001</td>\n",
       "      <td>24.809999</td>\n",
       "      <td>14.111450</td>\n",
       "      <td>578886600</td>\n",
       "    </tr>\n",
       "    <tr>\n",
       "      <th>2</th>\n",
       "      <td>2010-03-01</td>\n",
       "      <td>24.910000</td>\n",
       "      <td>26.57</td>\n",
       "      <td>24.709999</td>\n",
       "      <td>25.840000</td>\n",
       "      <td>14.697299</td>\n",
       "      <td>590401700</td>\n",
       "    </tr>\n",
       "    <tr>\n",
       "      <th>3</th>\n",
       "      <td>2010-04-01</td>\n",
       "      <td>26.049999</td>\n",
       "      <td>26.75</td>\n",
       "      <td>25.480000</td>\n",
       "      <td>26.059999</td>\n",
       "      <td>14.822426</td>\n",
       "      <td>640885700</td>\n",
       "    </tr>\n",
       "    <tr>\n",
       "      <th>4</th>\n",
       "      <td>2010-05-01</td>\n",
       "      <td>26.240000</td>\n",
       "      <td>26.43</td>\n",
       "      <td>23.780001</td>\n",
       "      <td>24.299999</td>\n",
       "      <td>14.045590</td>\n",
       "      <td>746316700</td>\n",
       "    </tr>\n",
       "  </tbody>\n",
       "</table>\n",
       "</div>"
      ],
      "text/plain": [
       "         Date       Open   High        Low      Close          T     Volume\n",
       "0  2010-01-01  28.410000  28.73  25.059999  25.360001  14.211266  729998800\n",
       "1  2010-02-01  25.670000  25.84  24.610001  24.809999  14.111450  578886600\n",
       "2  2010-03-01  24.910000  26.57  24.709999  25.840000  14.697299  590401700\n",
       "3  2010-04-01  26.049999  26.75  25.480000  26.059999  14.822426  640885700\n",
       "4  2010-05-01  26.240000  26.43  23.780001  24.299999  14.045590  746316700"
      ]
     },
     "execution_count": 5,
     "metadata": {},
     "output_type": "execute_result"
    }
   ],
   "source": [
    "T_df = T_df.rename(columns = {'Adj Close': 'T'})\n",
    "T_df.head()"
   ]
  },
  {
   "cell_type": "code",
   "execution_count": 6,
   "metadata": {},
   "outputs": [
    {
     "data": {
      "text/html": [
       "<div>\n",
       "<style scoped>\n",
       "    .dataframe tbody tr th:only-of-type {\n",
       "        vertical-align: middle;\n",
       "    }\n",
       "\n",
       "    .dataframe tbody tr th {\n",
       "        vertical-align: top;\n",
       "    }\n",
       "\n",
       "    .dataframe thead th {\n",
       "        text-align: right;\n",
       "    }\n",
       "</style>\n",
       "<table border=\"1\" class=\"dataframe\">\n",
       "  <thead>\n",
       "    <tr style=\"text-align: right;\">\n",
       "      <th></th>\n",
       "      <th>Date</th>\n",
       "      <th>T</th>\n",
       "    </tr>\n",
       "  </thead>\n",
       "  <tbody>\n",
       "    <tr>\n",
       "      <th>0</th>\n",
       "      <td>2010-01-01</td>\n",
       "      <td>14.211266</td>\n",
       "    </tr>\n",
       "    <tr>\n",
       "      <th>1</th>\n",
       "      <td>2010-02-01</td>\n",
       "      <td>14.111450</td>\n",
       "    </tr>\n",
       "    <tr>\n",
       "      <th>2</th>\n",
       "      <td>2010-03-01</td>\n",
       "      <td>14.697299</td>\n",
       "    </tr>\n",
       "    <tr>\n",
       "      <th>3</th>\n",
       "      <td>2010-04-01</td>\n",
       "      <td>14.822426</td>\n",
       "    </tr>\n",
       "    <tr>\n",
       "      <th>4</th>\n",
       "      <td>2010-05-01</td>\n",
       "      <td>14.045590</td>\n",
       "    </tr>\n",
       "  </tbody>\n",
       "</table>\n",
       "</div>"
      ],
      "text/plain": [
       "         Date          T\n",
       "0  2010-01-01  14.211266\n",
       "1  2010-02-01  14.111450\n",
       "2  2010-03-01  14.697299\n",
       "3  2010-04-01  14.822426\n",
       "4  2010-05-01  14.045590"
      ]
     },
     "execution_count": 6,
     "metadata": {},
     "output_type": "execute_result"
    }
   ],
   "source": [
    "T_clean = T_df[['Date','T']]\n",
    "T_clean.head()"
   ]
  },
  {
   "cell_type": "code",
   "execution_count": 7,
   "metadata": {},
   "outputs": [
    {
     "data": {
      "text/plain": [
       "120"
      ]
     },
     "execution_count": 7,
     "metadata": {},
     "output_type": "execute_result"
    }
   ],
   "source": [
    "len(T_clean)"
   ]
  },
  {
   "cell_type": "code",
   "execution_count": 8,
   "metadata": {},
   "outputs": [
    {
     "data": {
      "text/plain": [
       "120"
      ]
     },
     "execution_count": 8,
     "metadata": {},
     "output_type": "execute_result"
    }
   ],
   "source": [
    "len(T_clean.dropna())"
   ]
  },
  {
   "cell_type": "code",
   "execution_count": null,
   "metadata": {},
   "outputs": [],
   "source": []
  }
 ],
 "metadata": {
  "kernelspec": {
   "display_name": "Python [conda env:PythonData] *",
   "language": "python",
   "name": "conda-env-PythonData-py"
  },
  "language_info": {
   "codemirror_mode": {
    "name": "ipython",
    "version": 3
   },
   "file_extension": ".py",
   "mimetype": "text/x-python",
   "name": "python",
   "nbconvert_exporter": "python",
   "pygments_lexer": "ipython3",
   "version": "3.8.2"
  }
 },
 "nbformat": 4,
 "nbformat_minor": 4
}

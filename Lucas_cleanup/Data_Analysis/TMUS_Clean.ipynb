{
 "cells": [
  {
   "cell_type": "code",
   "execution_count": 1,
   "metadata": {},
   "outputs": [],
   "source": [
    "import pandas as pd"
   ]
  },
  {
   "cell_type": "code",
   "execution_count": 4,
   "metadata": {},
   "outputs": [],
   "source": [
    "TMUS_df = pd.read_csv(\"TMUS.csv\")"
   ]
  },
  {
   "cell_type": "code",
   "execution_count": 5,
   "metadata": {},
   "outputs": [
    {
     "data": {
      "text/html": [
       "<div>\n",
       "<style scoped>\n",
       "    .dataframe tbody tr th:only-of-type {\n",
       "        vertical-align: middle;\n",
       "    }\n",
       "\n",
       "    .dataframe tbody tr th {\n",
       "        vertical-align: top;\n",
       "    }\n",
       "\n",
       "    .dataframe thead th {\n",
       "        text-align: right;\n",
       "    }\n",
       "</style>\n",
       "<table border=\"1\" class=\"dataframe\">\n",
       "  <thead>\n",
       "    <tr style=\"text-align: right;\">\n",
       "      <th></th>\n",
       "      <th>Date</th>\n",
       "      <th>Open</th>\n",
       "      <th>High</th>\n",
       "      <th>Low</th>\n",
       "      <th>Close</th>\n",
       "      <th>Adj Close</th>\n",
       "      <th>Volume</th>\n",
       "    </tr>\n",
       "  </thead>\n",
       "  <tbody>\n",
       "    <tr>\n",
       "      <th>0</th>\n",
       "      <td>2010-01-01</td>\n",
       "      <td>15.48</td>\n",
       "      <td>16.280001</td>\n",
       "      <td>11.04</td>\n",
       "      <td>11.26</td>\n",
       "      <td>9.155951</td>\n",
       "      <td>90731000</td>\n",
       "    </tr>\n",
       "    <tr>\n",
       "      <th>1</th>\n",
       "      <td>2010-02-01</td>\n",
       "      <td>11.32</td>\n",
       "      <td>13.520000</td>\n",
       "      <td>11.24</td>\n",
       "      <td>12.34</td>\n",
       "      <td>10.034142</td>\n",
       "      <td>63899000</td>\n",
       "    </tr>\n",
       "    <tr>\n",
       "      <th>2</th>\n",
       "      <td>2010-03-01</td>\n",
       "      <td>12.48</td>\n",
       "      <td>14.500000</td>\n",
       "      <td>11.98</td>\n",
       "      <td>14.16</td>\n",
       "      <td>11.514055</td>\n",
       "      <td>53912000</td>\n",
       "    </tr>\n",
       "    <tr>\n",
       "      <th>3</th>\n",
       "      <td>2010-04-01</td>\n",
       "      <td>14.20</td>\n",
       "      <td>15.980000</td>\n",
       "      <td>14.12</td>\n",
       "      <td>15.26</td>\n",
       "      <td>12.408509</td>\n",
       "      <td>56518000</td>\n",
       "    </tr>\n",
       "    <tr>\n",
       "      <th>4</th>\n",
       "      <td>2010-05-01</td>\n",
       "      <td>15.46</td>\n",
       "      <td>18.540001</td>\n",
       "      <td>14.24</td>\n",
       "      <td>17.98</td>\n",
       "      <td>14.620247</td>\n",
       "      <td>128512900</td>\n",
       "    </tr>\n",
       "  </tbody>\n",
       "</table>\n",
       "</div>"
      ],
      "text/plain": [
       "         Date   Open       High    Low  Close  Adj Close     Volume\n",
       "0  2010-01-01  15.48  16.280001  11.04  11.26   9.155951   90731000\n",
       "1  2010-02-01  11.32  13.520000  11.24  12.34  10.034142   63899000\n",
       "2  2010-03-01  12.48  14.500000  11.98  14.16  11.514055   53912000\n",
       "3  2010-04-01  14.20  15.980000  14.12  15.26  12.408509   56518000\n",
       "4  2010-05-01  15.46  18.540001  14.24  17.98  14.620247  128512900"
      ]
     },
     "execution_count": 5,
     "metadata": {},
     "output_type": "execute_result"
    }
   ],
   "source": [
    "TMUS_df.head()"
   ]
  },
  {
   "cell_type": "code",
   "execution_count": 6,
   "metadata": {},
   "outputs": [
    {
     "data": {
      "text/html": [
       "<div>\n",
       "<style scoped>\n",
       "    .dataframe tbody tr th:only-of-type {\n",
       "        vertical-align: middle;\n",
       "    }\n",
       "\n",
       "    .dataframe tbody tr th {\n",
       "        vertical-align: top;\n",
       "    }\n",
       "\n",
       "    .dataframe thead th {\n",
       "        text-align: right;\n",
       "    }\n",
       "</style>\n",
       "<table border=\"1\" class=\"dataframe\">\n",
       "  <thead>\n",
       "    <tr style=\"text-align: right;\">\n",
       "      <th></th>\n",
       "      <th>Date</th>\n",
       "      <th>Open</th>\n",
       "      <th>High</th>\n",
       "      <th>Low</th>\n",
       "      <th>Close</th>\n",
       "      <th>TMUS</th>\n",
       "      <th>Volume</th>\n",
       "    </tr>\n",
       "  </thead>\n",
       "  <tbody>\n",
       "    <tr>\n",
       "      <th>0</th>\n",
       "      <td>2010-01-01</td>\n",
       "      <td>15.48</td>\n",
       "      <td>16.280001</td>\n",
       "      <td>11.04</td>\n",
       "      <td>11.26</td>\n",
       "      <td>9.155951</td>\n",
       "      <td>90731000</td>\n",
       "    </tr>\n",
       "    <tr>\n",
       "      <th>1</th>\n",
       "      <td>2010-02-01</td>\n",
       "      <td>11.32</td>\n",
       "      <td>13.520000</td>\n",
       "      <td>11.24</td>\n",
       "      <td>12.34</td>\n",
       "      <td>10.034142</td>\n",
       "      <td>63899000</td>\n",
       "    </tr>\n",
       "    <tr>\n",
       "      <th>2</th>\n",
       "      <td>2010-03-01</td>\n",
       "      <td>12.48</td>\n",
       "      <td>14.500000</td>\n",
       "      <td>11.98</td>\n",
       "      <td>14.16</td>\n",
       "      <td>11.514055</td>\n",
       "      <td>53912000</td>\n",
       "    </tr>\n",
       "    <tr>\n",
       "      <th>3</th>\n",
       "      <td>2010-04-01</td>\n",
       "      <td>14.20</td>\n",
       "      <td>15.980000</td>\n",
       "      <td>14.12</td>\n",
       "      <td>15.26</td>\n",
       "      <td>12.408509</td>\n",
       "      <td>56518000</td>\n",
       "    </tr>\n",
       "    <tr>\n",
       "      <th>4</th>\n",
       "      <td>2010-05-01</td>\n",
       "      <td>15.46</td>\n",
       "      <td>18.540001</td>\n",
       "      <td>14.24</td>\n",
       "      <td>17.98</td>\n",
       "      <td>14.620247</td>\n",
       "      <td>128512900</td>\n",
       "    </tr>\n",
       "  </tbody>\n",
       "</table>\n",
       "</div>"
      ],
      "text/plain": [
       "         Date   Open       High    Low  Close       TMUS     Volume\n",
       "0  2010-01-01  15.48  16.280001  11.04  11.26   9.155951   90731000\n",
       "1  2010-02-01  11.32  13.520000  11.24  12.34  10.034142   63899000\n",
       "2  2010-03-01  12.48  14.500000  11.98  14.16  11.514055   53912000\n",
       "3  2010-04-01  14.20  15.980000  14.12  15.26  12.408509   56518000\n",
       "4  2010-05-01  15.46  18.540001  14.24  17.98  14.620247  128512900"
      ]
     },
     "execution_count": 6,
     "metadata": {},
     "output_type": "execute_result"
    }
   ],
   "source": [
    "TMUS_df = TMUS_df.rename(columns = {'Adj Close': 'TMUS'})\n",
    "TMUS_df.head()"
   ]
  },
  {
   "cell_type": "code",
   "execution_count": 9,
   "metadata": {},
   "outputs": [
    {
     "data": {
      "text/html": [
       "<div>\n",
       "<style scoped>\n",
       "    .dataframe tbody tr th:only-of-type {\n",
       "        vertical-align: middle;\n",
       "    }\n",
       "\n",
       "    .dataframe tbody tr th {\n",
       "        vertical-align: top;\n",
       "    }\n",
       "\n",
       "    .dataframe thead th {\n",
       "        text-align: right;\n",
       "    }\n",
       "</style>\n",
       "<table border=\"1\" class=\"dataframe\">\n",
       "  <thead>\n",
       "    <tr style=\"text-align: right;\">\n",
       "      <th></th>\n",
       "      <th>Date</th>\n",
       "      <th>TMUS</th>\n",
       "    </tr>\n",
       "  </thead>\n",
       "  <tbody>\n",
       "    <tr>\n",
       "      <th>0</th>\n",
       "      <td>2010-01-01</td>\n",
       "      <td>9.155951</td>\n",
       "    </tr>\n",
       "    <tr>\n",
       "      <th>1</th>\n",
       "      <td>2010-02-01</td>\n",
       "      <td>10.034142</td>\n",
       "    </tr>\n",
       "    <tr>\n",
       "      <th>2</th>\n",
       "      <td>2010-03-01</td>\n",
       "      <td>11.514055</td>\n",
       "    </tr>\n",
       "    <tr>\n",
       "      <th>3</th>\n",
       "      <td>2010-04-01</td>\n",
       "      <td>12.408509</td>\n",
       "    </tr>\n",
       "    <tr>\n",
       "      <th>4</th>\n",
       "      <td>2010-05-01</td>\n",
       "      <td>14.620247</td>\n",
       "    </tr>\n",
       "  </tbody>\n",
       "</table>\n",
       "</div>"
      ],
      "text/plain": [
       "         Date       TMUS\n",
       "0  2010-01-01   9.155951\n",
       "1  2010-02-01  10.034142\n",
       "2  2010-03-01  11.514055\n",
       "3  2010-04-01  12.408509\n",
       "4  2010-05-01  14.620247"
      ]
     },
     "execution_count": 9,
     "metadata": {},
     "output_type": "execute_result"
    }
   ],
   "source": [
    "TMUS_clean = TMUS_df[['Date','TMUS']]\n",
    "TMUS_clean.head()"
   ]
  },
  {
   "cell_type": "code",
   "execution_count": 10,
   "metadata": {},
   "outputs": [
    {
     "data": {
      "text/plain": [
       "120"
      ]
     },
     "execution_count": 10,
     "metadata": {},
     "output_type": "execute_result"
    }
   ],
   "source": [
    "len(TMUS_clean)"
   ]
  },
  {
   "cell_type": "code",
   "execution_count": 11,
   "metadata": {},
   "outputs": [
    {
     "data": {
      "text/plain": [
       "120"
      ]
     },
     "execution_count": 11,
     "metadata": {},
     "output_type": "execute_result"
    }
   ],
   "source": [
    "len(TMUS_clean.dropna())"
   ]
  },
  {
   "cell_type": "code",
   "execution_count": null,
   "metadata": {},
   "outputs": [],
   "source": []
  }
 ],
 "metadata": {
  "kernelspec": {
   "display_name": "Python [conda env:PythonData] *",
   "language": "python",
   "name": "conda-env-PythonData-py"
  },
  "language_info": {
   "codemirror_mode": {
    "name": "ipython",
    "version": 3
   },
   "file_extension": ".py",
   "mimetype": "text/x-python",
   "name": "python",
   "nbconvert_exporter": "python",
   "pygments_lexer": "ipython3",
   "version": "3.8.2"
  }
 },
 "nbformat": 4,
 "nbformat_minor": 4
}

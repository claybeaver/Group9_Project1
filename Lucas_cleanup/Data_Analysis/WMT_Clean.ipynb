{
 "cells": [
  {
   "cell_type": "code",
   "execution_count": 1,
   "metadata": {},
   "outputs": [],
   "source": [
    "import pandas as pd"
   ]
  },
  {
   "cell_type": "code",
   "execution_count": 2,
   "metadata": {},
   "outputs": [],
   "source": [
    "WMT_df = pd.read_csv(\"WMT.csv\")"
   ]
  },
  {
   "cell_type": "code",
   "execution_count": 3,
   "metadata": {},
   "outputs": [
    {
     "data": {
      "text/html": [
       "<div>\n",
       "<style scoped>\n",
       "    .dataframe tbody tr th:only-of-type {\n",
       "        vertical-align: middle;\n",
       "    }\n",
       "\n",
       "    .dataframe tbody tr th {\n",
       "        vertical-align: top;\n",
       "    }\n",
       "\n",
       "    .dataframe thead th {\n",
       "        text-align: right;\n",
       "    }\n",
       "</style>\n",
       "<table border=\"1\" class=\"dataframe\">\n",
       "  <thead>\n",
       "    <tr style=\"text-align: right;\">\n",
       "      <th></th>\n",
       "      <th>Date</th>\n",
       "      <th>Open</th>\n",
       "      <th>High</th>\n",
       "      <th>Low</th>\n",
       "      <th>Close</th>\n",
       "      <th>Adj Close</th>\n",
       "      <th>Volume</th>\n",
       "    </tr>\n",
       "  </thead>\n",
       "  <tbody>\n",
       "    <tr>\n",
       "      <th>0</th>\n",
       "      <td>2010-01-01</td>\n",
       "      <td>53.740002</td>\n",
       "      <td>55.200001</td>\n",
       "      <td>52.509998</td>\n",
       "      <td>53.430000</td>\n",
       "      <td>41.107609</td>\n",
       "      <td>291591500</td>\n",
       "    </tr>\n",
       "    <tr>\n",
       "      <th>1</th>\n",
       "      <td>2010-02-01</td>\n",
       "      <td>53.619999</td>\n",
       "      <td>54.500000</td>\n",
       "      <td>52.660000</td>\n",
       "      <td>54.070000</td>\n",
       "      <td>41.599998</td>\n",
       "      <td>278505000</td>\n",
       "    </tr>\n",
       "    <tr>\n",
       "      <th>2</th>\n",
       "      <td>2010-03-01</td>\n",
       "      <td>54.040001</td>\n",
       "      <td>56.270000</td>\n",
       "      <td>53.150002</td>\n",
       "      <td>55.599998</td>\n",
       "      <td>42.777157</td>\n",
       "      <td>270764400</td>\n",
       "    </tr>\n",
       "    <tr>\n",
       "      <th>3</th>\n",
       "      <td>2010-04-01</td>\n",
       "      <td>55.750000</td>\n",
       "      <td>55.900002</td>\n",
       "      <td>53.520000</td>\n",
       "      <td>53.639999</td>\n",
       "      <td>41.501411</td>\n",
       "      <td>282951100</td>\n",
       "    </tr>\n",
       "    <tr>\n",
       "      <th>4</th>\n",
       "      <td>2010-05-01</td>\n",
       "      <td>53.880001</td>\n",
       "      <td>54.950001</td>\n",
       "      <td>50.000000</td>\n",
       "      <td>50.560001</td>\n",
       "      <td>39.118404</td>\n",
       "      <td>398119000</td>\n",
       "    </tr>\n",
       "  </tbody>\n",
       "</table>\n",
       "</div>"
      ],
      "text/plain": [
       "         Date       Open       High        Low      Close  Adj Close  \\\n",
       "0  2010-01-01  53.740002  55.200001  52.509998  53.430000  41.107609   \n",
       "1  2010-02-01  53.619999  54.500000  52.660000  54.070000  41.599998   \n",
       "2  2010-03-01  54.040001  56.270000  53.150002  55.599998  42.777157   \n",
       "3  2010-04-01  55.750000  55.900002  53.520000  53.639999  41.501411   \n",
       "4  2010-05-01  53.880001  54.950001  50.000000  50.560001  39.118404   \n",
       "\n",
       "      Volume  \n",
       "0  291591500  \n",
       "1  278505000  \n",
       "2  270764400  \n",
       "3  282951100  \n",
       "4  398119000  "
      ]
     },
     "execution_count": 3,
     "metadata": {},
     "output_type": "execute_result"
    }
   ],
   "source": [
    "WMT_df.head()"
   ]
  },
  {
   "cell_type": "code",
   "execution_count": 4,
   "metadata": {},
   "outputs": [
    {
     "data": {
      "text/html": [
       "<div>\n",
       "<style scoped>\n",
       "    .dataframe tbody tr th:only-of-type {\n",
       "        vertical-align: middle;\n",
       "    }\n",
       "\n",
       "    .dataframe tbody tr th {\n",
       "        vertical-align: top;\n",
       "    }\n",
       "\n",
       "    .dataframe thead th {\n",
       "        text-align: right;\n",
       "    }\n",
       "</style>\n",
       "<table border=\"1\" class=\"dataframe\">\n",
       "  <thead>\n",
       "    <tr style=\"text-align: right;\">\n",
       "      <th></th>\n",
       "      <th>Date</th>\n",
       "      <th>Open</th>\n",
       "      <th>High</th>\n",
       "      <th>Low</th>\n",
       "      <th>Close</th>\n",
       "      <th>WMT</th>\n",
       "      <th>Volume</th>\n",
       "    </tr>\n",
       "  </thead>\n",
       "  <tbody>\n",
       "    <tr>\n",
       "      <th>0</th>\n",
       "      <td>2010-01-01</td>\n",
       "      <td>53.740002</td>\n",
       "      <td>55.200001</td>\n",
       "      <td>52.509998</td>\n",
       "      <td>53.430000</td>\n",
       "      <td>41.107609</td>\n",
       "      <td>291591500</td>\n",
       "    </tr>\n",
       "    <tr>\n",
       "      <th>1</th>\n",
       "      <td>2010-02-01</td>\n",
       "      <td>53.619999</td>\n",
       "      <td>54.500000</td>\n",
       "      <td>52.660000</td>\n",
       "      <td>54.070000</td>\n",
       "      <td>41.599998</td>\n",
       "      <td>278505000</td>\n",
       "    </tr>\n",
       "    <tr>\n",
       "      <th>2</th>\n",
       "      <td>2010-03-01</td>\n",
       "      <td>54.040001</td>\n",
       "      <td>56.270000</td>\n",
       "      <td>53.150002</td>\n",
       "      <td>55.599998</td>\n",
       "      <td>42.777157</td>\n",
       "      <td>270764400</td>\n",
       "    </tr>\n",
       "    <tr>\n",
       "      <th>3</th>\n",
       "      <td>2010-04-01</td>\n",
       "      <td>55.750000</td>\n",
       "      <td>55.900002</td>\n",
       "      <td>53.520000</td>\n",
       "      <td>53.639999</td>\n",
       "      <td>41.501411</td>\n",
       "      <td>282951100</td>\n",
       "    </tr>\n",
       "    <tr>\n",
       "      <th>4</th>\n",
       "      <td>2010-05-01</td>\n",
       "      <td>53.880001</td>\n",
       "      <td>54.950001</td>\n",
       "      <td>50.000000</td>\n",
       "      <td>50.560001</td>\n",
       "      <td>39.118404</td>\n",
       "      <td>398119000</td>\n",
       "    </tr>\n",
       "  </tbody>\n",
       "</table>\n",
       "</div>"
      ],
      "text/plain": [
       "         Date       Open       High        Low      Close        WMT  \\\n",
       "0  2010-01-01  53.740002  55.200001  52.509998  53.430000  41.107609   \n",
       "1  2010-02-01  53.619999  54.500000  52.660000  54.070000  41.599998   \n",
       "2  2010-03-01  54.040001  56.270000  53.150002  55.599998  42.777157   \n",
       "3  2010-04-01  55.750000  55.900002  53.520000  53.639999  41.501411   \n",
       "4  2010-05-01  53.880001  54.950001  50.000000  50.560001  39.118404   \n",
       "\n",
       "      Volume  \n",
       "0  291591500  \n",
       "1  278505000  \n",
       "2  270764400  \n",
       "3  282951100  \n",
       "4  398119000  "
      ]
     },
     "execution_count": 4,
     "metadata": {},
     "output_type": "execute_result"
    }
   ],
   "source": [
    "WMT_df = WMT_df.rename(columns = {'Adj Close': 'WMT'})\n",
    "WMT_df.head()"
   ]
  },
  {
   "cell_type": "code",
   "execution_count": 5,
   "metadata": {},
   "outputs": [
    {
     "data": {
      "text/html": [
       "<div>\n",
       "<style scoped>\n",
       "    .dataframe tbody tr th:only-of-type {\n",
       "        vertical-align: middle;\n",
       "    }\n",
       "\n",
       "    .dataframe tbody tr th {\n",
       "        vertical-align: top;\n",
       "    }\n",
       "\n",
       "    .dataframe thead th {\n",
       "        text-align: right;\n",
       "    }\n",
       "</style>\n",
       "<table border=\"1\" class=\"dataframe\">\n",
       "  <thead>\n",
       "    <tr style=\"text-align: right;\">\n",
       "      <th></th>\n",
       "      <th>Date</th>\n",
       "      <th>WMT</th>\n",
       "    </tr>\n",
       "  </thead>\n",
       "  <tbody>\n",
       "    <tr>\n",
       "      <th>0</th>\n",
       "      <td>2010-01-01</td>\n",
       "      <td>41.107609</td>\n",
       "    </tr>\n",
       "    <tr>\n",
       "      <th>1</th>\n",
       "      <td>2010-02-01</td>\n",
       "      <td>41.599998</td>\n",
       "    </tr>\n",
       "    <tr>\n",
       "      <th>2</th>\n",
       "      <td>2010-03-01</td>\n",
       "      <td>42.777157</td>\n",
       "    </tr>\n",
       "    <tr>\n",
       "      <th>3</th>\n",
       "      <td>2010-04-01</td>\n",
       "      <td>41.501411</td>\n",
       "    </tr>\n",
       "    <tr>\n",
       "      <th>4</th>\n",
       "      <td>2010-05-01</td>\n",
       "      <td>39.118404</td>\n",
       "    </tr>\n",
       "  </tbody>\n",
       "</table>\n",
       "</div>"
      ],
      "text/plain": [
       "         Date        WMT\n",
       "0  2010-01-01  41.107609\n",
       "1  2010-02-01  41.599998\n",
       "2  2010-03-01  42.777157\n",
       "3  2010-04-01  41.501411\n",
       "4  2010-05-01  39.118404"
      ]
     },
     "execution_count": 5,
     "metadata": {},
     "output_type": "execute_result"
    }
   ],
   "source": [
    "WMT_clean = WMT_df[['Date','WMT']]\n",
    "WMT_clean.head()\n"
   ]
  },
  {
   "cell_type": "code",
   "execution_count": 6,
   "metadata": {},
   "outputs": [
    {
     "data": {
      "text/plain": [
       "120"
      ]
     },
     "execution_count": 6,
     "metadata": {},
     "output_type": "execute_result"
    }
   ],
   "source": [
    "len(WMT_clean)"
   ]
  },
  {
   "cell_type": "code",
   "execution_count": 7,
   "metadata": {},
   "outputs": [
    {
     "data": {
      "text/plain": [
       "120"
      ]
     },
     "execution_count": 7,
     "metadata": {},
     "output_type": "execute_result"
    }
   ],
   "source": [
    "len(WMT_clean.dropna())"
   ]
  },
  {
   "cell_type": "code",
   "execution_count": null,
   "metadata": {},
   "outputs": [],
   "source": []
  }
 ],
 "metadata": {
  "kernelspec": {
   "display_name": "Python [conda env:PythonData] *",
   "language": "python",
   "name": "conda-env-PythonData-py"
  },
  "language_info": {
   "codemirror_mode": {
    "name": "ipython",
    "version": 3
   },
   "file_extension": ".py",
   "mimetype": "text/x-python",
   "name": "python",
   "nbconvert_exporter": "python",
   "pygments_lexer": "ipython3",
   "version": "3.8.2"
  }
 },
 "nbformat": 4,
 "nbformat_minor": 4
}

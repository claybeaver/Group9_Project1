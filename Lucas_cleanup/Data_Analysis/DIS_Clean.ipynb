{
 "cells": [
  {
   "cell_type": "code",
   "execution_count": 1,
   "metadata": {},
   "outputs": [],
   "source": [
    "import pandas as pd"
   ]
  },
  {
   "cell_type": "code",
   "execution_count": 2,
   "metadata": {},
   "outputs": [],
   "source": [
    "DIS_df = pd.read_csv('DIS.csv')"
   ]
  },
  {
   "cell_type": "code",
   "execution_count": 3,
   "metadata": {},
   "outputs": [
    {
     "data": {
      "text/html": [
       "<div>\n",
       "<style scoped>\n",
       "    .dataframe tbody tr th:only-of-type {\n",
       "        vertical-align: middle;\n",
       "    }\n",
       "\n",
       "    .dataframe tbody tr th {\n",
       "        vertical-align: top;\n",
       "    }\n",
       "\n",
       "    .dataframe thead th {\n",
       "        text-align: right;\n",
       "    }\n",
       "</style>\n",
       "<table border=\"1\" class=\"dataframe\">\n",
       "  <thead>\n",
       "    <tr style=\"text-align: right;\">\n",
       "      <th></th>\n",
       "      <th>Date</th>\n",
       "      <th>Open</th>\n",
       "      <th>High</th>\n",
       "      <th>Low</th>\n",
       "      <th>Close</th>\n",
       "      <th>Adj Close</th>\n",
       "      <th>Volume</th>\n",
       "    </tr>\n",
       "  </thead>\n",
       "  <tbody>\n",
       "    <tr>\n",
       "      <th>0</th>\n",
       "      <td>2010-01-01</td>\n",
       "      <td>32.500000</td>\n",
       "      <td>32.750000</td>\n",
       "      <td>28.709999</td>\n",
       "      <td>29.549999</td>\n",
       "      <td>25.738926</td>\n",
       "      <td>232174700</td>\n",
       "    </tr>\n",
       "    <tr>\n",
       "      <th>1</th>\n",
       "      <td>2010-02-01</td>\n",
       "      <td>29.600000</td>\n",
       "      <td>31.520000</td>\n",
       "      <td>28.990000</td>\n",
       "      <td>31.240000</td>\n",
       "      <td>27.210964</td>\n",
       "      <td>230552400</td>\n",
       "    </tr>\n",
       "    <tr>\n",
       "      <th>2</th>\n",
       "      <td>2010-03-01</td>\n",
       "      <td>31.400000</td>\n",
       "      <td>35.599998</td>\n",
       "      <td>31.340000</td>\n",
       "      <td>34.910000</td>\n",
       "      <td>30.407646</td>\n",
       "      <td>306740800</td>\n",
       "    </tr>\n",
       "    <tr>\n",
       "      <th>3</th>\n",
       "      <td>2010-04-01</td>\n",
       "      <td>35.070000</td>\n",
       "      <td>37.490002</td>\n",
       "      <td>35.009998</td>\n",
       "      <td>36.840000</td>\n",
       "      <td>32.088741</td>\n",
       "      <td>237911900</td>\n",
       "    </tr>\n",
       "    <tr>\n",
       "      <th>4</th>\n",
       "      <td>2010-05-01</td>\n",
       "      <td>36.950001</td>\n",
       "      <td>37.980000</td>\n",
       "      <td>31.000000</td>\n",
       "      <td>33.419998</td>\n",
       "      <td>29.109810</td>\n",
       "      <td>381609800</td>\n",
       "    </tr>\n",
       "  </tbody>\n",
       "</table>\n",
       "</div>"
      ],
      "text/plain": [
       "         Date       Open       High        Low      Close  Adj Close  \\\n",
       "0  2010-01-01  32.500000  32.750000  28.709999  29.549999  25.738926   \n",
       "1  2010-02-01  29.600000  31.520000  28.990000  31.240000  27.210964   \n",
       "2  2010-03-01  31.400000  35.599998  31.340000  34.910000  30.407646   \n",
       "3  2010-04-01  35.070000  37.490002  35.009998  36.840000  32.088741   \n",
       "4  2010-05-01  36.950001  37.980000  31.000000  33.419998  29.109810   \n",
       "\n",
       "      Volume  \n",
       "0  232174700  \n",
       "1  230552400  \n",
       "2  306740800  \n",
       "3  237911900  \n",
       "4  381609800  "
      ]
     },
     "execution_count": 3,
     "metadata": {},
     "output_type": "execute_result"
    }
   ],
   "source": [
    "DIS_df.head()"
   ]
  },
  {
   "cell_type": "code",
   "execution_count": 4,
   "metadata": {},
   "outputs": [
    {
     "data": {
      "text/html": [
       "<div>\n",
       "<style scoped>\n",
       "    .dataframe tbody tr th:only-of-type {\n",
       "        vertical-align: middle;\n",
       "    }\n",
       "\n",
       "    .dataframe tbody tr th {\n",
       "        vertical-align: top;\n",
       "    }\n",
       "\n",
       "    .dataframe thead th {\n",
       "        text-align: right;\n",
       "    }\n",
       "</style>\n",
       "<table border=\"1\" class=\"dataframe\">\n",
       "  <thead>\n",
       "    <tr style=\"text-align: right;\">\n",
       "      <th></th>\n",
       "      <th>Date</th>\n",
       "      <th>Open</th>\n",
       "      <th>High</th>\n",
       "      <th>Low</th>\n",
       "      <th>Close</th>\n",
       "      <th>DIS</th>\n",
       "      <th>Volume</th>\n",
       "    </tr>\n",
       "  </thead>\n",
       "  <tbody>\n",
       "    <tr>\n",
       "      <th>0</th>\n",
       "      <td>2010-01-01</td>\n",
       "      <td>32.500000</td>\n",
       "      <td>32.750000</td>\n",
       "      <td>28.709999</td>\n",
       "      <td>29.549999</td>\n",
       "      <td>25.738926</td>\n",
       "      <td>232174700</td>\n",
       "    </tr>\n",
       "    <tr>\n",
       "      <th>1</th>\n",
       "      <td>2010-02-01</td>\n",
       "      <td>29.600000</td>\n",
       "      <td>31.520000</td>\n",
       "      <td>28.990000</td>\n",
       "      <td>31.240000</td>\n",
       "      <td>27.210964</td>\n",
       "      <td>230552400</td>\n",
       "    </tr>\n",
       "    <tr>\n",
       "      <th>2</th>\n",
       "      <td>2010-03-01</td>\n",
       "      <td>31.400000</td>\n",
       "      <td>35.599998</td>\n",
       "      <td>31.340000</td>\n",
       "      <td>34.910000</td>\n",
       "      <td>30.407646</td>\n",
       "      <td>306740800</td>\n",
       "    </tr>\n",
       "    <tr>\n",
       "      <th>3</th>\n",
       "      <td>2010-04-01</td>\n",
       "      <td>35.070000</td>\n",
       "      <td>37.490002</td>\n",
       "      <td>35.009998</td>\n",
       "      <td>36.840000</td>\n",
       "      <td>32.088741</td>\n",
       "      <td>237911900</td>\n",
       "    </tr>\n",
       "    <tr>\n",
       "      <th>4</th>\n",
       "      <td>2010-05-01</td>\n",
       "      <td>36.950001</td>\n",
       "      <td>37.980000</td>\n",
       "      <td>31.000000</td>\n",
       "      <td>33.419998</td>\n",
       "      <td>29.109810</td>\n",
       "      <td>381609800</td>\n",
       "    </tr>\n",
       "  </tbody>\n",
       "</table>\n",
       "</div>"
      ],
      "text/plain": [
       "         Date       Open       High        Low      Close        DIS  \\\n",
       "0  2010-01-01  32.500000  32.750000  28.709999  29.549999  25.738926   \n",
       "1  2010-02-01  29.600000  31.520000  28.990000  31.240000  27.210964   \n",
       "2  2010-03-01  31.400000  35.599998  31.340000  34.910000  30.407646   \n",
       "3  2010-04-01  35.070000  37.490002  35.009998  36.840000  32.088741   \n",
       "4  2010-05-01  36.950001  37.980000  31.000000  33.419998  29.109810   \n",
       "\n",
       "      Volume  \n",
       "0  232174700  \n",
       "1  230552400  \n",
       "2  306740800  \n",
       "3  237911900  \n",
       "4  381609800  "
      ]
     },
     "execution_count": 4,
     "metadata": {},
     "output_type": "execute_result"
    }
   ],
   "source": [
    "DIS_df = DIS_df.rename(columns = {'Adj Close': 'DIS'})\n",
    "DIS_df.head()"
   ]
  },
  {
   "cell_type": "code",
   "execution_count": 6,
   "metadata": {},
   "outputs": [
    {
     "data": {
      "text/html": [
       "<div>\n",
       "<style scoped>\n",
       "    .dataframe tbody tr th:only-of-type {\n",
       "        vertical-align: middle;\n",
       "    }\n",
       "\n",
       "    .dataframe tbody tr th {\n",
       "        vertical-align: top;\n",
       "    }\n",
       "\n",
       "    .dataframe thead th {\n",
       "        text-align: right;\n",
       "    }\n",
       "</style>\n",
       "<table border=\"1\" class=\"dataframe\">\n",
       "  <thead>\n",
       "    <tr style=\"text-align: right;\">\n",
       "      <th></th>\n",
       "      <th>Date</th>\n",
       "      <th>DIS</th>\n",
       "    </tr>\n",
       "  </thead>\n",
       "  <tbody>\n",
       "    <tr>\n",
       "      <th>0</th>\n",
       "      <td>2010-01-01</td>\n",
       "      <td>25.738926</td>\n",
       "    </tr>\n",
       "    <tr>\n",
       "      <th>1</th>\n",
       "      <td>2010-02-01</td>\n",
       "      <td>27.210964</td>\n",
       "    </tr>\n",
       "    <tr>\n",
       "      <th>2</th>\n",
       "      <td>2010-03-01</td>\n",
       "      <td>30.407646</td>\n",
       "    </tr>\n",
       "    <tr>\n",
       "      <th>3</th>\n",
       "      <td>2010-04-01</td>\n",
       "      <td>32.088741</td>\n",
       "    </tr>\n",
       "    <tr>\n",
       "      <th>4</th>\n",
       "      <td>2010-05-01</td>\n",
       "      <td>29.109810</td>\n",
       "    </tr>\n",
       "  </tbody>\n",
       "</table>\n",
       "</div>"
      ],
      "text/plain": [
       "         Date        DIS\n",
       "0  2010-01-01  25.738926\n",
       "1  2010-02-01  27.210964\n",
       "2  2010-03-01  30.407646\n",
       "3  2010-04-01  32.088741\n",
       "4  2010-05-01  29.109810"
      ]
     },
     "execution_count": 6,
     "metadata": {},
     "output_type": "execute_result"
    }
   ],
   "source": [
    "DIS_clean = DIS_df[['Date','DIS']]\n",
    "DIS_clean.head()"
   ]
  },
  {
   "cell_type": "code",
   "execution_count": 7,
   "metadata": {},
   "outputs": [
    {
     "data": {
      "text/plain": [
       "120"
      ]
     },
     "execution_count": 7,
     "metadata": {},
     "output_type": "execute_result"
    }
   ],
   "source": [
    "len(DIS_clean)"
   ]
  },
  {
   "cell_type": "code",
   "execution_count": 8,
   "metadata": {},
   "outputs": [
    {
     "data": {
      "text/plain": [
       "120"
      ]
     },
     "execution_count": 8,
     "metadata": {},
     "output_type": "execute_result"
    }
   ],
   "source": [
    "len(DIS_clean.dropna())"
   ]
  },
  {
   "cell_type": "code",
   "execution_count": null,
   "metadata": {},
   "outputs": [],
   "source": []
  }
 ],
 "metadata": {
  "kernelspec": {
   "display_name": "Python [conda env:PythonData] *",
   "language": "python",
   "name": "conda-env-PythonData-py"
  },
  "language_info": {
   "codemirror_mode": {
    "name": "ipython",
    "version": 3
   },
   "file_extension": ".py",
   "mimetype": "text/x-python",
   "name": "python",
   "nbconvert_exporter": "python",
   "pygments_lexer": "ipython3",
   "version": "3.8.2"
  }
 },
 "nbformat": 4,
 "nbformat_minor": 4
}
